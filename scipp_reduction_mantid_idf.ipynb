{
 "cells": [
  {
   "cell_type": "markdown",
   "id": "9a935df3-c816-4829-99c3-2afa979b7611",
   "metadata": {},
   "source": [
    "# Data reduction workflow for LOKI detector test\n",
    "\n",
    "The main purpose of this notebook is to compare data reduction workflows in scipp and Mantid. The workflow utilizes the direct_beam function generated using the Mantid script. It is also possible to run data reduction without direct_beam function.\n",
    "\n",
    "The workflow involves several steps:\n",
    "* Load added Mantid data files with load\n",
    "* Apply LoadInstrument\n",
    "* Use get real and simulated data to bypass loading from files\n",
    "* Convert Mantid workspaces to scipp \n",
    "* Load masks from Mantid\n",
    "* Load Monitors from Mantid\n",
    "* Run sans.to_I_of_Q\n",
    "\n"
   ]
  },
  {
   "cell_type": "code",
   "execution_count": 1,
   "id": "8c7f7cf7-0582-4953-a772-a0f87d1cf0e2",
   "metadata": {},
   "outputs": [
    {
     "name": "stdout",
     "output_type": "stream",
     "text": [
      "FrameworkManager-[Notice] Welcome to Mantid 6.7.0\n",
      "FrameworkManager-[Notice] Please cite: http://dx.doi.org/10.1016/j.nima.2014.07.029 and this release: http://dx.doi.org/10.5286/Software/Mantid6.7\n",
      "CheckMantidVersion-[Notice] A new version of Mantid(6.8.0) is available for download from https://download.mantidproject.org\n",
      "DownloadInstrument-[Notice] All instrument definitions up to date\n"
     ]
    }
   ],
   "source": [
    "import matplotlib.pyplot as plt\n",
    "import scipp as sc\n",
    "from ess import loki, sans\n",
    "import scippneutron as scn\n",
    "import plopp as pp\n",
    "\n",
    "from mantid.simpleapi import *\n",
    "from mantid.api import AnalysisDataService as ADS\n",
    "\n",
    "%matplotlib widget"
   ]
  },
  {
   "cell_type": "markdown",
   "id": "b5d36f11-9903-48f8-a626-86f137995681",
   "metadata": {},
   "source": [
    "## Define reduction workflow parameters\n",
    "\n",
    "We define here whether to include the effects of gravity,\n",
    "as well as common time-of-flight, wavelength and $Q$ bins for all the measurements.\n",
    "\n",
    "We also define a range of wavelengths for the monitors that are considered to not be part of the background."
   ]
  },
  {
   "cell_type": "code",
   "execution_count": 2,
   "id": "239166d6-d62f-46e9-8316-83c26f0f05ce",
   "metadata": {},
   "outputs": [],
   "source": [
    "# Include effects of gravity?\n",
    "gravity = True\n",
    "\n",
    "#TODO: Using same wavelengths bins as direct beam is defined for but it may be different range (0.9-13.5)\n",
    "wavelength_bins = sc.linspace(dim='wavelength', start=2.2, stop=12.0, num=50,\n",
    "                              unit='angstrom')\n",
    "\n",
    "q_bins = sc.linspace(dim='Q', start=0.004, stop=0.4, num=111, unit='1/angstrom')\n"
   ]
  },
  {
   "cell_type": "markdown",
   "id": "bafd7ab4-d478-4c96-8196-69029fb221c4",
   "metadata": {},
   "source": [
    "## Loading data files\n"
   ]
  },
  {
   "cell_type": "code",
   "execution_count": 5,
   "id": "0315d002-9cab-4ae4-8f63-c72a532f716b",
   "metadata": {},
   "outputs": [
    {
     "name": "stderr",
     "output_type": "stream",
     "text": [
      "scippneutron.load has been deprecated and is scheduled for removal in scippneutron v24.01.0. Use the new scippneutron.load_with_mantid instead.\n"
     ]
    },
    {
     "name": "stdout",
     "output_type": "stream",
     "text": [
      "Load-[Notice] Load started\n",
      "Load-[Notice] Load successful, Duration 13.35 seconds\n"
     ]
    },
    {
     "name": "stderr",
     "output_type": "stream",
     "text": [
      "scippneutron.array_from_mantid has been deprecated and is scheduled for removal in scippneutron v24.01.0. Use the new scippneutron.from_mantid instead.\n",
      "convert_Workspace2D_to_data_array is deprecated in favor of convert_Workspace2D_to_data_group.\n"
     ]
    },
    {
     "name": "stdout",
     "output_type": "stream",
     "text": [
      "DeleteWorkspace-[Notice] DeleteWorkspace started\n",
      "DeleteWorkspace-[Notice] DeleteWorkspace successful, Duration 0.00 seconds\n",
      "Load-[Notice] Load started\n",
      "ISISRunLogs-[Warning] Cannot find period log. Logs will be not be filtered by current period\n",
      "ISISRunLogs-[Warning] Cannot find periods log. Logs will be not be filtered by current period\n",
      "Load-[Notice] Load successful, Duration 1.03 seconds\n",
      "LoadInstrument-[Notice] LoadInstrument started\n",
      "LoadInstrument-[Warning] The instrument definition filename does not contain _Definition. Your instrument name will be set to: LOKI_test.xml\n",
      "LoadInstrument-[Notice] LoadInstrument successful, Duration 0.04 seconds\n",
      "Load-[Notice] Load started\n",
      "ISISRunLogs-[Warning] Cannot find period log. Logs will be not be filtered by current period\n",
      "ISISRunLogs-[Warning] Cannot find periods log. Logs will be not be filtered by current period\n",
      "Load-[Notice] Load successful, Duration 0.65 seconds\n",
      "LoadInstrument-[Notice] LoadInstrument started\n",
      "LoadInstrument-[Warning] The instrument definition filename does not contain _Definition. Your instrument name will be set to: LOKI_test.xml\n",
      "LoadInstrument-[Notice] LoadInstrument successful, Duration 0.04 seconds\n"
     ]
    }
   ],
   "source": [
    "path = '/Users/wojciechpotrzebowski/SCIPP_SPACE/loki_detector_test/2022-06-24_calibrated_nexus_files/'\n",
    "###########\n",
    "sample_filename = '60395-mantid-add.nxs'\n",
    "sample_trans_runnumber = '60394'\n",
    "empty_beam_runnumber = '60392'\n",
    "#########\n",
    "background_filename='60393-mantid-add.nxs'\n",
    "background_trans_runnumber = '60392'\n",
    "empty_beam_runnumber = '60392'\n",
    "\n",
    "#TODO: Need to update it\n",
    "direct_beam = scn.load(f'{path}/flat_g4_final_15Jun23_10-17.nxs')\n",
    "\n",
    "#idf_file = 'LARMOR_rear_bank_definition_noMonitors.xml'\n",
    "idf_file = 'LOKI_test.xml'\n",
    "nexus_file=Load(path + sample_filename)\n",
    "LoadInstrument(Workspace='nexus_file', Filename=path+idf_file,\n",
    "               MonitorList='', InstrumentName='LOKI', RewriteSpectraMap='True')\n",
    "sample = scn.from_mantid(nexus_file)\n",
    "sample = sample['data']\n",
    "\n",
    "nexus_file=Load(path + background_filename)\n",
    "LoadInstrument(Workspace='nexus_file', Filename=path+idf_file,\n",
    "               MonitorList='', InstrumentName='LOKI', RewriteSpectraMap='True')\n",
    "background = scn.from_mantid(nexus_file)\n",
    "background = background['data']\n",
    "\n",
    "ds = {'sample': sample, \n",
    "      'background': background}\n"
   ]
  },
  {
   "cell_type": "markdown",
   "id": "e3b0b991-85c4-40fe-a903-74b43716a155",
   "metadata": {},
   "source": [
    "## Apply corrections to pixel positions\n",
    "\n",
    "We apply some corrections to the detector pixel and monitor positions,\n",
    "as the geometry stored in the file is inaccurate."
   ]
  },
  {
   "cell_type": "code",
   "execution_count": 6,
   "id": "b616d643-8504-4eda-ba7a-bb73b85e7b80",
   "metadata": {},
   "outputs": [],
   "source": [
    "for da in ds.values():    \n",
    "    #Mimiciking no solid angle correction\n",
    "    L2 = scn.L2(da)\n",
    "    da.coords[\"pixel_width\"] = L2\n",
    "    da.coords[\"pixel_height\"] = L2\n",
    "    # #Coordinates from BCF\n",
    "    x_offset = -0.0035 * sc.units.m\n",
    "    y_offset = -0.0035 * sc.units.m\n",
    "    \n",
    "    da.coords['position'].fields.x += x_offset\n",
    "    da.coords['position'].fields.y += y_offset\n"
   ]
  },
  {
   "cell_type": "markdown",
   "id": "eeb81dd1-078a-495b-8cff-49c474be65dd",
   "metadata": {},
   "source": [
    "## Masking\n",
    "\n",
    "We mask the edges of the detector, which are usually noisy.\n",
    "We also mask the region close to the center of the beam,\n",
    "so as to not include saturated pixels in our data reduction."
   ]
  },
  {
   "cell_type": "code",
   "execution_count": 7,
   "id": "e54e6899-4842-4b91-82ab-15c5ceef5edb",
   "metadata": {},
   "outputs": [
    {
     "name": "stderr",
     "output_type": "stream",
     "text": [
      "scippneutron.load has been deprecated and is scheduled for removal in scippneutron v24.01.0. Use the new scippneutron.load_with_mantid instead.\n"
     ]
    },
    {
     "name": "stdout",
     "output_type": "stream",
     "text": [
      "LoadMask-[Notice] LoadMask started\n",
      "LoadInstrument-[Warning] The instrument definition filename does not contain _Definition. Your instrument name will be set to: LOKI_test.xml\n"
     ]
    },
    {
     "name": "stderr",
     "output_type": "stream",
     "text": [
      "scippneutron.array_from_mantid has been deprecated and is scheduled for removal in scippneutron v24.01.0. Use the new scippneutron.from_mantid instead.\n",
      "convert_Workspace2D_to_data_array is deprecated in favor of convert_Workspace2D_to_data_group.\n"
     ]
    },
    {
     "name": "stdout",
     "output_type": "stream",
     "text": [
      "LoadMask-[Notice] LoadMask successful, Duration 0.38 seconds\n",
      "DeleteWorkspace-[Notice] DeleteWorkspace started\n",
      "DeleteWorkspace-[Notice] DeleteWorkspace successful, Duration 0.00 seconds\n",
      "LoadMask-[Notice] LoadMask started\n",
      "LoadInstrument-[Warning] The instrument definition filename does not contain _Definition. Your instrument name will be set to: LOKI_test.xml\n"
     ]
    },
    {
     "name": "stderr",
     "output_type": "stream",
     "text": [
      "scippneutron.load has been deprecated and is scheduled for removal in scippneutron v24.01.0. Use the new scippneutron.load_with_mantid instead.\n",
      "scippneutron.array_from_mantid has been deprecated and is scheduled for removal in scippneutron v24.01.0. Use the new scippneutron.from_mantid instead.\n",
      "convert_Workspace2D_to_data_array is deprecated in favor of convert_Workspace2D_to_data_group.\n"
     ]
    },
    {
     "name": "stdout",
     "output_type": "stream",
     "text": [
      "LoadMask-[Notice] LoadMask successful, Duration 0.43 seconds\n",
      "DeleteWorkspace-[Notice] DeleteWorkspace started\n",
      "DeleteWorkspace-[Notice] DeleteWorkspace successful, Duration 0.00 seconds\n"
     ]
    }
   ],
   "source": [
    "#Loading Mantid masks\n",
    "idf_filename = f'{path}/LOKI_test.xml'\n",
    "mask_file = f'{path}/mask_new_July2022.xml'\n",
    "mask_all = scn.load(filename=idf_filename, mantid_alg=\"LoadMask\", mantid_args={\"InputFile\": mask_file})\n",
    "mask_file = f'{path}/mask_straws.xml' \n",
    "mask_straw = scn.load(filename=idf_filename, mantid_alg=\"LoadMask\", mantid_args={\"InputFile\": mask_file})\n",
    "\n",
    "\n",
    "for da in ds.values():\n",
    "    da.masks['all'] = mask_all.data\n",
    "    da.masks['straws'] = mask_straw.data"
   ]
  },
  {
   "cell_type": "code",
   "execution_count": 8,
   "id": "4e744136-65c2-44c1-9e16-a274a78ec400",
   "metadata": {},
   "outputs": [
    {
     "data": {
      "application/vnd.jupyter.widget-view+json": {
       "model_id": "366e740cedec41708a7ba13285b92b85",
       "version_major": 2,
       "version_minor": 0
      },
      "text/plain": [
       "Box(children=(Figure(children=(HBar(children=(HTML(value=''),)), HBox(children=(VBar(children=(Toolbar(childre…"
      ]
     },
     "execution_count": 8,
     "metadata": {},
     "output_type": "execute_result"
    }
   ],
   "source": [
    "scn.instrument_view(ds['sample'].hist(), pixel_size=0.0075)"
   ]
  },
  {
   "cell_type": "markdown",
   "id": "fbdf4c28-1135-4946-a07c-3fe70250a0e4",
   "metadata": {},
   "source": [
    "We can inspect that the coordinate corrections and masking were applied correctly by opening the instrument view."
   ]
  },
  {
   "cell_type": "markdown",
   "id": "eef1cb3a-d3e8-4d5c-88fa-3ea5e3cdeb01",
   "metadata": {},
   "source": [
    "### Mask Bragg peaks in wavelength\n",
    "\n",
    "We will now take out the time regions with Bragg peaks from the beam stop and detector window, although in reality the peaks appear only close to the beam stop, and will make little difference to\n",
    "\n",
    "This could be implemented as masking specific time bins for a specific region in space, but for now we keep it simple.\n",
    "\n",
    "Note: For the purpose of this exercise we don't apply any mask here"
   ]
  },
  {
   "cell_type": "code",
   "execution_count": 9,
   "id": "dd51368b-82b4-447d-a36a-345f134db264",
   "metadata": {},
   "outputs": [],
   "source": [
    "wavelength_mask = None"
   ]
  },
  {
   "cell_type": "markdown",
   "id": "6496e729-0417-4f66-9f3d-76ef83057488",
   "metadata": {},
   "source": [
    "### Loading Mantid monitors (pre-processed with Mantid)"
   ]
  },
  {
   "cell_type": "code",
   "execution_count": 10,
   "id": "250711f3-4e78-4892-8126-ae08f183b7bc",
   "metadata": {},
   "outputs": [
    {
     "name": "stderr",
     "output_type": "stream",
     "text": [
      "scippneutron.load has been deprecated and is scheduled for removal in scippneutron v24.01.0. Use the new scippneutron.load_with_mantid instead.\n"
     ]
    },
    {
     "name": "stdout",
     "output_type": "stream",
     "text": [
      "Load-[Notice] Load started\n"
     ]
    },
    {
     "name": "stderr",
     "output_type": "stream",
     "text": [
      "scippneutron.array_from_mantid has been deprecated and is scheduled for removal in scippneutron v24.01.0. Use the new scippneutron.from_mantid instead.\n",
      "convert_Workspace2D_to_data_array is deprecated in favor of convert_Workspace2D_to_data_group.\n",
      "scippneutron.load has been deprecated and is scheduled for removal in scippneutron v24.01.0. Use the new scippneutron.load_with_mantid instead.\n",
      "scippneutron.array_from_mantid has been deprecated and is scheduled for removal in scippneutron v24.01.0. Use the new scippneutron.from_mantid instead.\n",
      "convert_Workspace2D_to_data_array is deprecated in favor of convert_Workspace2D_to_data_group.\n",
      "scippneutron.load has been deprecated and is scheduled for removal in scippneutron v24.01.0. Use the new scippneutron.load_with_mantid instead.\n"
     ]
    },
    {
     "name": "stdout",
     "output_type": "stream",
     "text": [
      "Load-[Notice] Load successful, Duration 0.21 seconds\n",
      "DeleteWorkspace-[Notice] DeleteWorkspace started\n",
      "DeleteWorkspace-[Notice] DeleteWorkspace successful, Duration 0.00 seconds\n",
      "Load-[Notice] Load started\n",
      "Load-[Notice] Load successful, Duration 0.07 seconds\n",
      "DeleteWorkspace-[Notice] DeleteWorkspace started\n",
      "DeleteWorkspace-[Notice] DeleteWorkspace successful, Duration 0.00 seconds\n",
      "Load-[Notice] Load started\n"
     ]
    },
    {
     "name": "stderr",
     "output_type": "stream",
     "text": [
      "scippneutron.array_from_mantid has been deprecated and is scheduled for removal in scippneutron v24.01.0. Use the new scippneutron.from_mantid instead.\n",
      "convert_Workspace2D_to_data_array is deprecated in favor of convert_Workspace2D_to_data_group.\n",
      "scippneutron.load has been deprecated and is scheduled for removal in scippneutron v24.01.0. Use the new scippneutron.load_with_mantid instead.\n",
      "scippneutron.array_from_mantid has been deprecated and is scheduled for removal in scippneutron v24.01.0. Use the new scippneutron.from_mantid instead.\n",
      "convert_Workspace2D_to_data_array is deprecated in favor of convert_Workspace2D_to_data_group.\n",
      "scippneutron.load has been deprecated and is scheduled for removal in scippneutron v24.01.0. Use the new scippneutron.load_with_mantid instead.\n"
     ]
    },
    {
     "name": "stdout",
     "output_type": "stream",
     "text": [
      "Load-[Notice] Load successful, Duration 0.11 seconds\n",
      "DeleteWorkspace-[Notice] DeleteWorkspace started\n",
      "DeleteWorkspace-[Notice] DeleteWorkspace successful, Duration 0.00 seconds\n",
      "Load-[Notice] Load started\n",
      "Load-[Notice] Load successful, Duration 0.08 seconds\n",
      "DeleteWorkspace-[Notice] DeleteWorkspace started\n",
      "DeleteWorkspace-[Notice] DeleteWorkspace successful, Duration 0.00 seconds\n",
      "Load-[Notice] Load started\n",
      "Load-[Notice] Load successful, Duration 1.72 seconds\n",
      "DeleteWorkspace-[Notice] DeleteWorkspace started\n",
      "DeleteWorkspace-[Notice] DeleteWorkspace successful, Duration 0.00 seconds\n"
     ]
    },
    {
     "name": "stderr",
     "output_type": "stream",
     "text": [
      "scippneutron.array_from_mantid has been deprecated and is scheduled for removal in scippneutron v24.01.0. Use the new scippneutron.from_mantid instead.\n",
      "convert_Workspace2D_to_data_array is deprecated in favor of convert_Workspace2D_to_data_group.\n"
     ]
    }
   ],
   "source": [
    "sample_trans_monitor = scn.load(f'{path}/monitor_sample_trans.nxs')\n",
    "sample_monitor = scn.load(f'{path}/monitor_sample.nxs')\n",
    "background_trans_monitor= scn.load(f'{path}/monitor_can_trans.nxs')\n",
    "background_monitor = scn.load(f'{path}/monitor_can.nxs')\n",
    "monitor_flat = scn.load(f'{path}/monitor_flat.nxs')"
   ]
  },
  {
   "cell_type": "code",
   "execution_count": 11,
   "id": "8f079ae7-289b-454e-bddc-b27102044b46",
   "metadata": {},
   "outputs": [],
   "source": [
    "sample_trans_monitor  = sample_trans_monitor.rebin(wavelength=wavelength_bins)\n",
    "sample_monitor  = sample_monitor.rebin(wavelength=wavelength_bins)\n",
    "background_trans_monitor  = background_trans_monitor.rebin(wavelength=wavelength_bins)\n",
    "background_monitor  = background_monitor.rebin(wavelength=wavelength_bins)\n",
    "monitor_flat  = monitor_flat.rebin(wavelength=wavelength_bins)"
   ]
  },
  {
   "cell_type": "code",
   "execution_count": 12,
   "id": "577dc47a-8740-46f8-9f3d-bb5fac3c3933",
   "metadata": {},
   "outputs": [],
   "source": [
    "sample_monitor.coords['position'] = sc.vector(value=[0.0, 0.0, 9.8195], unit='m')\n",
    "sample_monitor.coords['Ltotal'] =  9.8195 * sc.units.m\n",
    "\n",
    "sample_trans_monitor.coords['position'] = sc.vector(value=[0.0, 0.0, 25.76], unit='m')\n",
    "sample_trans_monitor.coords['Ltotal'] = 25.76 * sc.units.m\n",
    "\n",
    "sample_trans_monitor.coords['position'] = sc.vector(value=[0.0, 0.0, 9.8195], unit='m')\n",
    "background_monitor.coords['Ltotal'] = 9.8195 * sc.units.m\n",
    "\n",
    "background_trans_monitor.coords['position'] = sc.vector(value=[0.0, 0.0, 25.76], unit='m')\n",
    "background_trans_monitor.coords['Ltotal'] = 25.76 * sc.units.m\n",
    "\n",
    "monitor_flat.coords['position'] = sc.vector(value=[0.0, 0.0, 25.76], unit='m')\n",
    "monitor_flat.coords['Ltotal'] = 25.76 * sc.units.m\n",
    "\n",
    "for mantid_monitor in [sample_monitor, sample_trans_monitor, background_monitor, background_trans_monitor, monitor_flat]:\n",
    "    mantid_monitor.variances = None"
   ]
  },
  {
   "cell_type": "code",
   "execution_count": 13,
   "id": "4968091a-e38f-4ec5-a47f-4abf558c3f0d",
   "metadata": {},
   "outputs": [],
   "source": [
    "sample_monitor.coords.set_aligned('position', False)\n",
    "sample_monitor.coords.set_aligned('Ltotal', False)\n",
    "sample_trans_monitor.coords.set_aligned('position', False)\n",
    "sample_trans_monitor.coords.set_aligned('Ltotal', False)\n",
    "sample_trans_monitor.coords.set_aligned('position', False)\n",
    "sample_trans_monitor.coords.set_aligned('Ltotal', False)\n",
    "background_trans_monitor.coords.set_aligned('position', False)\n",
    "background_trans_monitor.coords.set_aligned('Ltotal', False)\n",
    "monitor_flat.coords.set_aligned('position', False)\n",
    "monitor_flat.coords.set_aligned('Ltotal', False)"
   ]
  },
  {
   "cell_type": "code",
   "execution_count": 14,
   "id": "2d2862a7-dd12-451d-9da5-ca5dd8b21902",
   "metadata": {},
   "outputs": [],
   "source": [
    "sample_monitors = {'incident': sample_monitor, 'transmission': sample_trans_monitor}\n",
    "empty_beam_monitors = {'incident': sample_monitor, 'transmission': monitor_flat}\n",
    "background_monitors = {'incident': background_monitor, 'transmission':background_trans_monitor}"
   ]
  },
  {
   "cell_type": "markdown",
   "id": "9bac49fc-5c7c-418b-95a0-2c3d58ef53e6",
   "metadata": {},
   "source": [
    "### Direct beam midpoints\n",
    "This operation is needed for performing interpolation. Later, this can probably be dome i_of_q module, however we still need to see what exactly the format of direct beam function would be. "
   ]
  },
  {
   "cell_type": "code",
   "execution_count": 15,
   "id": "f6e7f69d-bfac-4b12-8bea-bc3ed548506f",
   "metadata": {},
   "outputs": [],
   "source": [
    "direct_beam = direct_beam.rebin(wavelength=wavelength_bins)\n",
    "direct_beam.coords['wavelength'] = sc.midpoints(direct_beam.coords['wavelength'])"
   ]
  },
  {
   "cell_type": "code",
   "execution_count": 16,
   "id": "f145297c-d29a-4553-910e-d7d0bdd84cab",
   "metadata": {},
   "outputs": [],
   "source": [
    "#Setting direct beam to None for testing purposes\n",
    "#direct_beam = None"
   ]
  },
  {
   "cell_type": "code",
   "execution_count": 17,
   "id": "652aa470-74fe-4036-90e5-4eeead429831",
   "metadata": {},
   "outputs": [
    {
     "name": "stderr",
     "output_type": "stream",
     "text": [
      "An interpolation was performed on the direct_beam function. The variances in the direct_beam function have been dropped.\n"
     ]
    }
   ],
   "source": [
    "#NOTE: direct monitors is the same as sample (and backgroud)\n",
    "sample_q = sans.to_I_of_Q(data=ds['sample'],\n",
    "    data_monitors=sample_monitors,\n",
    "    direct_monitors=empty_beam_monitors,\n",
    "    direct_beam=direct_beam,\n",
    "    wavelength_bins=wavelength_bins,\n",
    "    q_bins=q_bins,\n",
    "    gravity=gravity,\n",
    "    wavelength_mask=wavelength_mask)"
   ]
  },
  {
   "cell_type": "code",
   "execution_count": 18,
   "id": "dba9fe02-5c65-4142-b94b-ccca2df879e2",
   "metadata": {},
   "outputs": [
    {
     "name": "stderr",
     "output_type": "stream",
     "text": [
      "An interpolation was performed on the direct_beam function. The variances in the direct_beam function have been dropped.\n"
     ]
    }
   ],
   "source": [
    "background_q = sans.to_I_of_Q(data=ds['background'],\n",
    "    data_monitors=background_monitors,\n",
    "    direct_monitors=empty_beam_monitors,\n",
    "    direct_beam=direct_beam,\n",
    "    wavelength_bins=wavelength_bins,\n",
    "    q_bins=q_bins,\n",
    "    gravity=gravity,\n",
    "    wavelength_mask=wavelength_mask)"
   ]
  },
  {
   "cell_type": "markdown",
   "id": "d88ac17e-233f-42ff-bc0c-930f797af1c1",
   "metadata": {},
   "source": [
    "We are now in a position to subtract the background from the sample measurement:"
   ]
  },
  {
   "cell_type": "code",
   "execution_count": 19,
   "id": "f3715d62-e58b-410a-97cd-cfc16bc32a28",
   "metadata": {},
   "outputs": [],
   "source": [
    "result = sample_q.bins.sum() - background_q.bins.sum()"
   ]
  },
  {
   "cell_type": "code",
   "execution_count": 20,
   "id": "0db0287a-dcef-4f80-8f2a-fb4833dbd5ee",
   "metadata": {},
   "outputs": [
    {
     "name": "stderr",
     "output_type": "stream",
     "text": [
      "invalid value encountered in add\n"
     ]
    },
    {
     "data": {
      "application/vnd.jupyter.widget-view+json": {
       "model_id": "15ae2ab319c94c0b89e68aae8a96acb9",
       "version_major": 2,
       "version_minor": 0
      },
      "text/plain": [
       "InteractiveFig(children=(HBar(), HBox(children=(VBar(children=(Toolbar(children=(ButtonTool(icon='home', layou…"
      ]
     },
     "execution_count": 20,
     "metadata": {},
     "output_type": "execute_result"
    }
   ],
   "source": [
    "result.plot()"
   ]
  },
  {
   "cell_type": "markdown",
   "id": "57679ad0-d04a-4c30-a2b3-78e9800f5ae0",
   "metadata": {},
   "source": [
    "<div class=\"alert alert-info\">\n",
    "\n",
    "**Note**\n",
    "\n",
    "Instead of `.bins.sum()`,\n",
    "one could use `sc.histogram()` above to define different `Q` bins compared to the ones defined at the top of the notebook.\n",
    "This can be done in event mode, see [here](https://scipp.github.io/user-guide/binned-data/computation.html#Subtraction).\n",
    "\n",
    "There may be performance advantages to first use a coarse `Q` binning when the computing `I(Q)` numerator,\n",
    "and use finer binning for the final results.\n",
    "\n",
    "</div>"
   ]
  },
  {
   "cell_type": "markdown",
   "id": "5c270fd9-beee-4abd-a51a-4d16ad54922e",
   "metadata": {},
   "source": [
    "## Wavelength bands\n",
    "\n",
    "It is often useful to process the data in a small number (~10) of separate wavelength bands.\n",
    "\n",
    "This can be achieved by requesting 10 bands from the `to_I_of_Q` workflow via the `wavelength_bands` argument."
   ]
  },
  {
   "cell_type": "code",
   "execution_count": 21,
   "id": "ca7e75fe-29f6-44c9-88c2-43d870044b4c",
   "metadata": {},
   "outputs": [
    {
     "name": "stderr",
     "output_type": "stream",
     "text": [
      "An interpolation was performed on the direct_beam function. The variances in the direct_beam function have been dropped.\n",
      "An interpolation was performed on the direct_beam function. The variances in the direct_beam function have been dropped.\n"
     ]
    },
    {
     "data": {
      "text/html": [
       "<div><!-- Original source from -->\n",
       "<!-- https://github.com/jsignell/xarray/blob/1d960933ab252e0f79f7e050e6c9261d55568057/xarray/static/html/icons-svg-inline.html -->\n",
       "<svg style=\"position: absolute; width: 0; height: 0; overflow: hidden\">\n",
       "<defs>\n",
       "<symbol id=\"icon-database\" viewBox=\"0 0 32 32\">\n",
       "<title>Show/Hide data repr</title>\n",
       "<path d=\"M16 0c-8.837 0-16 2.239-16 5v4c0 2.761 7.163 5 16 5s16-2.239 16-5v-4c0-2.761-7.163-5-16-5z\"></path>\n",
       "<path d=\"M16 17c-8.837 0-16-2.239-16-5v6c0 2.761 7.163 5 16 5s16-2.239 16-5v-6c0 2.761-7.163 5-16 5z\"></path>\n",
       "<path d=\"M16 26c-8.837 0-16-2.239-16-5v6c0 2.761 7.163 5 16 5s16-2.239 16-5v-6c0 2.761-7.163 5-16 5z\"></path>\n",
       "</symbol>\n",
       "<symbol id=\"icon-file-text2\" viewBox=\"0 0 32 32\">\n",
       "<title>Show/Hide attributes</title>\n",
       "<path d=\"M28.681 7.159c-0.694-0.947-1.662-2.053-2.724-3.116s-2.169-2.030-3.116-2.724c-1.612-1.182-2.393-1.319-2.841-1.319h-15.5c-1.378 0-2.5 1.121-2.5 2.5v27c0 1.378 1.122 2.5 2.5 2.5h23c1.378 0 2.5-1.122 2.5-2.5v-19.5c0-0.448-0.137-1.23-1.319-2.841zM24.543 5.457c0.959 0.959 1.712 1.825 2.268 2.543h-4.811v-4.811c0.718 0.556 1.584 1.309 2.543 2.268zM28 29.5c0 0.271-0.229 0.5-0.5 0.5h-23c-0.271 0-0.5-0.229-0.5-0.5v-27c0-0.271 0.229-0.5 0.5-0.5 0 0 15.499-0 15.5 0v7c0 0.552 0.448 1 1 1h7v19.5z\"></path>\n",
       "<path d=\"M23 26h-14c-0.552 0-1-0.448-1-1s0.448-1 1-1h14c0.552 0 1 0.448 1 1s-0.448 1-1 1z\"></path>\n",
       "<path d=\"M23 22h-14c-0.552 0-1-0.448-1-1s0.448-1 1-1h14c0.552 0 1 0.448 1 1s-0.448 1-1 1z\"></path>\n",
       "<path d=\"M23 18h-14c-0.552 0-1-0.448-1-1s0.448-1 1-1h14c0.552 0 1 0.448 1 1s-0.448 1-1 1z\"></path>\n",
       "</symbol>\n",
       "</defs>\n",
       "</svg><style id=\"scipp-style-sheet\">.sc-root{--sc-background-color0:var(--jp-layout-color0,#fff);--sc-background-color1:var(--jp-layout-color1,#fcfcfc);--sc-background-color2:var(--jp-layout-color2,#efefef);--sc-inverse-background-color0:var(--jp-inverse-layout-color4,#111);--sc-font-color0:var(--jp-content-font-color0,#000);--sc-font-color1:var(--jp-content-font-color1,#555);--sc-font-color2:var(--jp-content-font-color2,#888);--sc-font-color3:var(--jp-content-font-color3,#ccc);--sc-table-data-color:#f6d028;--sc-table-coords-color:#c6e590;--sc-table-masks-color:#c8c8c8;--sc-table-attrs-color:#ff5555;--sc-table-header-font-color:#111111;}.sc-wrap{font-size:14px;min-width:300px;max-width:800px;}.sc-var-attrs .sc-wrap{padding-left:3em;}.sc-header{padding-top:6px;padding-bottom:6px;margin-bottom:4px;border-bottom:solid 1px #ddd;}.sc-header > div,.sc-header > ul{display:inline;margin-top:0;margin-bottom:0;}.sc-obj-type,.sc-array-name{margin-left:2px;margin-right:10px;}.sc-obj-type{color:var(--sc-font-color1);}.sc-underlying-size{color:var(--sc-font-color2);}.sc-sections,.reveal .sc-sections{padding-left:0 !important;display:grid;grid-template-columns:150px auto auto auto 1fr 20px 20px;}.sc-section-item{display:contents;}.sc-section-item input{display:none;}.sc-section-item input:enabled + label{cursor:pointer;color:var(--sc-font-color1);}.sc-section-item input:enabled + label:hover{color:var(--sc-font-color0);}.sc-section-summary{grid-column:1;font-weight:500;}.sc-section-summary > span{display:inline-block;padding-left:0.5em;}.sc-section-summary-in:disabled + label{color:var(--sc-font-color1);}.sc-section-summary-in + label:before{display:inline-block;content:'►';font-size:11px;width:15px;text-align:center;}.sc-section-summary-in:disabled + label:before{color:var(--sc-font-color3);}.sc-section-summary-in:checked + label:before{content:'▼';}.sc-section-summary-in:checked + label > span{display:none;}.sc-section-summary,.sc-section-inline-details{padding-top:4px;padding-bottom:4px;}.sc-section-inline-details{grid-column:2 / 6;}.sc-section-details{display:none;grid-column:1 / -1;margin-bottom:5px;}.sc-section-summary-in:checked ~ .sc-section-details{display:contents;}.sc-array-wrap{grid-column:1 / -1;display:grid;grid-template-columns:20px auto;}.sc-array-wrap > label{grid-column:1;vertical-align:top;}.sc-preview{color:var(--sc-font-color2);}.sc-array-preview,.sc-array-data{padding:0 5px !important;grid-column:2;}.sc-array-data,.sc-array-in:checked ~ .sc-array-preview{display:none;}.sc-array-in:checked ~ .sc-array-data,.sc-array-preview{display:inline-block;}.sc-dim-list{display:inline-block !important;list-style:none;padding:0 !important;margin:0;}.sc-dim-list li{display:inline-block;padding:0;margin:0!important;}.sc-dim-list:before{content:'(';}.sc-dim-list:after{content:')';}.sc-dim-list li:not(:last-child):after{content:',';padding-right:5px;}.sc-dim-list li span,.sc-standalone-var-name > span span,.sc-var-name > span span{padding:0 !important;}.sc-aligned{font-weight:bold;}.sc-var-list,.sc-var-item,.reveal .sc-var-list,.reveal .sc-var-item{display:contents;}.sc-var-item > div,.sc-var-item label,.sc-var-item > .sc-var-name span{background-color:var(--sc-background-color1);margin-bottom:0;}.sc-var-item > .sc-var-name:hover span{padding-right:5px;}.sc-var-list > li:nth-child(odd) > div,.sc-var-list > li:nth-child(odd) > label,.sc-var-list > li:nth-child(odd) > .sc-var-name span{background-color:var(--sc-background-color2);}.sc-var-name{grid-column:1;}.sc-var-dims{grid-column:2;}.sc-var-dtype{grid-column:3;text-align:right;color:var(--sc-font-color2);}.sc-var-unit{grid-column:4;text-align:left;color:var(--sc-font-color1);max-width:50pt;text-overflow:ellipsis;}.sc-value-preview{grid-column:5;}.sc-var-preview-variances{text-align:right;}.sc-sections .sc-section-item .sc-section-summary,.sc-sections .sc-section-item .sc-section-inline-details,.sc-section-item .sc-var-list .sc-var-item > div,.sc-section-item .sc-var-list .sc-var-item > label,.sc-section-details .sc-var-list .sc-var-item > div,.sc-section-details .sc-var-list .sc-var-item > label{margin-top:0;margin-bottom:0;}.sc-var-name,.sc-var-dims,.sc-var-dtype,.sc-var-unit,.sc-preview,.sc-attrs dt{white-space:nowrap;overflow:hidden;text-overflow:ellipsis;padding-right:10px;}.sc-var-name:hover,.sc-var-dims:hover,.sc-var-dtype:hover,.sc-var-unit:hover,.sc-attrs dt:hover{overflow:visible;width:auto;z-index:1;}.sc-var-attrs{display:block;}.sc-var-data,.reveal .sc-var-data{display:none;}.sc-var-attrs,.sc-var-data{background-color:var(--sc-background-color0) !important;padding-bottom:5px !important;}.sc-var-attrs-in:checked ~ .sc-var-attrs{display:none;}.sc-var-data-in:checked ~ .sc-var-data{display:block;}.sc-var-data > table{float:right;}.sc-var-name span,.sc-var-data{padding-left:25px !important;}.sc-var-attrs,.sc-var-data{grid-column:1 / -1;}dl.sc-attrs{padding:0;margin:0;display:grid;grid-template-columns:125px auto;}.sc-attrs dt,dd{padding:0;margin:0;float:left;padding-right:10px;width:auto;}.sc-attrs dt{font-weight:normal;grid-column:1;}.sc-attrs dt:hover span{display:inline-block;padding-right:10px;}.sc-attrs dd{grid-column:2;white-space:pre-wrap;word-break:break-all;}.sc-icon-database,.sc-icon-file-text2{display:inline-block;vertical-align:middle;width:1em;height:1.5em !important;stroke-width:0;stroke:currentColor;fill:currentColor;}label.sc-hide-icon svg{opacity:0;}.sc-standalone-var-name{grid-column:1/3;}.sc-standalone-var-name span{padding-left:25px;padding-right:10px;}.sc-table{border-collapse:collapse;}.sc-title{font-weight:bold;font-size:1.5em;}.sc-subtitle{font-weight:normal;font-style:italic;text-align:left;font-size:1.2em;padding:1px;}.sc-table th,.sc-table td{border:1px solid var(--sc-inverse-background-color0);padding:0 5px 0 5px;}.sc-table th{text-align:center;}.sc-table tr{background-color:var(--sc-background-color1);text-align:right;}.sc-table tr:hover{background-color:var(--sc-background-color2);}.sc-table th.sc-data{background-color:var(--sc-table-data-color);color:var(--sc-table-header-font-color);}.sc-table th.sc-coords{background-color:var(--sc-table-coords-color);color:var(--sc-table-header-font-color);}.sc-table th.sc-masks{background-color:var(--sc-table-masks-color);color:var(--sc-table-header-font-color);}.sc-table th.sc-attrs{background-color:var(--sc-table-attrs-color);color:var(--sc-table-header-font-color);}.sc-table th.sc-subheader{background-color:var(--sc-background-color2);}.sc-table td.sc-padding{background-color:var(--sc-background-color1);border:0 solid var(--sc-background-color1);height:1.2em;}.sc-label{fill:var(--sc-font-color0,#444444);text-anchor:middle;}.sc-name{fill:var(--sc-font-color0,#111111);}.sc-inset-line{stroke:var(--sc-font-color1);stroke-width:0.05;stroke-dasharray:0.2,0.2;}.sc-log-wrap{height:25ex;resize:vertical;overflow-y:scroll;display:flex;flex-direction:column-reverse;border:1px solid;border-color:var(--jp-border-color2);background-color:var(--sc-background-color1);}div.sc-log{line-height:2.5ex;}table.sc-log{table-layout:auto;border-collapse:collapse;}tr.sc-log:nth-child(even){background-color:var(--sc-background-color0);}tr.sc-log > td{vertical-align:top;padding-bottom:0.5ex;}.sc-log-time-stamp{min-width:22ch;font-family:var(--jp-code-font-family);color:var(--sc-font-color2);}.sc-log-level{min-width:10ch;}tr.sc-log-debug td.sc-log-level{color:var(--jp-accent-color1);}tr.sc-log-info td.sc-log-level{color:var(--jp-info-color1);}tr.sc-log-warning td.sc-log-level{color:var(--jp-warn-color1);}tr.sc-log-error td.sc-log-level{font-weight:bold;color:var(--jp-error-color2);}tr.sc-log-critical td.sc-log-level{font-weight:bold;color:var(--sc-background-color0);background-color:var(--jp-error-color1);}.sc-log-message{white-space:pre-wrap;width:100%;}.sc-log-html-payload{white-space:normal;}.sc-log-name{padding-right:0.5em;text-align:right;white-space:pre-wrap;color:var(--sc-font-color3);}</style><div class='sc-wrap sc-root'><div class='sc-header'><div class='sc-obj-type'>scipp.DataArray (9.79 KB)</div></div><ul class='sc-sections'><li class='sc-section-item'><input id='section-53eb40c7-2b9c-47b6-8481-22660ae9b9f4' class='sc-section-summary-in' type='checkbox' disabled ><label for='section-53eb40c7-2b9c-47b6-8481-22660ae9b9f4' class='sc-section-summary'  title='Expand/collapse section'>Dimensions:</label><div class='sc-section-inline-details'><ul class='sc-dim-list'><li><span class='sc-has-index'>Q</span>: 110</li><li><span class='sc-has-index'>wavelength</span>: 7</li></ul></div><div class='sc-section-details'></div></li><li class='sc-section-item'><input id='section-294965e9-70cd-4417-b780-05c53b70c8b0' class='sc-section-summary-in' type='checkbox'  checked><label for='section-294965e9-70cd-4417-b780-05c53b70c8b0' class='sc-section-summary' >Coordinates: <span>(7)</span></label><div class='sc-section-inline-details'></div><div class='sc-section-details'><ul class='sc-var-list'><li class='sc-var-item'><div class='sc-var-name'><span>L1</span></div><div class='sc-var-dims'>()</div><div class='sc-var-dtype'>float64</div><div class='sc-var-unit'>m</div><div class='sc-value-preview sc-preview'><span><div>25.61</div></span></div><input id='attrs-4a18cef4-63ef-4cff-b34f-3b52d3605294' class='sc-var-attrs-in' type='checkbox' disabled><label for='attrs-4a18cef4-63ef-4cff-b34f-3b52d3605294' class='sc-hide-icon' title='Show/Hide attributes'><svg class='icon sc-icon-file-text2'><use xlink:href='#icon-file-text2'></use></svg></label><input id='data-c423ae66-b684-4d58-9f7e-8aba20dcb808' class='sc-var-data-in' type='checkbox'><label for='data-c423ae66-b684-4d58-9f7e-8aba20dcb808' title='Show/Hide data repr'><svg class='icon sc-icon-database'><use xlink:href='#icon-database'></use></svg></label><pre class='sc-var-data'>Values:<br>array(25.61)</pre></span></li><li class='sc-var-item'><div class='sc-var-name'><span class='sc-aligned'>Q</span></div><div class='sc-var-dims'>(Q [bin-edge])</div><div class='sc-var-dtype'>float64</div><div class='sc-var-unit'>1/Å</div><div class='sc-value-preview sc-preview'><span><div>0.004, 0.008, ..., 0.396, 0.4</div></span></div><input id='attrs-6398e5ee-d18c-4e85-bd5d-f6cbc30f4705' class='sc-var-attrs-in' type='checkbox' disabled><label for='attrs-6398e5ee-d18c-4e85-bd5d-f6cbc30f4705' class='sc-hide-icon' title='Show/Hide attributes'><svg class='icon sc-icon-file-text2'><use xlink:href='#icon-file-text2'></use></svg></label><input id='data-ab96559e-85b4-4b31-a90f-c9486a97c754' class='sc-var-data-in' type='checkbox'><label for='data-ab96559e-85b4-4b31-a90f-c9486a97c754' title='Show/Hide data repr'><svg class='icon sc-icon-database'><use xlink:href='#icon-database'></use></svg></label><pre class='sc-var-data'>Values:<br>array([0.004 , 0.0076, 0.0112, 0.0148, 0.0184, 0.022 , 0.0256, 0.0292,\n",
       "       0.0328, 0.0364, 0.04  , 0.0436, 0.0472, 0.0508, 0.0544, 0.058 ,\n",
       "       0.0616, 0.0652, 0.0688, 0.0724, 0.076 , 0.0796, 0.0832, 0.0868,\n",
       "       0.0904, 0.094 , 0.0976, 0.1012, 0.1048, 0.1084, 0.112 , 0.1156,\n",
       "       0.1192, 0.1228, 0.1264, 0.13  , 0.1336, 0.1372, 0.1408, 0.1444,\n",
       "       0.148 , 0.1516, 0.1552, 0.1588, 0.1624, 0.166 , 0.1696, 0.1732,\n",
       "       0.1768, 0.1804, 0.184 , 0.1876, 0.1912, 0.1948, 0.1984, 0.202 ,\n",
       "       0.2056, 0.2092, 0.2128, 0.2164, 0.22  , 0.2236, 0.2272, 0.2308,\n",
       "       0.2344, 0.238 , 0.2416, 0.2452, 0.2488, 0.2524, 0.256 , 0.2596,\n",
       "       0.2632, 0.2668, 0.2704, 0.274 , 0.2776, 0.2812, 0.2848, 0.2884,\n",
       "       0.292 , 0.2956, 0.2992, 0.3028, 0.3064, 0.31  , 0.3136, 0.3172,\n",
       "       0.3208, 0.3244, 0.328 , 0.3316, 0.3352, 0.3388, 0.3424, 0.346 ,\n",
       "       0.3496, 0.3532, 0.3568, 0.3604, 0.364 , 0.3676, 0.3712, 0.3748,\n",
       "       0.3784, 0.382 , 0.3856, 0.3892, 0.3928, 0.3964, 0.4   ])</pre></span></li><li class='sc-var-item'><div class='sc-var-name'><span>gravity</span></div><div class='sc-var-dims'>()</div><div class='sc-var-dtype'>vector3</div><div class='sc-var-unit'>m/s^2</div><div class='sc-value-preview sc-preview'><span><div>[ 0.      -9.80665  0.     ]</div></span></div><input id='attrs-c3297778-9ec7-44a4-bcad-9d3c9be34517' class='sc-var-attrs-in' type='checkbox' disabled><label for='attrs-c3297778-9ec7-44a4-bcad-9d3c9be34517' class='sc-hide-icon' title='Show/Hide attributes'><svg class='icon sc-icon-file-text2'><use xlink:href='#icon-file-text2'></use></svg></label><input id='data-7d282a8f-12bd-42a6-b539-aa9dc4381926' class='sc-var-data-in' type='checkbox'><label for='data-7d282a8f-12bd-42a6-b539-aa9dc4381926' title='Show/Hide data repr'><svg class='icon sc-icon-database'><use xlink:href='#icon-database'></use></svg></label><pre class='sc-var-data'>Values:<br>array([ 0.     , -9.80665,  0.     ])</pre></span></li><li class='sc-var-item'><div class='sc-var-name'><span>incident_beam</span></div><div class='sc-var-dims'>()</div><div class='sc-var-dtype'>vector3</div><div class='sc-var-unit'>m</div><div class='sc-value-preview sc-preview'><span><div>[ 0.    0.   25.61]</div></span></div><input id='attrs-d2dbb2d6-f501-43d3-983b-492d52e5e3ae' class='sc-var-attrs-in' type='checkbox' disabled><label for='attrs-d2dbb2d6-f501-43d3-983b-492d52e5e3ae' class='sc-hide-icon' title='Show/Hide attributes'><svg class='icon sc-icon-file-text2'><use xlink:href='#icon-file-text2'></use></svg></label><input id='data-1dae0725-4048-4184-ba8f-53813e67eb4d' class='sc-var-data-in' type='checkbox'><label for='data-1dae0725-4048-4184-ba8f-53813e67eb4d' title='Show/Hide data repr'><svg class='icon sc-icon-database'><use xlink:href='#icon-database'></use></svg></label><pre class='sc-var-data'>Values:<br>array([ 0.  ,  0.  , 25.61])</pre></span></li><li class='sc-var-item'><div class='sc-var-name'><span>sample_position</span></div><div class='sc-var-dims'>()</div><div class='sc-var-dtype'>vector3</div><div class='sc-var-unit'>m</div><div class='sc-value-preview sc-preview'><span><div>[ 0.    0.   25.61]</div></span></div><input id='attrs-919e4a81-5225-4520-8ab9-4ccbcd8792bc' class='sc-var-attrs-in' type='checkbox' disabled><label for='attrs-919e4a81-5225-4520-8ab9-4ccbcd8792bc' class='sc-hide-icon' title='Show/Hide attributes'><svg class='icon sc-icon-file-text2'><use xlink:href='#icon-file-text2'></use></svg></label><input id='data-cbb7638d-0c2a-4c86-b86c-bf571e368ee9' class='sc-var-data-in' type='checkbox'><label for='data-cbb7638d-0c2a-4c86-b86c-bf571e368ee9' title='Show/Hide data repr'><svg class='icon sc-icon-database'><use xlink:href='#icon-database'></use></svg></label><pre class='sc-var-data'>Values:<br>array([ 0.  ,  0.  , 25.61])</pre></span></li><li class='sc-var-item'><div class='sc-var-name'><span>source_position</span></div><div class='sc-var-dims'>()</div><div class='sc-var-dtype'>vector3</div><div class='sc-var-unit'>m</div><div class='sc-value-preview sc-preview'><span><div>[0. 0. 0.]</div></span></div><input id='attrs-0d0697f6-6276-4585-bffa-2003e15842d3' class='sc-var-attrs-in' type='checkbox' disabled><label for='attrs-0d0697f6-6276-4585-bffa-2003e15842d3' class='sc-hide-icon' title='Show/Hide attributes'><svg class='icon sc-icon-file-text2'><use xlink:href='#icon-file-text2'></use></svg></label><input id='data-a6e964d7-a5b8-4e26-a48b-7d64f77cf39a' class='sc-var-data-in' type='checkbox'><label for='data-a6e964d7-a5b8-4e26-a48b-7d64f77cf39a' title='Show/Hide data repr'><svg class='icon sc-icon-database'><use xlink:href='#icon-database'></use></svg></label><pre class='sc-var-data'>Values:<br>array([0., 0., 0.])</pre></span></li><li class='sc-var-item'><div class='sc-var-name'><span class='sc-aligned'>wavelength</span></div><div class='sc-var-dims'>(wavelength [bin-edge])</div><div class='sc-var-dtype'>float64</div><div class='sc-var-unit'>Å</div><div class='sc-value-preview sc-preview'><span><div>2.2, 3.600, ..., 10.600, 12.0</div></span></div><input id='attrs-189fb6dd-0a35-44c5-bb04-aac0119cca53' class='sc-var-attrs-in' type='checkbox' disabled><label for='attrs-189fb6dd-0a35-44c5-bb04-aac0119cca53' class='sc-hide-icon' title='Show/Hide attributes'><svg class='icon sc-icon-file-text2'><use xlink:href='#icon-file-text2'></use></svg></label><input id='data-e714f24c-e644-42eb-acff-31df3c14ac84' class='sc-var-data-in' type='checkbox'><label for='data-e714f24c-e644-42eb-acff-31df3c14ac84' title='Show/Hide data repr'><svg class='icon sc-icon-database'><use xlink:href='#icon-database'></use></svg></label><pre class='sc-var-data'>Values:<br>array([ 2.2,  3.6,  5. ,  6.4,  7.8,  9.2, 10.6, 12. ])</pre></span></li></ul></div></li><li class='sc-section-item'><input id='section-a06634f6-e767-4a2b-b415-8bf109e71dda' class='sc-section-summary-in' type='checkbox'  checked><label for='section-a06634f6-e767-4a2b-b415-8bf109e71dda' class='sc-section-summary' >Data: <span>(1)</span></label><div class='sc-section-inline-details'></div><div class='sc-section-details'><ul class='sc-var-list'><li class='sc-var-item'><div class='sc-var-name'><span></span></div><div class='sc-var-dims'>(Q, wavelength)</div><div class='sc-var-dtype'>float32</div><div class='sc-var-unit'>counts</div><div class='sc-value-preview sc-preview'><span><div>0.0, 0.0, ..., 0.0, 0.0</div></span><span><div>σ = 0.0, 0.0, ..., 0.0, 0.0</div></span></div><input id='attrs-1a226f91-ff5e-40b0-8054-45313cc5dacf' class='sc-var-attrs-in' type='checkbox' disabled><label for='attrs-1a226f91-ff5e-40b0-8054-45313cc5dacf' class='sc-hide-icon' title='Show/Hide attributes'><svg class='icon sc-icon-file-text2'><use xlink:href='#icon-file-text2'></use></svg></label><input id='data-840b06df-d764-4022-a72f-dde593031209' class='sc-var-data-in' type='checkbox'><label for='data-840b06df-d764-4022-a72f-dde593031209' title='Show/Hide data repr'><svg class='icon sc-icon-database'><use xlink:href='#icon-database'></use></svg></label><pre class='sc-var-data'>Values:<br>array([[ 0.        ,  0.        , 35.478256  , 50.973846  , 49.885273  ,\n",
       "        48.32739   , 46.898705  ],\n",
       "       [ 0.        , 48.68404   , 47.412853  , 45.32448   , 45.430756  ,\n",
       "        43.295406  , 43.336548  ],\n",
       "       [40.732613  , 42.51033   , 42.81055   , 42.326077  , 41.68523   ,\n",
       "        40.56241   , 40.095425  ],\n",
       "       [39.32568   , 39.44428   , 39.174942  , 38.713703  , 38.245964  ,\n",
       "        36.9595    , 37.23575   ],\n",
       "       [37.611435  , 35.322514  , 35.383896  , 34.811325  , 34.185303  ,\n",
       "        33.133125  , 33.471077  ],\n",
       "       [34.101627  , 31.60024   , 31.32544   , 31.010244  , 30.762293  ,\n",
       "        29.440533  , 30.205585  ],\n",
       "       [30.86354   , 27.894447  , 27.51192   , 27.246655  , 27.219393  ,\n",
       "        26.654018  , 26.57582   ],\n",
       "       [27.473694  , 24.277992  , 24.116625  , 24.094107  , 23.88682   ,\n",
       "        23.229336  , 23.63398   ],\n",
       "       [23.89451   , 21.443617  , 21.156136  , 21.127144  , 21.045835  ,\n",
       "        20.339993  , 20.735775  ],\n",
       "       [21.15094   , 18.618921  , 18.49895   , 18.528488  , 18.392387  ,\n",
       "        17.909403  , 18.008484  ],\n",
       "       [18.622513  , 16.377012  , 16.251583  , 16.238285  , 16.243633  ,\n",
       "        15.741886  , 15.950063  ],\n",
       "       [16.303747  , 14.232176  , 14.221866  , 14.258002  , 14.212667  ,\n",
       "        13.907227  , 14.016245  ],\n",
       "       [14.505312  , 12.719397  , 12.691159  , 12.646634  , 12.70737   ,\n",
       "        12.429826  , 12.719268  ],\n",
       "       [12.869941  , 11.162203  , 11.210832  , 11.316398  , 11.189151  ,\n",
       "        10.920123  , 11.29786   ],\n",
       "       [11.356035  , 10.042342  ,  9.970448  ,  9.90685   , 10.117366  ,\n",
       "         9.846541  ,  9.964513  ],\n",
       "       [10.334885  ,  8.978695  ,  8.961351  ,  8.983914  ,  8.976719  ,\n",
       "         8.880216  ,  9.213456  ],\n",
       "       [ 9.270221  ,  8.061227  ,  8.0580435 ,  8.109521  ,  8.081178  ,\n",
       "         7.973542  ,  8.231178  ],\n",
       "       [ 8.315429  ,  7.3126383 ,  7.290554  ,  7.300942  ,  7.4815116 ,\n",
       "         7.2606835 ,  7.269476  ],\n",
       "       [ 7.535759  ,  6.5827823 ,  6.6174793 ,  6.667109  ,  6.682696  ,\n",
       "         6.4956083 ,  5.474087  ],\n",
       "       [ 6.9264264 ,  6.052003  ,  6.031384  ,  6.1551695 ,  6.0437694 ,\n",
       "         5.9830313 ,  7.654573  ],\n",
       "       [ 6.3364244 ,  5.5332613 ,  5.520693  ,  5.601064  ,  5.6774697 ,\n",
       "         5.2833385 ,  0.        ],\n",
       "       [ 5.8140297 ,  5.0533314 ,  5.0786715 ,  5.1199927 ,  5.2228446 ,\n",
       "         4.6525736 ,  0.        ],\n",
       "       [ 5.338025  ,  4.67045   ,  4.703015  ,  4.703104  ,  4.7969446 ,\n",
       "         5.065593  ,  0.        ],\n",
       "       [ 4.9806447 ,  4.289625  ,  4.350808  ,  4.429467  ,  4.108646  ,\n",
       "         0.        ,  0.        ],\n",
       "       [ 4.601626  ,  4.0087004 ,  4.039979  ,  4.028165  ,  3.9746685 ,\n",
       "         0.        ,  0.        ],\n",
       "       [ 4.250639  ,  3.721205  ,  3.7636938 ,  3.7609808 ,  3.7195613 ,\n",
       "         0.        ,  0.        ],\n",
       "       [ 3.9786212 ,  3.474187  ,  3.4831626 ,  3.4962623 ,  4.84729   ,\n",
       "         0.        ,  0.        ],\n",
       "       [ 3.7085931 ,  3.2542741 ,  3.2650216 ,  3.3186893 ,         inf,\n",
       "         0.        ,  0.        ],\n",
       "       [ 3.4665534 ,  3.044834  ,  3.0456626 ,  3.0009584 ,  0.        ,\n",
       "         0.        ,  0.        ],\n",
       "       [ 3.2766604 ,  2.856192  ,  2.84831   ,  2.7725596 ,  0.        ,\n",
       "         0.        ,  0.        ],\n",
       "       [ 3.078315  ,  2.6992464 ,  2.6739442 ,  2.611672  ,  0.        ,\n",
       "         0.        ,  0.        ],\n",
       "       [ 2.888707  ,  2.540869  ,  2.5348744 ,  2.4263396 ,  0.        ,\n",
       "         0.        ,  0.        ],\n",
       "       [ 2.7417397 ,  2.4077742 ,  2.3836734 ,  1.9074979 ,  0.        ,\n",
       "         0.        ,  0.        ],\n",
       "       [ 2.6044834 ,  2.2662911 ,  2.2659445 ,  0.        ,  0.        ,\n",
       "         0.        ,  0.        ],\n",
       "       [ 2.4309604 ,  2.1634066 ,  2.1735184 ,  0.        ,  0.        ,\n",
       "         0.        ,  0.        ],\n",
       "       [ 2.3407822 ,  2.047391  ,  1.9902647 ,  0.        ,  0.        ,\n",
       "         0.        ,  0.        ],\n",
       "       [ 2.2095265 ,  1.931725  ,  1.9436566 ,  0.        ,  0.        ,\n",
       "         0.        ,  0.        ],\n",
       "       [ 2.1211038 ,  1.8648046 ,  1.8963269 ,  0.        ,  0.        ,\n",
       "         0.        ,  0.        ],\n",
       "       [ 2.0040224 ,  1.7558587 ,  1.7169329 ,  0.        ,  0.        ,\n",
       "         0.        ,  0.        ],\n",
       "       [ 1.9352645 ,  1.6801779 ,  1.6400831 ,  0.        ,  0.        ,\n",
       "         0.        ,  0.        ],\n",
       "       [ 1.8405584 ,  1.6079786 ,  1.6436194 ,  0.        ,  0.        ,\n",
       "         0.        ,  0.        ],\n",
       "       [ 1.7559416 ,  1.531534  ,  1.4380014 ,  0.        ,  0.        ,\n",
       "         0.        ,  0.        ],\n",
       "       [ 1.6882228 ,  1.4678727 ,  4.264621  ,  0.        ,  0.        ,\n",
       "         0.        ,  0.        ],\n",
       "       [ 1.6420358 ,  1.4033313 ,         inf,  0.        ,  0.        ,\n",
       "         0.        ,  0.        ],\n",
       "       [ 1.5784011 ,  1.3551054 ,  0.        ,  0.        ,  0.        ,\n",
       "         0.        ,  0.        ],\n",
       "       [ 1.5264429 ,  1.2968047 ,  0.        ,  0.        ,  0.        ,\n",
       "         0.        ,  0.        ],\n",
       "       [ 1.478436  ,  1.2819867 ,  0.        ,  0.        ,  0.        ,\n",
       "         0.        ,  0.        ],\n",
       "       [ 1.4323148 ,  1.2237159 ,  0.        ,  0.        ,  0.        ,\n",
       "         0.        ,  0.        ],\n",
       "       [ 1.3824236 ,  1.1931845 ,  0.        ,  0.        ,  0.        ,\n",
       "         0.        ,  0.        ],\n",
       "       [ 1.3312874 ,  1.1517847 ,  0.        ,  0.        ,  0.        ,\n",
       "         0.        ,  0.        ],\n",
       "       [ 1.307384  ,  1.0834987 ,  0.        ,  0.        ,  0.        ,\n",
       "         0.        ,  0.        ],\n",
       "       [ 1.2546039 ,  1.0358084 ,  0.        ,  0.        ,  0.        ,\n",
       "         0.        ,  0.        ],\n",
       "       [ 1.2009846 ,  0.9495423 ,  0.        ,  0.        ,  0.        ,\n",
       "         0.        ,  0.        ],\n",
       "       [ 1.2057126 ,  1.0201931 ,  0.        ,  0.        ,  0.        ,\n",
       "         0.        ,  0.        ],\n",
       "       [ 1.1592963 ,  0.92872816,  0.        ,  0.        ,  0.        ,\n",
       "         0.        ,  0.        ],\n",
       "       [ 1.1198348 ,  0.8404372 ,  0.        ,  0.        ,  0.        ,\n",
       "         0.        ,  0.        ],\n",
       "       [ 1.1205789 ,  0.80371183,  0.        ,  0.        ,  0.        ,\n",
       "         0.        ,  0.        ],\n",
       "       [ 1.0739113 ,  1.1848398 ,  0.        ,  0.        ,  0.        ,\n",
       "         0.        ,  0.        ],\n",
       "       [ 1.054869  ,  1.2849166 ,  0.        ,  0.        ,  0.        ,\n",
       "         0.        ,  0.        ],\n",
       "       [ 1.0362566 ,         inf,  0.        ,  0.        ,  0.        ,\n",
       "         0.        ,  0.        ],\n",
       "       [ 1.007697  ,  0.        ,  0.        ,  0.        ,  0.        ,\n",
       "         0.        ,  0.        ],\n",
       "       [ 0.99097437,  0.        ,  0.        ,  0.        ,  0.        ,\n",
       "         0.        ,  0.        ],\n",
       "       [ 0.98289406,  0.        ,  0.        ,  0.        ,  0.        ,\n",
       "         0.        ,  0.        ],\n",
       "       [ 0.9451107 ,  0.        ,  0.        ,  0.        ,  0.        ,\n",
       "         0.        ,  0.        ],\n",
       "       [ 0.94014263,  0.        ,  0.        ,  0.        ,  0.        ,\n",
       "         0.        ,  0.        ],\n",
       "       [ 0.9215232 ,  0.        ,  0.        ,  0.        ,  0.        ,\n",
       "         0.        ,  0.        ],\n",
       "       [ 0.9208149 ,  0.        ,  0.        ,  0.        ,  0.        ,\n",
       "         0.        ,  0.        ],\n",
       "       [ 0.8850878 ,  0.        ,  0.        ,  0.        ,  0.        ,\n",
       "         0.        ,  0.        ],\n",
       "       [ 0.8803102 ,  0.        ,  0.        ,  0.        ,  0.        ,\n",
       "         0.        ,  0.        ],\n",
       "       [ 0.86547035,  0.        ,  0.        ,  0.        ,  0.        ,\n",
       "         0.        ,  0.        ],\n",
       "       [ 0.842777  ,  0.        ,  0.        ,  0.        ,  0.        ,\n",
       "         0.        ,  0.        ],\n",
       "       [ 0.8410944 ,  0.        ,  0.        ,  0.        ,  0.        ,\n",
       "         0.        ,  0.        ],\n",
       "       [ 0.83810234,  0.        ,  0.        ,  0.        ,  0.        ,\n",
       "         0.        ,  0.        ],\n",
       "       [ 0.7896152 ,  0.        ,  0.        ,  0.        ,  0.        ,\n",
       "         0.        ,  0.        ],\n",
       "       [ 0.8014395 ,  0.        ,  0.        ,  0.        ,  0.        ,\n",
       "         0.        ,  0.        ],\n",
       "       [ 0.75645   ,  0.        ,  0.        ,  0.        ,  0.        ,\n",
       "         0.        ,  0.        ],\n",
       "       [ 0.70635223,  0.        ,  0.        ,  0.        ,  0.        ,\n",
       "         0.        ,  0.        ],\n",
       "       [ 0.7586887 ,  0.        ,  0.        ,  0.        ,  0.        ,\n",
       "         0.        ,  0.        ],\n",
       "       [ 0.7491099 ,  0.        ,  0.        ,  0.        ,  0.        ,\n",
       "         0.        ,  0.        ],\n",
       "       [ 0.74417335,  0.        ,  0.        ,  0.        ,  0.        ,\n",
       "         0.        ,  0.        ],\n",
       "       [ 0.7047202 ,  0.        ,  0.        ,  0.        ,  0.        ,\n",
       "         0.        ,  0.        ],\n",
       "       [ 0.76705366,  0.        ,  0.        ,  0.        ,  0.        ,\n",
       "         0.        ,  0.        ],\n",
       "       [ 0.73116934,  0.        ,  0.        ,  0.        ,  0.        ,\n",
       "         0.        ,  0.        ],\n",
       "       [ 0.6394773 ,  0.        ,  0.        ,  0.        ,  0.        ,\n",
       "         0.        ,  0.        ],\n",
       "       [ 0.681848  ,  0.        ,  0.        ,  0.        ,  0.        ,\n",
       "         0.        ,  0.        ],\n",
       "       [ 0.7021948 ,  0.        ,  0.        ,  0.        ,  0.        ,\n",
       "         0.        ,  0.        ],\n",
       "       [ 0.7001717 ,  0.        ,  0.        ,  0.        ,  0.        ,\n",
       "         0.        ,  0.        ],\n",
       "       [ 0.6908387 ,  0.        ,  0.        ,  0.        ,  0.        ,\n",
       "         0.        ,  0.        ],\n",
       "       [ 0.6233195 ,  0.        ,  0.        ,  0.        ,  0.        ,\n",
       "         0.        ,  0.        ],\n",
       "       [ 0.50145286,  0.        ,  0.        ,  0.        ,  0.        ,\n",
       "         0.        ,  0.        ],\n",
       "       [ 0.65911394,  0.        ,  0.        ,  0.        ,  0.        ,\n",
       "         0.        ,  0.        ],\n",
       "       [ 0.65553665,  0.        ,  0.        ,  0.        ,  0.        ,\n",
       "         0.        ,  0.        ],\n",
       "       [ 0.7764064 ,  0.        ,  0.        ,  0.        ,  0.        ,\n",
       "         0.        ,  0.        ],\n",
       "       [ 0.8291385 ,  0.        ,  0.        ,  0.        ,  0.        ,\n",
       "         0.        ,  0.        ],\n",
       "       [ 1.4109973 ,  0.        ,  0.        ,  0.        ,  0.        ,\n",
       "         0.        ,  0.        ],\n",
       "       [10.162721  ,  0.        ,  0.        ,  0.        ,  0.        ,\n",
       "         0.        ,  0.        ],\n",
       "       [        inf,  0.        ,  0.        ,  0.        ,  0.        ,\n",
       "         0.        ,  0.        ],\n",
       "       [        nan,  0.        ,  0.        ,  0.        ,  0.        ,\n",
       "         0.        ,  0.        ],\n",
       "       [ 0.        ,  0.        ,  0.        ,  0.        ,  0.        ,\n",
       "         0.        ,  0.        ],\n",
       "       [ 0.        ,  0.        ,  0.        ,  0.        ,  0.        ,\n",
       "         0.        ,  0.        ],\n",
       "       [ 0.        ,  0.        ,  0.        ,  0.        ,  0.        ,\n",
       "         0.        ,  0.        ],\n",
       "       [ 0.        ,  0.        ,  0.        ,  0.        ,  0.        ,\n",
       "         0.        ,  0.        ],\n",
       "       [ 0.        ,  0.        ,  0.        ,  0.        ,  0.        ,\n",
       "         0.        ,  0.        ],\n",
       "       [ 0.        ,  0.        ,  0.        ,  0.        ,  0.        ,\n",
       "         0.        ,  0.        ],\n",
       "       [ 0.        ,  0.        ,  0.        ,  0.        ,  0.        ,\n",
       "         0.        ,  0.        ],\n",
       "       [ 0.        ,  0.        ,  0.        ,  0.        ,  0.        ,\n",
       "         0.        ,  0.        ],\n",
       "       [ 0.        ,  0.        ,  0.        ,  0.        ,  0.        ,\n",
       "         0.        ,  0.        ],\n",
       "       [ 0.        ,  0.        ,  0.        ,  0.        ,  0.        ,\n",
       "         0.        ,  0.        ],\n",
       "       [ 0.        ,  0.        ,  0.        ,  0.        ,  0.        ,\n",
       "         0.        ,  0.        ],\n",
       "       [ 0.        ,  0.        ,  0.        ,  0.        ,  0.        ,\n",
       "         0.        ,  0.        ]], dtype=float32)<br><br>Variances (σ²):<br>array([[0.00000000e+00, 0.00000000e+00, 8.33006821e+01, 8.98185444e+00,\n",
       "        2.34467387e+00, 1.04382145e+00, 7.92172253e-01],\n",
       "       [0.00000000e+00, 3.63315821e+00, 3.17404538e-01, 1.23262465e-01,\n",
       "        1.03731759e-01, 1.08589739e-01, 1.46227762e-01],\n",
       "       [3.14858413e+00, 1.04125731e-01, 3.48528437e-02, 3.34999599e-02,\n",
       "        4.30118702e-02, 5.87389246e-02, 8.72721374e-02],\n",
       "       [1.77001387e-01, 2.16373857e-02, 1.53152179e-02, 1.93616617e-02,\n",
       "        2.86529083e-02, 4.09739278e-02, 6.30469397e-02],\n",
       "       [3.54558676e-02, 1.01367207e-02, 9.53716040e-03, 1.36908060e-02,\n",
       "        2.10612081e-02, 2.98998859e-02, 4.65505533e-02],\n",
       "       [1.39849922e-02, 6.37732213e-03, 6.82393694e-03, 1.03369420e-02,\n",
       "        1.59106124e-02, 2.26983428e-02, 3.60414386e-02],\n",
       "       [8.11296701e-03, 4.40947711e-03, 5.15127508e-03, 7.83863012e-03,\n",
       "        1.23048685e-02, 1.80143546e-02, 2.73588039e-02],\n",
       "       [5.34319459e-03, 3.25378496e-03, 3.98876471e-03, 6.15458796e-03,\n",
       "        9.61041357e-03, 1.37708895e-02, 2.13954430e-02],\n",
       "       [3.69794085e-03, 2.57181004e-03, 3.14219529e-03, 4.86177392e-03,\n",
       "        7.55064143e-03, 1.07936226e-02, 1.68531947e-02],\n",
       "       [2.79457378e-03, 2.00853567e-03, 2.47922307e-03, 3.86721105e-03,\n",
       "        5.97467832e-03, 8.61489121e-03, 1.33610172e-02],\n",
       "       [2.15857662e-03, 1.61955634e-03, 2.00892752e-03, 3.10011487e-03,\n",
       "        4.80396254e-03, 6.92369370e-03, 1.18018053e-02],\n",
       "       [1.68543984e-03, 1.29048922e-03, 1.61302846e-03, 2.48945015e-03,\n",
       "        3.88060836e-03, 5.78956027e-03, 1.13680279e-02],\n",
       "       [1.39625557e-03, 1.07838470e-03, 1.34541118e-03, 2.05391180e-03,\n",
       "        3.21643893e-03, 5.37492102e-03, 1.16460659e-02],\n",
       "       [1.15137920e-03, 8.76264821e-04, 1.10511843e-03, 1.70908822e-03,\n",
       "        2.71994527e-03, 5.15321083e-03, 1.23989508e-02],\n",
       "       [9.36345081e-04, 7.43215263e-04, 9.13210679e-04, 1.40182977e-03,\n",
       "        2.49776617e-03, 5.20855235e-03, 1.42504135e-02],\n",
       "       [8.08363082e-04, 6.28844544e-04, 7.74616783e-04, 1.20525993e-03,\n",
       "        2.36135069e-03, 5.48238074e-03, 2.05126330e-02],\n",
       "       [6.89215667e-04, 5.29972953e-04, 6.56352844e-04, 1.06112857e-03,\n",
       "        2.33688066e-03, 6.16119988e-03, 3.49448361e-02],\n",
       "       [5.84782625e-04, 4.57314833e-04, 5.62974310e-04, 9.62592894e-04,\n",
       "        2.40773545e-03, 7.75159942e-03, 7.42868930e-02],\n",
       "       [5.02041192e-04, 3.90160800e-04, 4.85632219e-04, 9.21003171e-04,\n",
       "        2.48991325e-03, 1.14128226e-02, 2.11264417e-01],\n",
       "       [4.42282646e-04, 3.42365034e-04, 4.26520710e-04, 9.06632864e-04,\n",
       "        2.76616565e-03, 1.98952127e-02, 3.82615447e+00],\n",
       "       [3.86571977e-04, 2.97613966e-04, 3.82104656e-04, 9.05235007e-04,\n",
       "        3.40355956e-03, 4.15894948e-02, 0.00000000e+00],\n",
       "       [3.40312457e-04, 2.60815345e-04, 3.51020513e-04, 9.11513926e-04,\n",
       "        4.62534418e-03, 1.20154247e-01, 0.00000000e+00],\n",
       "       [2.98714062e-04, 2.31273385e-04, 3.30172712e-04, 9.48649307e-04,\n",
       "        6.97385054e-03, 1.30886865e+00, 0.00000000e+00],\n",
       "       [2.69210723e-04, 2.03384014e-04, 3.16225371e-04, 1.07188919e-03,\n",
       "        1.11077130e-02, 0.00000000e+00, 0.00000000e+00],\n",
       "       [2.39121044e-04, 1.83560333e-04, 3.11594922e-04, 1.19374599e-03,\n",
       "        2.32980698e-02, 0.00000000e+00, 0.00000000e+00],\n",
       "       [2.12339000e-04, 1.66631318e-04, 3.09626746e-04, 1.46163965e-03,\n",
       "        5.92656098e-02, 0.00000000e+00, 0.00000000e+00],\n",
       "       [1.91573010e-04, 1.52712222e-04, 3.10390606e-04, 1.92213955e-03,\n",
       "        4.51850384e-01, 0.00000000e+00, 0.00000000e+00],\n",
       "       [1.73530410e-04, 1.42227800e-04, 3.17068771e-04, 2.81392247e-03,\n",
       "                   inf, 0.00000000e+00, 0.00000000e+00],\n",
       "       [1.56697148e-04, 1.32628760e-04, 3.31015210e-04, 4.16972861e-03,\n",
       "        0.00000000e+00, 0.00000000e+00, 0.00000000e+00],\n",
       "       [1.43825149e-04, 1.26431798e-04, 3.56510864e-04, 6.93121599e-03,\n",
       "        0.00000000e+00, 0.00000000e+00, 0.00000000e+00],\n",
       "       [1.31226378e-04, 1.21002791e-04, 3.95249372e-04, 1.31258275e-02,\n",
       "        0.00000000e+00, 0.00000000e+00, 0.00000000e+00],\n",
       "       [1.19131342e-04, 1.16909461e-04, 4.48093982e-04, 3.18226553e-02,\n",
       "        0.00000000e+00, 0.00000000e+00, 0.00000000e+00],\n",
       "       [1.10437009e-04, 1.15555005e-04, 5.23742463e-04, 1.09974094e-01,\n",
       "        0.00000000e+00, 0.00000000e+00, 0.00000000e+00],\n",
       "       [1.01746198e-04, 1.14023373e-04, 6.48770714e-04, 0.00000000e+00,\n",
       "        0.00000000e+00, 0.00000000e+00, 0.00000000e+00],\n",
       "       [9.25805434e-05, 1.14270166e-04, 8.56214494e-04, 0.00000000e+00,\n",
       "        0.00000000e+00, 0.00000000e+00, 0.00000000e+00],\n",
       "       [8.81895248e-05, 1.15175972e-04, 1.10957387e-03, 0.00000000e+00,\n",
       "        0.00000000e+00, 0.00000000e+00, 0.00000000e+00],\n",
       "       [8.10576239e-05, 1.17803887e-04, 1.57690782e-03, 0.00000000e+00,\n",
       "        0.00000000e+00, 0.00000000e+00, 0.00000000e+00],\n",
       "       [7.80398113e-05, 1.23798076e-04, 2.38437881e-03, 0.00000000e+00,\n",
       "        0.00000000e+00, 0.00000000e+00, 0.00000000e+00],\n",
       "       [7.28969680e-05, 1.28424726e-04, 3.59033933e-03, 0.00000000e+00,\n",
       "        0.00000000e+00, 0.00000000e+00, 0.00000000e+00],\n",
       "       [7.01567842e-05, 1.36383096e-04, 6.52804459e-03, 0.00000000e+00,\n",
       "        0.00000000e+00, 0.00000000e+00, 0.00000000e+00],\n",
       "       [6.73813774e-05, 1.45966886e-04, 1.23374648e-02, 0.00000000e+00,\n",
       "        0.00000000e+00, 0.00000000e+00, 0.00000000e+00],\n",
       "       [6.45089749e-05, 1.58843424e-04, 3.50653864e-02, 0.00000000e+00,\n",
       "        0.00000000e+00, 0.00000000e+00, 0.00000000e+00],\n",
       "       [6.21824947e-05, 1.75197332e-04, 1.13668692e+00, 0.00000000e+00,\n",
       "        0.00000000e+00, 0.00000000e+00, 0.00000000e+00],\n",
       "       [6.20362698e-05, 1.94059452e-04,            inf, 0.00000000e+00,\n",
       "        0.00000000e+00, 0.00000000e+00, 0.00000000e+00],\n",
       "       [6.00150306e-05, 2.20318310e-04, 0.00000000e+00, 0.00000000e+00,\n",
       "        0.00000000e+00, 0.00000000e+00, 0.00000000e+00],\n",
       "       [5.92841971e-05, 2.52865022e-04, 0.00000000e+00, 0.00000000e+00,\n",
       "        0.00000000e+00, 0.00000000e+00, 0.00000000e+00],\n",
       "       [5.93091900e-05, 2.94749887e-04, 0.00000000e+00, 0.00000000e+00,\n",
       "        0.00000000e+00, 0.00000000e+00, 0.00000000e+00],\n",
       "       [5.88644725e-05, 3.62240069e-04, 0.00000000e+00, 0.00000000e+00,\n",
       "        0.00000000e+00, 0.00000000e+00, 0.00000000e+00],\n",
       "       [5.80990891e-05, 4.47194616e-04, 0.00000000e+00, 0.00000000e+00,\n",
       "        0.00000000e+00, 0.00000000e+00, 0.00000000e+00],\n",
       "       [5.86024253e-05, 5.61049441e-04, 0.00000000e+00, 0.00000000e+00,\n",
       "        0.00000000e+00, 0.00000000e+00, 0.00000000e+00],\n",
       "       [6.02330983e-05, 6.84907485e-04, 0.00000000e+00, 0.00000000e+00,\n",
       "        0.00000000e+00, 0.00000000e+00, 0.00000000e+00],\n",
       "       [6.00691565e-05, 9.02599888e-04, 0.00000000e+00, 0.00000000e+00,\n",
       "        0.00000000e+00, 0.00000000e+00, 0.00000000e+00],\n",
       "       [6.00642852e-05, 1.17636926e-03, 0.00000000e+00, 0.00000000e+00,\n",
       "        0.00000000e+00, 0.00000000e+00, 0.00000000e+00],\n",
       "       [6.49130161e-05, 1.74582831e-03, 0.00000000e+00, 0.00000000e+00,\n",
       "        0.00000000e+00, 0.00000000e+00, 0.00000000e+00],\n",
       "       [6.62256425e-05, 2.52967700e-03, 0.00000000e+00, 0.00000000e+00,\n",
       "        0.00000000e+00, 0.00000000e+00, 0.00000000e+00],\n",
       "       [6.72635651e-05, 3.57691641e-03, 0.00000000e+00, 0.00000000e+00,\n",
       "        0.00000000e+00, 0.00000000e+00, 0.00000000e+00],\n",
       "       [7.22453187e-05, 5.87811042e-03, 0.00000000e+00, 0.00000000e+00,\n",
       "        0.00000000e+00, 0.00000000e+00, 0.00000000e+00],\n",
       "       [7.57676535e-05, 1.76063851e-02, 0.00000000e+00, 0.00000000e+00,\n",
       "        0.00000000e+00, 0.00000000e+00, 0.00000000e+00],\n",
       "       [7.88123798e-05, 6.35004193e-02, 0.00000000e+00, 0.00000000e+00,\n",
       "        0.00000000e+00, 0.00000000e+00, 0.00000000e+00],\n",
       "       [8.38537308e-05,            inf, 0.00000000e+00, 0.00000000e+00,\n",
       "        0.00000000e+00, 0.00000000e+00, 0.00000000e+00],\n",
       "       [8.95464837e-05, 0.00000000e+00, 0.00000000e+00, 0.00000000e+00,\n",
       "        0.00000000e+00, 0.00000000e+00, 0.00000000e+00],\n",
       "       [9.65473009e-05, 0.00000000e+00, 0.00000000e+00, 0.00000000e+00,\n",
       "        0.00000000e+00, 0.00000000e+00, 0.00000000e+00],\n",
       "       [1.04378472e-04, 0.00000000e+00, 0.00000000e+00, 0.00000000e+00,\n",
       "        0.00000000e+00, 0.00000000e+00, 0.00000000e+00],\n",
       "       [1.08635300e-04, 0.00000000e+00, 0.00000000e+00, 0.00000000e+00,\n",
       "        0.00000000e+00, 0.00000000e+00, 0.00000000e+00],\n",
       "       [1.18350705e-04, 0.00000000e+00, 0.00000000e+00, 0.00000000e+00,\n",
       "        0.00000000e+00, 0.00000000e+00, 0.00000000e+00],\n",
       "       [1.26773069e-04, 0.00000000e+00, 0.00000000e+00, 0.00000000e+00,\n",
       "        0.00000000e+00, 0.00000000e+00, 0.00000000e+00],\n",
       "       [1.43087222e-04, 0.00000000e+00, 0.00000000e+00, 0.00000000e+00,\n",
       "        0.00000000e+00, 0.00000000e+00, 0.00000000e+00],\n",
       "       [1.50814900e-04, 0.00000000e+00, 0.00000000e+00, 0.00000000e+00,\n",
       "        0.00000000e+00, 0.00000000e+00, 0.00000000e+00],\n",
       "       [1.66240512e-04, 0.00000000e+00, 0.00000000e+00, 0.00000000e+00,\n",
       "        0.00000000e+00, 0.00000000e+00, 0.00000000e+00],\n",
       "       [1.81327428e-04, 0.00000000e+00, 0.00000000e+00, 0.00000000e+00,\n",
       "        0.00000000e+00, 0.00000000e+00, 0.00000000e+00],\n",
       "       [2.01632327e-04, 0.00000000e+00, 0.00000000e+00, 0.00000000e+00,\n",
       "        0.00000000e+00, 0.00000000e+00, 0.00000000e+00],\n",
       "       [2.28520628e-04, 0.00000000e+00, 0.00000000e+00, 0.00000000e+00,\n",
       "        0.00000000e+00, 0.00000000e+00, 0.00000000e+00],\n",
       "       [2.54471932e-04, 0.00000000e+00, 0.00000000e+00, 0.00000000e+00,\n",
       "        0.00000000e+00, 0.00000000e+00, 0.00000000e+00],\n",
       "       [2.71241734e-04, 0.00000000e+00, 0.00000000e+00, 0.00000000e+00,\n",
       "        0.00000000e+00, 0.00000000e+00, 0.00000000e+00],\n",
       "       [2.97438441e-04, 0.00000000e+00, 0.00000000e+00, 0.00000000e+00,\n",
       "        0.00000000e+00, 0.00000000e+00, 0.00000000e+00],\n",
       "       [3.32107360e-04, 0.00000000e+00, 0.00000000e+00, 0.00000000e+00,\n",
       "        0.00000000e+00, 0.00000000e+00, 0.00000000e+00],\n",
       "       [3.61762271e-04, 0.00000000e+00, 0.00000000e+00, 0.00000000e+00,\n",
       "        0.00000000e+00, 0.00000000e+00, 0.00000000e+00],\n",
       "       [4.50706837e-04, 0.00000000e+00, 0.00000000e+00, 0.00000000e+00,\n",
       "        0.00000000e+00, 0.00000000e+00, 0.00000000e+00],\n",
       "       [5.36791456e-04, 0.00000000e+00, 0.00000000e+00, 0.00000000e+00,\n",
       "        0.00000000e+00, 0.00000000e+00, 0.00000000e+00],\n",
       "       [6.39368198e-04, 0.00000000e+00, 0.00000000e+00, 0.00000000e+00,\n",
       "        0.00000000e+00, 0.00000000e+00, 0.00000000e+00],\n",
       "       [7.24927289e-04, 0.00000000e+00, 0.00000000e+00, 0.00000000e+00,\n",
       "        0.00000000e+00, 0.00000000e+00, 0.00000000e+00],\n",
       "       [9.12809628e-04, 0.00000000e+00, 0.00000000e+00, 0.00000000e+00,\n",
       "        0.00000000e+00, 0.00000000e+00, 0.00000000e+00],\n",
       "       [1.05025189e-03, 0.00000000e+00, 0.00000000e+00, 0.00000000e+00,\n",
       "        0.00000000e+00, 0.00000000e+00, 0.00000000e+00],\n",
       "       [1.04164483e-03, 0.00000000e+00, 0.00000000e+00, 0.00000000e+00,\n",
       "        0.00000000e+00, 0.00000000e+00, 0.00000000e+00],\n",
       "       [1.46022462e-03, 0.00000000e+00, 0.00000000e+00, 0.00000000e+00,\n",
       "        0.00000000e+00, 0.00000000e+00, 0.00000000e+00],\n",
       "       [1.91379199e-03, 0.00000000e+00, 0.00000000e+00, 0.00000000e+00,\n",
       "        0.00000000e+00, 0.00000000e+00, 0.00000000e+00],\n",
       "       [2.37880554e-03, 0.00000000e+00, 0.00000000e+00, 0.00000000e+00,\n",
       "        0.00000000e+00, 0.00000000e+00, 0.00000000e+00],\n",
       "       [3.18286475e-03, 0.00000000e+00, 0.00000000e+00, 0.00000000e+00,\n",
       "        0.00000000e+00, 0.00000000e+00, 0.00000000e+00],\n",
       "       [3.58299236e-03, 0.00000000e+00, 0.00000000e+00, 0.00000000e+00,\n",
       "        0.00000000e+00, 0.00000000e+00, 0.00000000e+00],\n",
       "       [3.99650680e-03, 0.00000000e+00, 0.00000000e+00, 0.00000000e+00,\n",
       "        0.00000000e+00, 0.00000000e+00, 0.00000000e+00],\n",
       "       [5.66554349e-03, 0.00000000e+00, 0.00000000e+00, 0.00000000e+00,\n",
       "        0.00000000e+00, 0.00000000e+00, 0.00000000e+00],\n",
       "       [7.11116847e-03, 0.00000000e+00, 0.00000000e+00, 0.00000000e+00,\n",
       "        0.00000000e+00, 0.00000000e+00, 0.00000000e+00],\n",
       "       [1.41532924e-02, 0.00000000e+00, 0.00000000e+00, 0.00000000e+00,\n",
       "        0.00000000e+00, 0.00000000e+00, 0.00000000e+00],\n",
       "       [2.55945250e-02, 0.00000000e+00, 0.00000000e+00, 0.00000000e+00,\n",
       "        0.00000000e+00, 0.00000000e+00, 0.00000000e+00],\n",
       "       [8.02255645e-02, 0.00000000e+00, 0.00000000e+00, 0.00000000e+00,\n",
       "        0.00000000e+00, 0.00000000e+00, 0.00000000e+00],\n",
       "       [1.65809746e+01, 0.00000000e+00, 0.00000000e+00, 0.00000000e+00,\n",
       "        0.00000000e+00, 0.00000000e+00, 0.00000000e+00],\n",
       "       [           inf, 0.00000000e+00, 0.00000000e+00, 0.00000000e+00,\n",
       "        0.00000000e+00, 0.00000000e+00, 0.00000000e+00],\n",
       "       [           inf, 0.00000000e+00, 0.00000000e+00, 0.00000000e+00,\n",
       "        0.00000000e+00, 0.00000000e+00, 0.00000000e+00],\n",
       "       [0.00000000e+00, 0.00000000e+00, 0.00000000e+00, 0.00000000e+00,\n",
       "        0.00000000e+00, 0.00000000e+00, 0.00000000e+00],\n",
       "       [0.00000000e+00, 0.00000000e+00, 0.00000000e+00, 0.00000000e+00,\n",
       "        0.00000000e+00, 0.00000000e+00, 0.00000000e+00],\n",
       "       [0.00000000e+00, 0.00000000e+00, 0.00000000e+00, 0.00000000e+00,\n",
       "        0.00000000e+00, 0.00000000e+00, 0.00000000e+00],\n",
       "       [0.00000000e+00, 0.00000000e+00, 0.00000000e+00, 0.00000000e+00,\n",
       "        0.00000000e+00, 0.00000000e+00, 0.00000000e+00],\n",
       "       [0.00000000e+00, 0.00000000e+00, 0.00000000e+00, 0.00000000e+00,\n",
       "        0.00000000e+00, 0.00000000e+00, 0.00000000e+00],\n",
       "       [0.00000000e+00, 0.00000000e+00, 0.00000000e+00, 0.00000000e+00,\n",
       "        0.00000000e+00, 0.00000000e+00, 0.00000000e+00],\n",
       "       [0.00000000e+00, 0.00000000e+00, 0.00000000e+00, 0.00000000e+00,\n",
       "        0.00000000e+00, 0.00000000e+00, 0.00000000e+00],\n",
       "       [0.00000000e+00, 0.00000000e+00, 0.00000000e+00, 0.00000000e+00,\n",
       "        0.00000000e+00, 0.00000000e+00, 0.00000000e+00],\n",
       "       [0.00000000e+00, 0.00000000e+00, 0.00000000e+00, 0.00000000e+00,\n",
       "        0.00000000e+00, 0.00000000e+00, 0.00000000e+00],\n",
       "       [0.00000000e+00, 0.00000000e+00, 0.00000000e+00, 0.00000000e+00,\n",
       "        0.00000000e+00, 0.00000000e+00, 0.00000000e+00],\n",
       "       [0.00000000e+00, 0.00000000e+00, 0.00000000e+00, 0.00000000e+00,\n",
       "        0.00000000e+00, 0.00000000e+00, 0.00000000e+00],\n",
       "       [0.00000000e+00, 0.00000000e+00, 0.00000000e+00, 0.00000000e+00,\n",
       "        0.00000000e+00, 0.00000000e+00, 0.00000000e+00]], dtype=float32)</pre></li></ul></div></li></ul></div></div>"
      ],
      "text/plain": [
       "<scipp.DataArray>\n",
       "Dimensions: Sizes[Q:110, wavelength:7, ]\n",
       "Coordinates:\n",
       "  L1                        float64              [m]  ()  25.61\n",
       "* Q                         float64           [1/Å]  (Q [bin-edge])  [0.004, 0.0076, ..., 0.3964, 0.4]\n",
       "  gravity                   vector3          [m/s^2]  ()  (0, -9.80665, 0)\n",
       "  incident_beam             vector3              [m]  ()  (0, 0, 25.61)\n",
       "  sample_position           vector3              [m]  ()  (0, 0, 25.61)\n",
       "  source_position           vector3              [m]  ()  (0, 0, 0)\n",
       "* wavelength                float64             [Å]  (wavelength [bin-edge])  [2.2, 3.6, ..., 10.6, 12]\n",
       "Data:\n",
       "                            float32         [counts]  (Q, wavelength)  [0, 0, ..., 0, 0]  [0, 0, ..., 0, 0]\n"
      ]
     },
     "execution_count": 21,
     "metadata": {},
     "output_type": "execute_result"
    }
   ],
   "source": [
    "wavelength_bands = sc.linspace(dim='wavelength', start=2.2, stop=12.0, num=8,\n",
    "                               unit='angstrom')\n",
    "\n",
    "sample_slices = sans.to_I_of_Q(data=ds['sample'],\n",
    "    data_monitors=sample_monitors,\n",
    "    direct_monitors=empty_beam_monitors,\n",
    "    direct_beam=direct_beam,\n",
    "    wavelength_bins=wavelength_bins,\n",
    "    q_bins=q_bins,\n",
    "    gravity=gravity,\n",
    "    wavelength_bands=wavelength_bands,\n",
    "    wavelength_mask=wavelength_mask)\n",
    "\n",
    "background_slices = sans.to_I_of_Q(data=ds['background'],\n",
    "    data_monitors=background_monitors,\n",
    "    direct_monitors=empty_beam_monitors,\n",
    "    direct_beam=direct_beam,\n",
    "    wavelength_bins=wavelength_bins,\n",
    "    q_bins=q_bins,\n",
    "    gravity=gravity,\n",
    "    wavelength_bands=wavelength_bands,\n",
    "    wavelength_mask=wavelength_mask)\n",
    "\n",
    "result_slices = sample_slices.bins.sum() - background_slices.bins.sum()\n",
    "result_slices"
   ]
  },
  {
   "cell_type": "code",
   "execution_count": 22,
   "id": "60c03e8c-4533-471e-8483-3c0c555fae7d",
   "metadata": {},
   "outputs": [
    {
     "data": {
      "application/vnd.jupyter.widget-view+json": {
       "model_id": "c4ee5b4a793343248e0742f5211da842",
       "version_major": 2,
       "version_minor": 0
      },
      "text/plain": [
       "InteractiveFig(children=(HBar(), HBox(children=(VBar(children=(Toolbar(children=(ButtonTool(icon='home', layou…"
      ]
     },
     "execution_count": 22,
     "metadata": {},
     "output_type": "execute_result"
    },
    {
     "data": {
      "application/vnd.jupyter.widget-view+json": {
       "model_id": "21d2895843c14177bf51d062e29ce7e7",
       "version_major": 2,
       "version_minor": 0
      },
      "image/png": "[encoded data removed]",
      "text/html": [
       "\n",
       "            <div style=\"display: inline-block;\">\n",
       "                <div class=\"jupyter-widgets widget-label\" style=\"text-align: center;\">\n",
       "                    Figure\n",
       "                </div>\n",
       "                <img src='data:image/png;base64,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' width=1000.0/>\n",
       "            </div>\n",
       "        "
      ],
      "text/plain": [
       "Canvas(toolbar=Toolbar(toolitems=[('Home', 'Reset original view', 'home', 'home'), ('Back', 'Back to previous …"
      ]
     },
     "metadata": {},
     "output_type": "display_data"
    }
   ],
   "source": [
    "collapsed = sc.collapse(result_slices, keep='Q')\n",
    "\n",
    "fig2, ax2 = plt.subplots(1, 2, figsize=(10, 4))\n",
    "sc.plot(collapsed, ax=ax2[0])\n",
    "sc.plot(collapsed, norm='log', ax=ax2[1])\n"
   ]
  },
  {
   "cell_type": "markdown",
   "id": "e4169420-cf1a-4a45-a1f9-f36f00e7ee12",
   "metadata": {
    "jp-MarkdownHeadingCollapsed": true
   },
   "source": [
    "### Benchmarking with Mantid (for a single slice)\n",
    "- Comparision of denominator\n",
    "- Comparison of nominator\n",
    "- Comparison of slice/check if division works the same in scipp and mantid"
   ]
  },
  {
   "cell_type": "raw",
   "id": "91151675-9e98-4780-8d1c-2c47243daf97",
   "metadata": {},
   "source": [
    "#Calculating denominator for a slice\n",
    "graph = sans.conversions.sans_elastic(gravity=gravity)\n",
    "direct_beam = sans.i_of_q.resample_direct_beam(\n",
    "         direct_beam=direct_beam, wavelength_bins=wavelength_bins)\n",
    "\n",
    "denominator_wav = sans.normalization.iofq_denominator(\n",
    "    data=ds['sample'],\n",
    "    data_transmission_monitor=sample_monitors['transmission'],\n",
    "    direct_incident_monitor=empty_beam_monitors['incident'],\n",
    "    direct_transmission_monitor=empty_beam_monitors['transmission'],\n",
    "    direct_beam=direct_beam\n",
    ")\n",
    "\n",
    "# Insert a copy of coords needed for conversion to Q.\n",
    "# TODO: can this be avoided by copying the Q coords from the converted numerator?\n",
    "for coord in ['position', 'sample_position', 'source_position']:\n",
    "    denominator_wav.coords[coord] = ds['sample'].meta[coord]\n",
    "\n",
    "\n",
    "denominator_q_bands = sans.i_of_q.convert_to_q_and_merge_spectra(\n",
    "        data=denominator_wav,\n",
    "        graph=graph,\n",
    "        wavelength_bands=wavelength_bands,\n",
    "        q_bins=q_bins,\n",
    "        gravity=gravity,\n",
    "    )\n",
    "\n",
    "numerator_q_bands = sans.i_of_q.convert_to_q_and_merge_spectra(\n",
    "        data=ds['sample'],\n",
    "        graph=graph,\n",
    "        wavelength_bands=wavelength_bands,\n",
    "        q_bins=q_bins,\n",
    "        gravity=gravity,\n",
    "    )"
   ]
  },
  {
   "cell_type": "raw",
   "id": "8243ecd0-b6dc-4ca0-9f92-3c39c709b585",
   "metadata": {},
   "source": [
    "denominator_wav_bkg = sans.normalization.iofq_denominator(\n",
    "    data=ds['background'],\n",
    "    data_transmission_monitor=sample_monitors['transmission'],\n",
    "    direct_incident_monitor=empty_beam_monitors['incident'],\n",
    "    direct_transmission_monitor=empty_beam_monitors['transmission'],\n",
    "    direct_beam=direct_beam\n",
    ")\n",
    "\n",
    "# Insert a copy of coords needed for conversion to Q.\n",
    "# TODO: can this be avoided by copying the Q coords from the converted numerator?\n",
    "for coord in ['position', 'sample_position', 'source_position']:\n",
    "    denominator_wav_bkg.coords[coord] = ds['sample'].meta[coord]\n",
    "\n",
    "\n",
    "denominator_q_bands_bkg = sans.i_of_q.convert_to_q_and_merge_spectra(\n",
    "        data=denominator_wav,\n",
    "        graph=graph,\n",
    "        wavelength_bands=wavelength_bands,\n",
    "        q_bins=q_bins,\n",
    "        gravity=gravity,\n",
    "    )\n",
    "\n",
    "numerator_q_bands_bkg = sans.i_of_q.convert_to_q_and_merge_spectra(\n",
    "        data=ds['background'],\n",
    "        graph=graph,\n",
    "        wavelength_bands=wavelength_bands,\n",
    "        q_bins=q_bins,\n",
    "        gravity=gravity,\n",
    "    )"
   ]
  },
  {
   "cell_type": "raw",
   "id": "4e339da4-cfd9-4013-8a1a-317b96b2d298",
   "metadata": {},
   "source": [
    "result_wav_sum = numerator_q_bands.sum('wavelength')/denominator_q_bands.sum('wavelength') - numerator_q_bands_bkg.sum('wavelength')/denominator_q_bands_bkg.sum('wavelength') \n",
    "sc.plot({'result' : result, 'result_from_slices':result_wav_sum})"
   ]
  },
  {
   "cell_type": "raw",
   "id": "e29624e0-7512-4c35-afb6-c69b4b857757",
   "metadata": {},
   "source": [
    "scn.instrument_view(denominator_wav.sum('wavelength'), pixel_size=0.75)"
   ]
  },
  {
   "cell_type": "raw",
   "id": "787e42ff-c13b-4352-8078-a5016bc76a31",
   "metadata": {},
   "source": [
    "#And for slices\n",
    "wavelength_bands = sc.concat(\n",
    "            [wavelength_bins.min(), wavelength_bins.max()], dim='wavelength'\n",
    "        )\n",
    "nominator_q = sans.i_of_q.convert_to_q_and_merge_spectra(\n",
    "        data=ds['background'],\n",
    "        graph=graph,\n",
    "        q_bins=q_bins,\n",
    "        wavelength_bands=wavelength_bands,\n",
    "        gravity=gravity,\n",
    "    )"
   ]
  },
  {
   "cell_type": "code",
   "execution_count": 23,
   "id": "25ecb231-586c-41f6-8c13-90c381b9078e",
   "metadata": {},
   "outputs": [],
   "source": [
    "# mantid_denominator_band_1 = scn.load(f'{path}/denominator_2-3.18_sa.nxs')\n",
    "# mantid_denominator_band_1.data.unit = 'dimensionless'"
   ]
  },
  {
   "cell_type": "code",
   "execution_count": 24,
   "id": "ee787829-90c2-4f02-99a3-6d7f26956617",
   "metadata": {},
   "outputs": [],
   "source": [
    "# sc.plot({'scipp denominator': denominator_q_bands['wavelength', 0], \n",
    "#          'mantid denominator' :  1.3e11*mantid_denominator_band_1})"
   ]
  },
  {
   "cell_type": "code",
   "execution_count": 25,
   "id": "d44eee64-c162-43f4-86dd-1fece80c5b73",
   "metadata": {},
   "outputs": [],
   "source": [
    "# mantid_nominator_band_1= scn.load(f'{path}/ISIS_polymer_slice_0_nominator.nxs')\n",
    "                                     "
   ]
  },
  {
   "cell_type": "code",
   "execution_count": 26,
   "id": "072b90cb-9a9b-4bf5-b3a8-86631d63034e",
   "metadata": {},
   "outputs": [],
   "source": [
    "# sc.plot({'scipp nominator 0': nominator_q_bands['wavelength', 0].bins.sum(), \n",
    "#          'mantid nominator 0':  1.45*mantid_nominator_band_1})"
   ]
  },
  {
   "cell_type": "code",
   "execution_count": 27,
   "id": "ace6ebd7-ae8f-4259-9534-e286d1e1a6b6",
   "metadata": {},
   "outputs": [],
   "source": [
    "# mantid_slice_0 = scn.load(f'{path}/ISIS_polymer_slice_0.nxs')"
   ]
  },
  {
   "cell_type": "code",
   "execution_count": 28,
   "id": "1d1f24c9-b026-432b-9324-2c59cc671f6f",
   "metadata": {},
   "outputs": [],
   "source": [
    "# scipp_slice_0 = nominator_q_bands['wavelength', 0].bins.sum()/denominator_q_bands['wavelength', 0]"
   ]
  },
  {
   "cell_type": "code",
   "execution_count": 29,
   "id": "3f369797-0223-43be-9c93-3eac72c96a79",
   "metadata": {},
   "outputs": [],
   "source": [
    "# result_slices['wavelength', 0].plot()\n",
    "# sc.plot({'scipp calculated slice 0': scipp_slice_0,\n",
    "#          'mantid slice 0':  1e-11*mantid_slice_0})\n",
    "         #'mantid calculated slice 0': 9e-12*mantid_nominator_band_1/mantid_denominator_band_1})\n",
    "# sc.plot({'scipp slice 0': result_slices['wavelength', 0],\n",
    "#          'scipp calculated slice 0': scipp_slice_0,\n",
    "#          'mantid slice 0':  9e-12*mantid_slice_0})\n",
    "#          #'mantid calculated slice 0': 9e-12*mantid_nominator_band_1/mantid_denominator_band_1})"
   ]
  },
  {
   "cell_type": "markdown",
   "id": "993a0aab-4474-445f-a3aa-e440dc33eba9",
   "metadata": {},
   "source": [
    "Note: Scipp division applied mantid nomimator/denominator gives the same result as from Mantid suggesting that the difference is related to the computation of nominator and denominator. It seems to me that differences come from the shift in coordinates position in scipp and mantid. It doesn't seem like there is a linear shift though."
   ]
  },
  {
   "cell_type": "code",
   "execution_count": 30,
   "id": "4875372c-d495-4443-9f09-22d09bc4d53b",
   "metadata": {},
   "outputs": [],
   "source": [
    "# mantid_sample = scn.load(f'{path}/mantid_sample.nxs')"
   ]
  },
  {
   "cell_type": "code",
   "execution_count": 31,
   "id": "539f2dfc-d149-4a76-a06a-dab3e32b65e3",
   "metadata": {},
   "outputs": [],
   "source": [
    "# mantid_sample "
   ]
  },
  {
   "cell_type": "markdown",
   "id": "693a1c6d-8ad7-4396-85b9-93b327b41485",
   "metadata": {},
   "source": [
    "## Running direct Mantid"
   ]
  },
  {
   "cell_type": "code",
   "execution_count": 32,
   "id": "181e6770-de8d-42c0-a8e8-e23d77fde87b",
   "metadata": {},
   "outputs": [],
   "source": [
    "# import mantid algorithms\n",
    "from mantid.simpleapi import *\n",
    "\n",
    "from mantid.api import AnalysisDataService as ADS\n",
    "from mantid.api import WorkspaceGroup\n",
    "from mantid.api import IEventWorkspace\n",
    "from mantid.plots.utility import MantidAxType"
   ]
  },
  {
   "cell_type": "code",
   "execution_count": null,
   "id": "8b1e8755-1d88-4308-9d61-9eafc06a6e28",
   "metadata": {},
   "outputs": [],
   "source": [
    "def getsimuldata(name, filename1, filename2, filepath, filepath_data, idf_file, wlist, step, xcen, ycen, monitor):\n",
    "    # can pass the wavelength bins, beam centre, monitor detector_id etc  later\n",
    "    nexus_file = Load(filepath_data + filename1)\n",
    "    # have to pull in the idf now, else it overrides the Move !\n",
    "    LoadInstrument(Workspace='nexus_file', Filename=filepath + idf_file, MonitorList='', InstrumentName='LOKI',\n",
    "                   RewriteSpectraMap='True')\n",
    "    print(nexus_file.getInstrument().getComponentByName('DetectorBench').getPos())\n",
    "    MoveInstrumentComponent(Workspace='nexus_file', ComponentName=\"DetectorBench\", X=xcen, Y=ycen, Z=0)\n",
    "\n",
    "    # need to do the Move first, as might in detail change the time to wavelength conversion !\n",
    "    # 11/6/21 sorted the 10 pixel shift in data, the centre is now correct.\n",
    "    # MoveInstrumentComponent(Workspace='nexus_file',ComponentName=\"DetectorBench\",X=0.02465,Y=0,Z=0)\n",
    "    # print(mtd[name].getInstrument().getComponentByName('DetectorBench').getPos())\n",
    "    #\n",
    "    # created this mask by picking a rectangle in Mantid whilst in cylindricalY view\n",
    "    # (if you use the default 3d view, you will only pick the front or rear straws that are visible, not the ones in the interior)\n",
    "    # The RefWorkspace here is likely redundant\n",
    "    nexus_file_orig = CloneWorkspace('nexus_file')\n",
    "\n",
    "    for mfile in masklist_edge:\n",
    "        LoadMask(mfile + '.xml', InputFile=filepath + mfile + '.xml', RefWorkspace='nexus_file',\n",
    "                 OutputWorkspace='mask_ends_simul')\n",
    "        MaskDetectors('nexus_file', MaskedWorkspace='mask_ends_simul')\n",
    "\n",
    "    ConvertUnits(InputWorkspace=nexus_file, OutputWorkspace=name, Target='Wavelength', ConvertFromPointData=False)\n",
    "    Rebin(InputWorkspace=name, OutputWorkspace=name, Params=str(wlist[0]) + ',' + str(wstep) + ',' + str(wlist[-1]),\n",
    "          PreserveEvents=False)\n",
    "    # Monitor isnt stored like this in new files 10/11/2022\n",
    "    # ExtractSpectra(InputWorkspace=name, OutputWorkspace=monitor, StartWorkspaceIndex=1, EndWorkspaceIndex=1)\n",
    "\n",
    "    nexus_file_mon = Load(filepath_data + filename2)\n",
    "    ExtractSpectra(InputWorkspace='nexus_file_mon', OutputWorkspace='nexus_file_mon_sim', XMin=0,\n",
    "                   WorkspaceIndexList='0')\n",
    "    ConvertToHistogram(InputWorkspace='nexus_file_mon_sim', OutputWorkspace='nexus_file_mon_sim_his')\n",
    "    detpars = CreateEmptyTableWorkspace()\n",
    "    detpars.addColumn(\"int\", \"spectra\")\n",
    "    detpars.addColumn(\"double\", \"l1\")\n",
    "    detpars.addColumn(\"double\", \"l2\")\n",
    "    detpars.addColumn(\"double\", \"twotheta\")\n",
    "    detpars.addColumn(\"double\", \"efixed\")\n",
    "    detpars.addColumn(\"int\", \"emode\")\n",
    "    # Add the parameters\n",
    "    detpars.addRow([1, 25.76, 0, 180.0, 0.0, 0])\n",
    "    #detpars.addRow([1,  25760, 0, 180.0, 0.0, 0])\n",
    "    wsOutmon = ConvertUnitsUsingDetectorTable('nexus_file_mon_sim_his', Target=\"Wavelength\", DetectorParameters=detpars)\n",
    "    Rebin(InputWorkspace=wsOutmon, OutputWorkspace=monitor,\n",
    "          Params=str(wlist[0]) + ',' + str(wstep) + ',' + str(wlist[-1]), PreserveEvents=True)\n",
    "\n",
    "\n",
    "def getrealdata(name, filename1, trans_runnumber, filepath, filepath_data, idf_file, wlist, step, xcen, ycen, monitor, trans):\n",
    "\n",
    "    # can pass the wavelength bins, beam centre, monitor detector_id etc  later\n",
    "    nexus_file =Load(filepath_data +filename1)\n",
    "    # have to pull in the idf now, else it overrides the Move !\n",
    "    LoadInstrument(Workspace='nexus_file', Filename=filepath +idf_file, MonitorList='', InstrumentName='LOKI', RewriteSpectraMap='True')\n",
    "    # print(mtd[name].getInstrument().getComponentByName('DetectorBench').getPos())\n",
    "    print(nexus_file.getInstrument().getComponentByName('DetectorBench').getPos())\n",
    "    # need to do the Move first, as might in detail change the time to wavelength conversion !\n",
    "    # pick APPROXIMATE centre from show instrument\n",
    "    MoveInstrumentComponent(Workspace='nexus_file' ,ComponentName=\"DetectorBench\" ,X=xcen ,Y=ycen ,Z=0)\n",
    "    # print(mtd[name].getInstrument().getComponentByName('DetectorBench').getPos())\n",
    "\n",
    "    # JH added - to mask prompt pulse - around 1500 and 17500 and 19000.\n",
    "    # WP: switched off to compare \n",
    "    # MaskBins(InputWorkspace='nexus_file', OutputWorkspace='nexus_file' ,InputWorkspaceIndexType='WorkspaceIndex', XMin=5, XMax=4500)\n",
    "    # MaskBins(InputWorkspace='nexus_file', OutputWorkspace='nexus_file' ,InputWorkspaceIndexType='WorkspaceIndex', XMin=17500, XMax=19000)\n",
    "\n",
    "    # (if you use the default 3d view, you will only pick the front or rear straws that are visible, not the ones in the interior)\n",
    "    # The RefWorkspace here is likely redundant\n",
    "    nexus_file_orig =CloneWorkspace('nexus_file')\n",
    "\n",
    "    for mfile in masklist_straws:\n",
    "        LoadMask(mfile + '.xml' ,InputFile=filepath+ mfile + '.xml' ,RefWorkspace='nexus_file'\n",
    "                 ,OutputWorkspace='mask_bs')\n",
    "        MaskDetectors('nexus_file' ,MaskedWorkspace='mask_bs')\n",
    "\n",
    "    for mfile in masklist_edge:\n",
    "        LoadMask(mfile + '.xml' ,InputFile=filepath+ mfile + '.xml' ,RefWorkspace='nexus_file'\n",
    "                 ,OutputWorkspace='mask_ends')\n",
    "        MaskDetectors('nexus_file' ,MaskedWorkspace='mask_ends')\n",
    "\n",
    "    ConvertUnits(InputWorkspace=nexus_file, OutputWorkspace=name, Target='Wavelength', ConvertFromPointData=False)\n",
    "\n",
    "    Rebin(InputWorkspace=name, OutputWorkspace=name, Params=str(wlist[0] ) +', ' +str(wstep ) +', ' +str(wlist[-1]), PreserveEvents=True)\n",
    "\n",
    "    # LOADING MONITORS IN TOF\n",
    "    LoadNexus(Filename=filepath_data +trans_runnumber +'-monitor1-tof-add.nxs', OutputWorkspace=trans_runnumber +'_mon1')\n",
    "    LoadNexus(Filename=filepath_data +trans_runnumber +'-monitor2-tof-add.nxs', OutputWorkspace=trans_runnumber +'_mon2')\n",
    "    ws1 = CalculateFlatBackground(InputWorkspace=trans_runnumber +'_mon1', StartX=40000000, EndX=99000000, Mode='Mean')\n",
    "    ws2 = CalculateFlatBackground(InputWorkspace=trans_runnumber +'_mon2', StartX=88000000, EndX=98000000, Mode='Mean')\n",
    "\n",
    "    detpars = CreateEmptyTableWorkspace()\n",
    "    detpars.addColumn(\"int\", \"spectra\")\n",
    "    detpars.addColumn(\"double\", \"l1\")\n",
    "    detpars.addColumn(\"double\", \"l2\")\n",
    "    detpars.addColumn(\"double\", \"twotheta\")\n",
    "    detpars.addColumn(\"double\", \"efixed\")\n",
    "    detpars.addColumn(\"int\", \"emode\")\n",
    "\n",
    "    # Add the parameters\n",
    "    detpars.addRow([1,  9820, 0, 180.0, 0.0, 0])\n",
    "\n",
    "    wsOut = ConvertUnitsUsingDetectorTable(ws1 ,Target=\"Wavelength\" ,DetectorParameters=detpars)\n",
    "    Rebin(InputWorkspace=wsOut, OutputWorkspace=trans_runnumber +'_mon1', Params=str(wlist[0] ) +', ' +str(wstep ) +', ' +str(wlist[-1]), PreserveEvents=True)\n",
    "    DeleteWorkspace('wsOut')\n",
    "\n",
    "    # Create a TableWorkspace to hold the detector parameters\n",
    "    detpars = CreateEmptyTableWorkspace()\n",
    "    detpars.addColumn(\"int\", \"spectra\")\n",
    "    detpars.addColumn(\"double\", \"l1\")\n",
    "    detpars.addColumn(\"double\", \"l2\")\n",
    "    detpars.addColumn(\"double\", \"twotheta\")\n",
    "    detpars.addColumn(\"double\", \"efixed\")\n",
    "    detpars.addColumn(\"int\", \"emode\")\n",
    "\n",
    "    # Add the parameters\n",
    "    detpars.addRow([1,  25760, 0, 180.0, 0.0, 0])\n",
    "\n",
    "    wsOut = ConvertUnitsUsingDetectorTable(ws2 ,Target=\"Wavelength\" ,DetectorParameters=detpars)\n",
    "    Rebin(InputWorkspace=wsOut, OutputWorkspace=trans_runnumber +'_mon2', Params=str(wlist[0] ) +', ' +str(wstep ) +', ' +str(wlist[-1]), PreserveEvents=True)\n",
    "    DeleteWorkspace('wsOut')\n",
    "\n",
    "    LoadNexus(Filename=filepath_data +MT_trans_runnumber +'-monitor1-tof-add.nxs', OutputWorkspace=MT_trans_runnumber +'_mon1')\n",
    "    LoadNexus(Filename=filepath_data +MT_trans_runnumber +'-monitor2-tof-add.nxs', OutputWorkspace=MT_trans_runnumber +'_mon2')\n",
    "\n",
    "    ws1 = CalculateFlatBackground(InputWorkspace=MT_trans_runnumber +'_mon1', StartX=40000000, EndX=99000000, Mode='Mean')\n",
    "    ws2 = CalculateFlatBackground(InputWorkspace=MT_trans_runnumber +'_mon2', StartX=88000000, EndX=98000000, Mode='Mean')\n",
    "\n",
    "    detpars = CreateEmptyTableWorkspace()\n",
    "    detpars.addColumn(\"int\", \"spectra\")\n",
    "    detpars.addColumn(\"double\", \"l1\")\n",
    "    detpars.addColumn(\"double\", \"l2\")\n",
    "    detpars.addColumn(\"double\", \"twotheta\")\n",
    "    detpars.addColumn(\"double\", \"efixed\")\n",
    "    detpars.addColumn(\"int\", \"emode\")\n",
    "\n",
    "    # Add the parameters\n",
    "    detpars.addRow([1,  9820, 0, 180.0, 0.0, 0])\n",
    "\n",
    "    wsOut = ConvertUnitsUsingDetectorTable(ws1 ,Target=\"Wavelength\" ,DetectorParameters=detpars)\n",
    "    Rebin(InputWorkspace=wsOut, OutputWorkspace=MT_trans_runnumber +'_mon1', Params=str(wlist[0] ) +', ' +str(wstep ) +', ' +str(wlist[-1]), PreserveEvents=True)\n",
    "    DeleteWorkspace('wsOut')\n",
    "\n",
    "    # Create a TableWorkspace to hold the detector parameters\n",
    "    detpars = CreateEmptyTableWorkspace()\n",
    "    detpars.addColumn(\"int\", \"spectra\")\n",
    "    detpars.addColumn(\"double\", \"l1\")\n",
    "    detpars.addColumn(\"double\", \"l2\")\n",
    "    detpars.addColumn(\"double\", \"twotheta\")\n",
    "    detpars.addColumn(\"double\", \"efixed\")\n",
    "    detpars.addColumn(\"int\", \"emode\")\n",
    "\n",
    "    # Add the parameters\n",
    "    detpars.addRow([1,  25760, 0, 180.0, 0.0, 0])\n",
    "\n",
    "    wsOut = ConvertUnitsUsingDetectorTable(ws2 ,Target=\"Wavelength\" ,DetectorParameters=detpars)\n",
    "    Rebin(InputWorkspace=wsOut, OutputWorkspace=MT_trans_runnumber +'_mon2', Params=str(wlist[0] ) +', ' +str(wstep ) +', ' +str(wlist[-1]), PreserveEvents=True)\n",
    "    DeleteWorkspace('wsOut')\n",
    "    CloneWorkspace(InputWorkspace=trans_runnumber +'_mon2' ,OutputWorkspace=monitor)\n",
    "\n",
    "    # check that i shouldnt normalise the mon2 to mon 1 first - I think the below corrects for that already\n",
    "\n",
    "    Divide(LHSWorkspace=MT_trans_runnumber +'_mon1' ,RHSWorkspace=MT_trans_runnumber +'_mon2'\n",
    "           ,OutputWorkspace='MT_mon_ratio')\n",
    "    Divide(LHSWorkspace=trans_runnumber +'_mon1' ,RHSWorkspace=trans_runnumber +'_mon2' ,OutputWorkspace='mon_ratio')\n",
    "    Divide(LHSWorkspace='MT_mon_ratio' ,RHSWorkspace='mon_ratio' ,OutputWorkspace=trans)\n",
    "    # Rebin(InputWorkspace=trans, OutputWorkspace=trans, Params=str(wlist[0])+','+str(wstep)+','+str(wlist[-1]), PreserveEvents=True)\n",
    "\n",
    "    CloneWorkspace(InputWorkspace=trans_runnumber +'_mon2' ,OutputWorkspace=monitor)"
   ]
  },
  {
   "cell_type": "code",
   "execution_count": 33,
   "id": "39828307-610a-4576-a073-1787edbe9de7",
   "metadata": {},
   "outputs": [],
   "source": [
    "def crop_the_nans(wksp):\n",
    "    # this only removes contiguous runs of NaN at start and end of a workspace\n",
    "    # if there are embedded Nan givng torubles, e.g. with division, then make the Q bins larger or\n",
    "    # consider using ReplaceSpecialValues\n",
    "    # grr found one case where \"inf\" appeared rather than nan, try isfinite which does +-inf and nan\n",
    "    X= mtd[str(wksp)].readX(0)\n",
    "    Y= mtd[str(wksp)].readY(0)\n",
    "    index1=0\n",
    "    index2=len(Y)-1\n",
    "    #print(wksp,len(Y),index1,index2)\n",
    "    while index1 < len(Y)-1:\n",
    "        if( not np.isfinite(Y[index1]) ):\n",
    "            index1 +=1\n",
    "        else:\n",
    "            break\n",
    "#\n",
    "    while index2 > 0:\n",
    "        if( not np.isfinite(Y[index2]) ):\n",
    "            index2 -=1\n",
    "        else:\n",
    "            break\n",
    "    # all nan's e.g. i1=0, i2=68, becomes i1=68, i2=0 \n",
    "    #print(wksp,len(Y),index1,index2)\n",
    "    # this does not work as StartWorkspaceIndex is expected to be a spectrum number!\n",
    "    #CropWorkspace(InputWorkspace=wksp,OutputWorkspace=wksp+'_crop',StartWorkspaceIndex=index1, EndWorkspaceIndex=index2)\n",
    "    # so now we need the X values also\n",
    "    # note this is a pseudo histogram, Y vales are distribution if this is reduced I(Q), but X values are bin boundaries\n",
    "    #\n",
    "    if( index2 >= index1):\n",
    "        CropWorkspace(InputWorkspace=wksp,OutputWorkspace=wksp,XMin=X[index1], XMax=X[index2+1] )\n",
    "    else:\n",
    "        # try rebin to a single large bin, Qmin, Qstep, Qmax, then set result to zero\n",
    "        # this gives a workspace with one Y value, two X values, can do \"show data\" on it BUT it won't plot !\n",
    "        rebinstring=str(X[0])+','+str(X[-1]-X[0])+','+str(X[-1])\n",
    "        print(wksp,' is empty rebin and set zero, Q=',rebinstring)\n",
    "        Rebin(InputWorkspace=wksp,OutputWorkspace=wksp,Params=rebinstring)\n",
    "        # alas,  nan * 0.0 = nan, setY seems not to work for histogram ???\n",
    "        #Scale(InputWorkspace=wksp,OutputWorkspace=wksp,Operation='Multiply',Factor=0.0)\n",
    "        ReplaceSpecialValues(InputWorkspace=wksp,OutputWorkspace=wksp,NaNValue=0.0,NaNError=0.0,InfinityValue=0.0,InfinityError=0.0)\n",
    "\n",
    "\n",
    "def reduce(rebinall0,name,wlist,wstep,qbins,monitor,solidanglecorr,wavadj0,wavpixeladj00,saveNumDen):\n",
    "    print(rebinall0,name,wlist,wstep,qbins,monitor,solidanglecorr,wavadj0,wavpixeladj00,saveNumDen)\n",
    "    out=[]\n",
    "    if (saveNumDen > 0):\n",
    "        parts=True\n",
    "    else:\n",
    "        parts=False\n",
    "    # DONE: assume that all input data is already in correct and matching wavelength bins\n",
    "    # OOPS 27/1/22  if data is in e.g. 2 to 13 Ang, but call here with wlist=[5.0,7.0] the rebin is not being done!, whilst wlist=[2.0,13.0] would be OK\n",
    "    # I had cut this out to save yet another clone of the data\n",
    "    # TODO: if calling this multiple times with same data & wlist, could rebin the SANS data into slices just the first time.\n",
    "    #       i.e. write another version that uses pre-sliced SANS data\n",
    "    # 27/1/22 put back the monitor rebin, should be quick\n",
    "    # TODO: ought really also to check the wav range of monitor and wavadj0 \n",
    "    Rebin(InputWorkspace=monitor, OutputWorkspace='waveadjall', Params=str(wlist[0])+','+str(wstep)+','+str(wlist[-1]) )\n",
    "    if(wavadj0 != 'None'):\n",
    "        waveadjall2 = CloneWorkspace(wavadj0)\n",
    "        RebinToWorkspace(WorkspaceToRebin=waveadjall2,WorkspaceToMatch='waveadjall', OutputWorkspace='waveadjall2')\n",
    "        waveadjall = Multiply(LHSWorkspace='waveadjall',RHSWorkspace='waveadjall2')\n",
    "    wavadjname='waveadjall'\n",
    "    #\n",
    "    # 27/1/22 now check the wavelength range of the input data, clone & rebin if needed  \n",
    "    x_values=mtd[rebinall0].readX(0)\n",
    "    #print('wav range data =',x_values)\n",
    "    rebinall = rebinall0\n",
    "    if (x_values[0] != wlist[0] or x_values[-1] != wlist[-1]):\n",
    "        if(wlist[0] < x_values[0] or wlist[-1] > x_values[-1]):\n",
    "            # TODO: find out how to flag proper error\n",
    "            print('*** ERROR *** - data wavelength mis-match wlist ',wlist[0],' to ',wlist[-1],'  data ',x_values[0],' to ',x_values[-1])\n",
    "            name1 = name+'_Q1D_'+str(wlist[0])+'_'+str(wlist[-1])+'_ERROR_wav'\n",
    "            wksptemp=CreateWorkspace(DataX=[0.0,1000.0], DataY=[0.0], UnitX=\"MomentumTransfer\",Distribution=True)\n",
    "            RenameWorkspace( InputWorkspace='wksptemp',OutputWorkspace=name1)\n",
    "            out.append(name1)\n",
    "            return out\n",
    "            # note if you just carry on the \"extrapolated\" data from the rebin will have simply been set to zero!\n",
    "        Rebin(InputWorkspace=rebinall0, OutputWorkspace='rebinall', Params=str(wlist[0])+','+str(wstep)+','+str(wlist[-1]), PreserveEvents=False)\n",
    "        rebinall='rebinall'\n",
    "    # Note also that Q1D runs parallel code if multiple cpu are present.\n",
    "    nslice=len(wlist)-1\n",
    "    #\n",
    "    # 27/1/22 check wavelength range of wavpixeladj, clone & rebin if needed\n",
    "    wavpixeladj0 = wavpixeladj00\n",
    "    if (wavpixeladj00 != 'None'):\n",
    "        x_values=mtd[wavpixeladj00].readX(0)\n",
    "        #print('wav range wavpixeladj00 =',x_values)\n",
    "        if (x_values[0] != wlist[0] or x_values[-1] != wlist[-1]):\n",
    "            if(wlist[0] < x_values[0] or wlist[-1] > x_values[-1]):\n",
    "                # TODO: find out how to flag proper error\n",
    "                print('*** ERROR *** - wavpixleadj wavelength mis-match wlist ',wlist[0],' to ',wlist[-1],'  data ',x_values[0],' to ',x_values[-1])\n",
    "                name1 = name+'_Q1D_'+str(wlist[0])+'_'+str(wlist[-1])+'_ERROR_wav'\n",
    "                wksptemp=CreateWorkspace(DataX=[0.0,1000.0], DataY=[0.0], UnitX=\"MomentumTransfer\",Distribution=True)\n",
    "                RenameWorkspace( InputWorkspace='wksptemp',OutputWorkspace=name1)\n",
    "                out.append(name1)\n",
    "                return out\n",
    "            Rebin(InputWorkspace=wavpixeladj00, OutputWorkspace='wavpixeladj0', Params=str(wlist[0])+','+str(wstep)+','+str(wlist[-1]) )\n",
    "            wavpixeladj0 = 'wavpixeladj0'\n",
    "\n",
    "    name1 = name+'_Q1D_0_'+str(wlist[0])+'_'+str(wlist[-1])\n",
    "    out.append(name1)\n",
    "    for i in range(0, nslice):\n",
    "        Rebin(InputWorkspace=wavadjname, OutputWorkspace='waveadjslice', Params=str(wlist[i])+','+str(wstep)+','+str(wlist[i+1]) )\n",
    "        # try redundant clone here\n",
    "        #rebinall=CloneWorkspace(rebinall0)\n",
    "        Rebin(InputWorkspace=rebinall, OutputWorkspace='rebinslice', Params=str(wlist[i])+','+str(wstep)+','+str(wlist[i+1]), PreserveEvents=False)\n",
    "        name2 = name+'_Q1D_'+str(i+1)+'_'+str(wlist[i])+'_'+str(wlist[i+1])\n",
    "        out.append(name2)\n",
    "        #TODO:  tried passing None (without any quotes) but could not get it to work, so avoid the issue here  with this if else ......\n",
    "        if (wavpixeladj0 != 'None'):\n",
    "                print(\"################### Reduction with wavpixeladj00\")\n",
    "                Rebin(InputWorkspace=wavpixeladj0, OutputWorkspace='wavpixeladjslice', Params=str(wlist[i])+','+str(wstep)+','+str(wlist[i+1]) )\n",
    "                Q1D(DetBankWorkspace='rebinslice', OutputWorkspace=name2, OutputBinning=qbins, WavelengthAdj='waveadjslice',WavePixelAdj='wavpixeladjslice', SolidAngleWeighting=solidanglecorr, OutputParts=True)\n",
    "        else:\n",
    "                print(\"################### Reduction without wavpixeladj00\")\n",
    "                Q1D(DetBankWorkspace='rebinslice', OutputWorkspace=name2, OutputBinning=qbins, WavelengthAdj='waveadjslice',WavePixelAdj=None, SolidAngleWeighting=solidanglecorr, OutputParts=True)\n",
    "\n",
    "        # sum numerator & denominator for the full wavelength range\n",
    "        if (i==0):\n",
    "                CloneWorkspace(InputWorkspace=name2 +'_sumOfCounts', OutputWorkspace='summedSumCounts')\n",
    "                CloneWorkspace(InputWorkspace=name2 +'_sumOfNormFactors', OutputWorkspace='summedSumNorm')\n",
    "        else:\n",
    "                Plus(LHSWorkspace='summedSumCounts',RHSWorkspace=name2 +'_sumOfCounts',OutputWorkspace='summedSumCounts')\n",
    "                Plus(LHSWorkspace='summedSumNorm',RHSWorkspace=name2 + '_sumOfNormFactors',OutputWorkspace='summedSumNorm')\n",
    "                   \n",
    "        if(parts==False):\n",
    "                DeleteWorkspace(name2 +'_sumOfCounts')\n",
    "                DeleteWorkspace(name2 +'_sumOfNormFactors')\n",
    "\n",
    "            #crop_the_nans(name2)\n",
    "            \n",
    "        \n",
    "        Divide(LHSWorkspace='summedSumCounts',RHSWorkspace='summedSumNorm',OutputWorkspace=name1)\n",
    "\n",
    "    return out\n",
    "\n",
    "def reducesamcan(run,can,string,wlist,wstep,qbins,monitor_run,monitor_can,\n",
    "                 solidanglecorr,wavadj0,wavpixeladjname,saveNumDen):\n",
    "    \n",
    "    out2 = reduce(run,string,wlist,wstep,qbins,monitor_run,solidanglecorr,wavadj0,wavpixeladjname,saveNumDen)\n",
    "    out3 = reduce(can,string+'_can',wlist,wstep,qbins,monitor_can,solidanglecorr,wavadj0,wavpixeladjname,saveNumDen)\n",
    "    \n",
    "    nslice=len(wlist)-1\n",
    "    tag='_'\n",
    "    if(nslice > 1):\n",
    "        tag='_0_'\n",
    "    name1=string   # e.g. sample_wp\n",
    "    name2='_Q1D'+tag+str(wlist[0])+'_'+str(wlist[-1])\n",
    "    #TODO: ought to use the actual names returned in say out3 then replace _can by _sc, then would not have to presume the naming convention\n",
    "    sam = name1 + name2\n",
    "    can = name1+'_can'+name2\n",
    "    sc = name1+'_sc'+name2\n",
    "    # might even need to tediously check the actual Q range here, or rebin can to match sample ?\n",
    "    substracted_wksp = Subtract(LHSWorkspace=sam,RHSWorkspace=can,OutputWorkspace=sc)\n",
    "    out=[]\n",
    "    scipp_wksps = []\n",
    "    out.append(sc)\n",
    "    scipp_wksps.append(scn.from_mantid(substracted_wksp))\n",
    "    if (nslice > 1):\n",
    "        for i in range(0, nslice):\n",
    "            name2='_Q1D_'+str(i+1)+'_'+str(wlist[i])+'_'+str(wlist[i+1])\n",
    "            sam = name1 + name2\n",
    "            can = name1+'_can'+name2\n",
    "            sc = name1+'_sc'+name2\n",
    "            # might even need to tediously check the actual Q range here\n",
    "            substracted_wksp = Subtract(LHSWorkspace=sam,RHSWorkspace=can,OutputWorkspace=sc)\n",
    "            scipp_wksps.append(scn.from_mantid(substracted_wksp))\n",
    "            out.append(sc)\n",
    "    return out, scipp_wksps\n",
    "\n"
   ]
  },
  {
   "cell_type": "code",
   "execution_count": 34,
   "id": "86f0ebf3-08ed-4be6-8e1b-ddae68179ae5",
   "metadata": {},
   "outputs": [
    {
     "name": "stdout",
     "output_type": "stream",
     "text": [
      "Load-[Notice] Load started\n",
      "Load-[Notice] Load successful, Duration 11.66 seconds\n",
      "LoadInstrument-[Notice] LoadInstrument started\n",
      "LoadInstrument-[Warning] The instrument definition filename does not contain _Definition. Your instrument name will be set to: LOKI_test.xml\n",
      "LoadInstrument-[Notice] LoadInstrument successful, Duration 0.05 seconds\n",
      "[-0.02,-0.207948,29.4479]\n",
      "MoveInstrumentComponent-[Notice] MoveInstrumentComponent started\n",
      "MoveInstrumentComponent-[Notice] MoveInstrumentComponent successful, Duration 0.00 seconds\n",
      "CloneWorkspace-[Notice] CloneWorkspace started\n",
      "CloneWorkspace-[Notice] CloneWorkspace successful, Duration 0.25 seconds\n",
      "LoadMask-[Notice] LoadMask started\n",
      "LoadMask-[Notice] LoadMask successful, Duration 0.42 seconds\n",
      "MaskDetectors-[Notice] MaskDetectors started\n",
      "MaskDetectors-[Notice] Masking using workspace indicies\n",
      "MaskDetectors-[Notice] MaskDetectors successful, Duration 0.55 seconds\n",
      "ConvertUnits-[Notice] ConvertUnits started\n",
      "ConvertUnits-[Notice] ConvertUnits successful, Duration 0.13 seconds\n",
      "Rebin-[Notice] Rebin started\n",
      "Rebin-[Notice] Rebin successful, Duration 1.12 seconds\n",
      "Load-[Notice] Load started\n",
      "Load-[Notice] Load successful, Duration 0.03 seconds\n",
      "ExtractSpectra-[Notice] ExtractSpectra started\n",
      "ExtractSpectra-[Notice] ExtractSpectra successful, Duration 0.00 seconds\n",
      "ConvertToHistogram-[Notice] ConvertToHistogram started\n",
      "ConvertToHistogram-[Notice] ConvertToHistogram successful, Duration 0.00 seconds\n",
      "CreateEmptyTableWorkspace-[Notice] CreateEmptyTableWorkspace started\n",
      "CreateEmptyTableWorkspace-[Notice] CreateEmptyTableWorkspace successful, Duration 0.00 seconds\n",
      "ConvertUnitsUsingDetectorTable-[Error] ConvertUnitsUsingDetectorTable is deprecated and has no replacement.\n",
      "ConvertUnitsUsingDetectorTable-[Notice] ConvertUnitsUsingDetectorTable started\n",
      "ConvertUnitsUsingDetectorTable-[Notice] ConvertUnitsUsingDetectorTable successful, Duration 0.00 seconds\n",
      "Rebin-[Notice] Rebin started\n",
      "Rebin-[Notice] Rebin successful, Duration 0.00 seconds\n",
      "Load-[Notice] Load started\n",
      "ISISRunLogs-[Warning] Cannot find period log. Logs will be not be filtered by current period\n",
      "ISISRunLogs-[Warning] Cannot find periods log. Logs will be not be filtered by current period\n",
      "Load-[Notice] Load successful, Duration 0.96 seconds\n",
      "LoadInstrument-[Notice] LoadInstrument started\n",
      "LoadInstrument-[Warning] The instrument definition filename does not contain _Definition. Your instrument name will be set to: LOKI_test.xml\n",
      "[-0.02,-0.207948,29.4479]\n",
      "LoadInstrument-[Notice] LoadInstrument successful, Duration 0.05 seconds\n",
      "MoveInstrumentComponent-[Notice] MoveInstrumentComponent started\n",
      "MoveInstrumentComponent-[Notice] MoveInstrumentComponent successful, Duration 0.01 seconds\n",
      "CloneWorkspace-[Notice] CloneWorkspace started\n",
      "CloneWorkspace-[Notice] CloneWorkspace successful, Duration 0.42 seconds\n",
      "LoadMask-[Notice] LoadMask started\n",
      "LoadMask-[Notice] LoadMask successful, Duration 0.39 seconds\n",
      "MaskDetectors-[Notice] MaskDetectors started\n",
      "MaskDetectors-[Notice] Masking using workspace indicies\n",
      "MaskDetectors-[Notice] MaskDetectors successful, Duration 0.28 seconds\n",
      "LoadMask-[Notice] LoadMask started\n",
      "LoadMask-[Notice] LoadMask successful, Duration 0.39 seconds\n",
      "MaskDetectors-[Notice] MaskDetectors started\n",
      "MaskDetectors-[Notice] Masking using workspace indicies\n",
      "MaskDetectors-[Notice] MaskDetectors successful, Duration 0.39 seconds\n",
      "ConvertUnits-[Notice] ConvertUnits started\n",
      "ConvertUnits-[Notice] ConvertUnits successful, Duration 1.14 seconds\n",
      "Rebin-[Notice] Rebin started\n",
      "Rebin-[Notice] Rebin successful, Duration 1.08 seconds\n",
      "LoadNexus-[Notice] LoadNexus started\n",
      "LoadNexus-[Notice] LoadNexus successful, Duration 0.03 seconds\n",
      "LoadNexus-[Notice] LoadNexus started\n",
      "LoadNexus-[Notice] LoadNexus successful, Duration 0.03 seconds\n",
      "CalculateFlatBackground-[Notice] CalculateFlatBackground started\n",
      "CalculateFlatBackground-[Notice] CalculateFlatBackground successful, Duration 0.00 seconds\n",
      "CalculateFlatBackground-[Notice] CalculateFlatBackground started\n",
      "CalculateFlatBackground-[Notice] CalculateFlatBackground successful, Duration 0.00 seconds\n",
      "CreateEmptyTableWorkspace-[Notice] CreateEmptyTableWorkspace started\n",
      "CreateEmptyTableWorkspace-[Notice] CreateEmptyTableWorkspace successful, Duration 0.00 seconds\n",
      "ConvertUnitsUsingDetectorTable-[Error] ConvertUnitsUsingDetectorTable is deprecated and has no replacement.\n",
      "ConvertUnitsUsingDetectorTable-[Notice] ConvertUnitsUsingDetectorTable started\n",
      "ConvertUnitsUsingDetectorTable-[Notice] ConvertUnitsUsingDetectorTable successful, Duration 0.00 seconds\n",
      "Rebin-[Notice] Rebin started\n",
      "Rebin-[Notice] Rebin successful, Duration 0.00 seconds\n",
      "DeleteWorkspace-[Notice] DeleteWorkspace started\n",
      "DeleteWorkspace-[Notice] DeleteWorkspace successful, Duration 0.00 seconds\n",
      "CreateEmptyTableWorkspace-[Notice] CreateEmptyTableWorkspace started\n",
      "CreateEmptyTableWorkspace-[Notice] CreateEmptyTableWorkspace successful, Duration 0.00 seconds\n",
      "ConvertUnitsUsingDetectorTable-[Error] ConvertUnitsUsingDetectorTable is deprecated and has no replacement.\n",
      "ConvertUnitsUsingDetectorTable-[Notice] ConvertUnitsUsingDetectorTable started\n",
      "ConvertUnitsUsingDetectorTable-[Notice] ConvertUnitsUsingDetectorTable successful, Duration 0.00 seconds\n",
      "Rebin-[Notice] Rebin started\n",
      "Rebin-[Notice] Rebin successful, Duration 0.00 seconds\n",
      "DeleteWorkspace-[Notice] DeleteWorkspace started\n",
      "DeleteWorkspace-[Notice] DeleteWorkspace successful, Duration 0.00 seconds\n",
      "LoadNexus-[Notice] LoadNexus started\n",
      "LoadNexus-[Notice] LoadNexus successful, Duration 0.04 seconds\n",
      "LoadNexus-[Notice] LoadNexus started\n",
      "LoadNexus-[Notice] LoadNexus successful, Duration 0.05 seconds\n",
      "CalculateFlatBackground-[Notice] CalculateFlatBackground started\n",
      "CalculateFlatBackground-[Notice] CalculateFlatBackground successful, Duration 0.00 seconds\n",
      "CalculateFlatBackground-[Notice] CalculateFlatBackground started\n",
      "CalculateFlatBackground-[Notice] CalculateFlatBackground successful, Duration 0.00 seconds\n",
      "CreateEmptyTableWorkspace-[Notice] CreateEmptyTableWorkspace started\n",
      "CreateEmptyTableWorkspace-[Notice] CreateEmptyTableWorkspace successful, Duration 0.00 seconds\n",
      "ConvertUnitsUsingDetectorTable-[Error] ConvertUnitsUsingDetectorTable is deprecated and has no replacement.\n",
      "ConvertUnitsUsingDetectorTable-[Notice] ConvertUnitsUsingDetectorTable started\n",
      "ConvertUnitsUsingDetectorTable-[Notice] ConvertUnitsUsingDetectorTable successful, Duration 0.00 seconds\n",
      "Rebin-[Notice] Rebin started\n",
      "Rebin-[Notice] Rebin successful, Duration 0.00 seconds\n",
      "DeleteWorkspace-[Notice] DeleteWorkspace started\n",
      "DeleteWorkspace-[Notice] DeleteWorkspace successful, Duration 0.00 seconds\n",
      "CreateEmptyTableWorkspace-[Notice] CreateEmptyTableWorkspace started\n",
      "CreateEmptyTableWorkspace-[Notice] CreateEmptyTableWorkspace successful, Duration 0.00 seconds\n",
      "ConvertUnitsUsingDetectorTable-[Error] ConvertUnitsUsingDetectorTable is deprecated and has no replacement.\n",
      "ConvertUnitsUsingDetectorTable-[Notice] ConvertUnitsUsingDetectorTable started\n",
      "ConvertUnitsUsingDetectorTable-[Notice] ConvertUnitsUsingDetectorTable successful, Duration 0.00 seconds\n",
      "Rebin-[Notice] Rebin started\n",
      "Rebin-[Notice] Rebin successful, Duration 0.00 seconds\n",
      "DeleteWorkspace-[Notice] DeleteWorkspace started\n",
      "DeleteWorkspace-[Notice] DeleteWorkspace successful, Duration 0.00 seconds\n",
      "CloneWorkspace-[Notice] CloneWorkspace started\n",
      "CloneWorkspace-[Notice] CloneWorkspace successful, Duration 0.00 seconds\n",
      "Divide-[Notice] Divide started\n",
      "Divide-[Notice] Divide successful, Duration 0.00 seconds\n",
      "Divide-[Notice] Divide started\n",
      "Divide-[Notice] Divide successful, Duration 0.00 seconds\n",
      "Divide-[Notice] Divide started\n",
      "Divide-[Notice] Divide successful, Duration 0.00 seconds\n",
      "CloneWorkspace-[Notice] CloneWorkspace started\n",
      "CloneWorkspace-[Notice] CloneWorkspace successful, Duration 0.00 seconds\n",
      "Load-[Notice] Load started\n",
      "ISISRunLogs-[Warning] Cannot find period log. Logs will be not be filtered by current period\n",
      "ISISRunLogs-[Warning] Cannot find periods log. Logs will be not be filtered by current period\n",
      "Load-[Notice] Load successful, Duration 0.62 seconds\n",
      "LoadInstrument-[Notice] LoadInstrument started\n",
      "LoadInstrument-[Warning] The instrument definition filename does not contain _Definition. Your instrument name will be set to: LOKI_test.xml\n",
      "LoadInstrument-[Notice] LoadInstrument successful, Duration 0.05 seconds\n",
      "[-0.02,-0.207948,29.4479]\n",
      "MoveInstrumentComponent-[Notice] MoveInstrumentComponent started\n",
      "MoveInstrumentComponent-[Notice] MoveInstrumentComponent successful, Duration 0.01 seconds\n",
      "CloneWorkspace-[Notice] CloneWorkspace started\n",
      "CloneWorkspace-[Notice] CloneWorkspace successful, Duration 0.26 seconds\n",
      "LoadMask-[Notice] LoadMask started\n",
      "LoadMask-[Notice] LoadMask successful, Duration 0.37 seconds\n",
      "MaskDetectors-[Notice] MaskDetectors started\n",
      "MaskDetectors-[Notice] Masking using workspace indicies\n",
      "MaskDetectors-[Notice] MaskDetectors successful, Duration 0.25 seconds\n",
      "LoadMask-[Notice] LoadMask started\n",
      "LoadMask-[Notice] LoadMask successful, Duration 0.36 seconds\n",
      "MaskDetectors-[Notice] MaskDetectors started\n",
      "MaskDetectors-[Notice] Masking using workspace indicies\n",
      "MaskDetectors-[Notice] MaskDetectors successful, Duration 0.37 seconds\n",
      "ConvertUnits-[Notice] ConvertUnits started\n",
      "ConvertUnits-[Notice] ConvertUnits successful, Duration 0.88 seconds\n",
      "Rebin-[Notice] Rebin started\n",
      "Rebin-[Notice] Rebin successful, Duration 0.87 seconds\n",
      "LoadNexus-[Notice] LoadNexus started\n",
      "LoadNexus-[Notice] LoadNexus successful, Duration 0.05 seconds\n",
      "LoadNexus-[Notice] LoadNexus started\n",
      "LoadNexus-[Notice] LoadNexus successful, Duration 0.04 seconds\n",
      "CalculateFlatBackground-[Notice] CalculateFlatBackground started\n",
      "CalculateFlatBackground-[Notice] CalculateFlatBackground successful, Duration 0.00 seconds\n",
      "CalculateFlatBackground-[Notice] CalculateFlatBackground started\n",
      "CalculateFlatBackground-[Notice] CalculateFlatBackground successful, Duration 0.00 seconds\n",
      "CreateEmptyTableWorkspace-[Notice] CreateEmptyTableWorkspace started\n",
      "CreateEmptyTableWorkspace-[Notice] CreateEmptyTableWorkspace successful, Duration 0.00 seconds\n",
      "ConvertUnitsUsingDetectorTable-[Error] ConvertUnitsUsingDetectorTable is deprecated and has no replacement.\n",
      "ConvertUnitsUsingDetectorTable-[Notice] ConvertUnitsUsingDetectorTable started\n",
      "ConvertUnitsUsingDetectorTable-[Notice] ConvertUnitsUsingDetectorTable successful, Duration 0.00 seconds\n",
      "Rebin-[Notice] Rebin started\n",
      "Rebin-[Notice] Rebin successful, Duration 0.00 seconds\n",
      "DeleteWorkspace-[Notice] DeleteWorkspace started\n",
      "DeleteWorkspace-[Notice] DeleteWorkspace successful, Duration 0.00 seconds\n",
      "CreateEmptyTableWorkspace-[Notice] CreateEmptyTableWorkspace started\n",
      "CreateEmptyTableWorkspace-[Notice] CreateEmptyTableWorkspace successful, Duration 0.00 seconds\n",
      "ConvertUnitsUsingDetectorTable-[Error] ConvertUnitsUsingDetectorTable is deprecated and has no replacement.\n",
      "ConvertUnitsUsingDetectorTable-[Notice] ConvertUnitsUsingDetectorTable started\n",
      "ConvertUnitsUsingDetectorTable-[Notice] ConvertUnitsUsingDetectorTable successful, Duration 0.00 seconds\n",
      "Rebin-[Notice] Rebin started\n",
      "Rebin-[Notice] Rebin successful, Duration 0.00 seconds\n",
      "DeleteWorkspace-[Notice] DeleteWorkspace started\n",
      "DeleteWorkspace-[Notice] DeleteWorkspace successful, Duration 0.00 seconds\n",
      "LoadNexus-[Notice] LoadNexus started\n",
      "LoadNexus-[Notice] LoadNexus successful, Duration 0.04 seconds\n",
      "LoadNexus-[Notice] LoadNexus started\n",
      "LoadNexus-[Notice] LoadNexus successful, Duration 0.04 seconds\n",
      "CalculateFlatBackground-[Notice] CalculateFlatBackground started\n",
      "CalculateFlatBackground-[Notice] CalculateFlatBackground successful, Duration 0.00 seconds\n",
      "CalculateFlatBackground-[Notice] CalculateFlatBackground started\n",
      "CalculateFlatBackground-[Notice] CalculateFlatBackground successful, Duration 0.00 seconds\n",
      "CreateEmptyTableWorkspace-[Notice] CreateEmptyTableWorkspace started\n",
      "CreateEmptyTableWorkspace-[Notice] CreateEmptyTableWorkspace successful, Duration 0.00 seconds\n",
      "ConvertUnitsUsingDetectorTable-[Error] ConvertUnitsUsingDetectorTable is deprecated and has no replacement.\n",
      "ConvertUnitsUsingDetectorTable-[Notice] ConvertUnitsUsingDetectorTable started\n",
      "ConvertUnitsUsingDetectorTable-[Notice] ConvertUnitsUsingDetectorTable successful, Duration 0.00 seconds\n",
      "Rebin-[Notice] Rebin started\n",
      "Rebin-[Notice] Rebin successful, Duration 0.00 seconds\n",
      "DeleteWorkspace-[Notice] DeleteWorkspace started\n",
      "DeleteWorkspace-[Notice] DeleteWorkspace successful, Duration 0.00 seconds\n",
      "CreateEmptyTableWorkspace-[Notice] CreateEmptyTableWorkspace started\n",
      "CreateEmptyTableWorkspace-[Notice] CreateEmptyTableWorkspace successful, Duration 0.00 seconds\n",
      "ConvertUnitsUsingDetectorTable-[Error] ConvertUnitsUsingDetectorTable is deprecated and has no replacement.\n",
      "ConvertUnitsUsingDetectorTable-[Notice] ConvertUnitsUsingDetectorTable started\n",
      "ConvertUnitsUsingDetectorTable-[Notice] ConvertUnitsUsingDetectorTable successful, Duration 0.00 seconds\n",
      "Rebin-[Notice] Rebin started\n",
      "Rebin-[Notice] Rebin successful, Duration 0.00 seconds\n",
      "DeleteWorkspace-[Notice] DeleteWorkspace started\n",
      "DeleteWorkspace-[Notice] DeleteWorkspace successful, Duration 0.00 seconds\n",
      "CloneWorkspace-[Notice] CloneWorkspace started\n",
      "CloneWorkspace-[Notice] CloneWorkspace successful, Duration 0.00 seconds\n",
      "Divide-[Notice] Divide started\n",
      "Divide-[Notice] Divide successful, Duration 0.00 seconds\n",
      "Divide-[Notice] Divide started\n",
      "Divide-[Notice] Divide successful, Duration 0.00 seconds\n",
      "Divide-[Notice] Divide started\n",
      "Divide-[Notice] Divide successful, Duration 0.00 seconds\n",
      "CloneWorkspace-[Notice] CloneWorkspace started\n",
      "CloneWorkspace-[Notice] CloneWorkspace successful, Duration 0.00 seconds\n",
      "Divide-[Notice] Divide started\n",
      "Divide-[Notice] Divide successful, Duration 0.00 seconds\n",
      "Multiply-[Notice] Multiply started\n",
      "Multiply-[Notice] Multiply successful, Duration 0.00 seconds\n",
      "Divide-[Notice] Divide started\n",
      "Divide-[Notice] Divide successful, Duration 0.00 seconds\n",
      "Multiply-[Notice] Multiply started\n",
      "sample ISIS_polymer [2.2, 3.6, 5.0, 6.4, 7.8, 9.2, 10.6, 12.0] 0.2 0.004,0.0036,0.4 sample_wavadj False None flat_g4 1\n",
      "Multiply-[Notice] Multiply successful, Duration 0.00 seconds\n",
      "Rebin-[Notice] Rebin started\n",
      "Rebin-[Notice] Rebin successful, Duration 0.00 seconds\n",
      "Rebin-[Notice] Rebin started\n",
      "Rebin-[Notice] Rebin successful, Duration 0.00 seconds\n",
      "Rebin-[Notice] Rebin started\n",
      "Rebin-[Notice] Rebin successful, Duration 0.56 seconds\n",
      "################### Reduction with wavpixeladj00\n",
      "Rebin-[Notice] Rebin started\n",
      "Rebin-[Notice] Rebin successful, Duration 0.95 seconds\n",
      "Q1D-[Notice] Q1D started\n",
      "Q1D-[Notice] Q1D successful, Duration 1.84 seconds\n",
      "CloneWorkspace-[Notice] CloneWorkspace started\n",
      "CloneWorkspace-[Notice] CloneWorkspace successful, Duration 0.02 seconds\n",
      "CloneWorkspace-[Notice] CloneWorkspace started\n",
      "CloneWorkspace-[Notice] CloneWorkspace successful, Duration 0.02 seconds\n",
      "Divide-[Notice] Divide started\n",
      "Divide-[Notice] Divide successful, Duration 0.02 seconds\n",
      "Rebin-[Notice] Rebin started\n",
      "Rebin-[Notice] Rebin successful, Duration 0.00 seconds\n",
      "Rebin-[Notice] Rebin started\n",
      "Rebin-[Notice] Rebin successful, Duration 0.34 seconds\n",
      "################### Reduction with wavpixeladj00\n",
      "Rebin-[Notice] Rebin started\n",
      "Rebin-[Notice] Rebin successful, Duration 0.86 seconds\n",
      "Q1D-[Notice] Q1D started\n",
      "Q1D-[Notice] Q1D successful, Duration 1.96 seconds\n",
      "Plus-[Notice] Plus started\n",
      "Plus-[Notice] Plus successful, Duration 0.00 seconds\n",
      "Plus-[Notice] Plus started\n",
      "Plus-[Notice] Plus successful, Duration 0.00 seconds\n",
      "Divide-[Notice] Divide started\n",
      "Divide-[Notice] Divide successful, Duration 0.03 seconds\n",
      "Rebin-[Notice] Rebin started\n",
      "Rebin-[Notice] Rebin successful, Duration 0.00 seconds\n",
      "Rebin-[Notice] Rebin started\n",
      "Rebin-[Notice] Rebin successful, Duration 0.37 seconds\n",
      "################### Reduction with wavpixeladj00\n",
      "Rebin-[Notice] Rebin started\n",
      "Rebin-[Notice] Rebin successful, Duration 0.89 seconds\n",
      "Q1D-[Notice] Q1D started\n",
      "Q1D-[Notice] Q1D successful, Duration 2.33 seconds\n",
      "Plus-[Notice] Plus started\n",
      "Plus-[Notice] Plus successful, Duration 0.00 seconds\n",
      "Plus-[Notice] Plus started\n",
      "Plus-[Notice] Plus successful, Duration 0.00 seconds\n",
      "Divide-[Notice] Divide started\n",
      "Divide-[Notice] Divide successful, Duration 0.02 seconds\n",
      "Rebin-[Notice] Rebin started\n",
      "Rebin-[Notice] Rebin successful, Duration 0.00 seconds\n",
      "Rebin-[Notice] Rebin started\n",
      "Rebin-[Notice] Rebin successful, Duration 0.44 seconds\n",
      "################### Reduction with wavpixeladj00\n",
      "Rebin-[Notice] Rebin started\n",
      "Rebin-[Notice] Rebin successful, Duration 0.96 seconds\n",
      "Q1D-[Notice] Q1D started\n",
      "Q1D-[Notice] Q1D successful, Duration 2.40 seconds\n",
      "Plus-[Notice] Plus started\n",
      "Plus-[Notice] Plus successful, Duration 0.00 seconds\n",
      "Plus-[Notice] Plus started\n",
      "Plus-[Notice] Plus successful, Duration 0.00 seconds\n",
      "Divide-[Notice] Divide started\n",
      "Divide-[Notice] Divide successful, Duration 0.03 seconds\n",
      "Rebin-[Notice] Rebin started\n",
      "Rebin-[Notice] Rebin successful, Duration 0.00 seconds\n",
      "Rebin-[Notice] Rebin started\n",
      "Rebin-[Notice] Rebin successful, Duration 0.43 seconds\n",
      "################### Reduction with wavpixeladj00\n",
      "Rebin-[Notice] Rebin started\n",
      "Rebin-[Notice] Rebin successful, Duration 0.93 seconds\n",
      "Q1D-[Notice] Q1D started\n",
      "Q1D-[Notice] Q1D successful, Duration 2.46 seconds\n",
      "Plus-[Notice] Plus started\n",
      "Plus-[Notice] Plus successful, Duration 0.00 seconds\n",
      "Plus-[Notice] Plus started\n",
      "Plus-[Notice] Plus successful, Duration 0.00 seconds\n",
      "Divide-[Notice] Divide started\n",
      "Divide-[Notice] Divide successful, Duration 0.02 seconds\n",
      "Rebin-[Notice] Rebin started\n",
      "Rebin-[Notice] Rebin successful, Duration 0.00 seconds\n",
      "Rebin-[Notice] Rebin started\n",
      "################### Reduction with wavpixeladj00Rebin-[Notice] Rebin successful, Duration 0.39 seconds\n",
      "\n",
      "Rebin-[Notice] Rebin started\n",
      "Rebin-[Notice] Rebin successful, Duration 0.91 seconds\n",
      "Q1D-[Notice] Q1D started\n",
      "Q1D-[Notice] Q1D successful, Duration 2.74 seconds\n",
      "Plus-[Notice] Plus started\n",
      "Plus-[Notice] Plus successful, Duration 0.00 seconds\n",
      "Plus-[Notice] Plus started\n",
      "Plus-[Notice] Plus successful, Duration 0.00 seconds\n",
      "Divide-[Notice] Divide started\n",
      "Divide-[Notice] Divide successful, Duration 0.03 seconds\n",
      "Rebin-[Notice] Rebin started\n",
      "Rebin-[Notice] Rebin successful, Duration 0.00 seconds\n",
      "Rebin-[Notice] Rebin started\n",
      "Rebin-[Notice] Rebin successful, Duration 0.46 seconds\n",
      "################### Reduction with wavpixeladj00\n",
      "Rebin-[Notice] Rebin started\n",
      "Rebin-[Notice] Rebin successful, Duration 1.04 seconds\n",
      "Q1D-[Notice] Q1D started\n",
      "Q1D-[Notice] Q1D successful, Duration 2.54 seconds\n",
      "Plus-[Notice] Plus started\n",
      "Plus-[Notice] Plus successful, Duration 0.00 seconds\n",
      "Plus-[Notice] Plus started\n",
      "Plus-[Notice] Plus successful, Duration 0.00 seconds\n",
      "Divide-[Notice] Divide started\n",
      "Divide-[Notice] Divide successful, Duration 0.02 seconds\n",
      "can ISIS_polymer_can [2.2, 3.6, 5.0, 6.4, 7.8, 9.2, 10.6, 12.0] 0.2 0.004,0.0036,0.4 can_wavadj False None flat_g4 1\n",
      "Rebin-[Notice] Rebin started\n",
      "Rebin-[Notice] Rebin successful, Duration 0.00 seconds\n",
      "Rebin-[Notice] Rebin started\n",
      "Rebin-[Notice] Rebin successful, Duration 0.00 seconds\n",
      "Rebin-[Notice] Rebin started\n",
      "Rebin-[Notice] Rebin successful, Duration 0.52 seconds\n",
      "################### Reduction with wavpixeladj00\n",
      "Rebin-[Notice] Rebin started\n",
      "Rebin-[Notice] Rebin successful, Duration 0.99 seconds\n",
      "Q1D-[Notice] Q1D started\n",
      "Q1D-[Notice] Q1D successful, Duration 2.47 seconds\n",
      "CloneWorkspace-[Notice] CloneWorkspace started\n",
      "CloneWorkspace-[Notice] CloneWorkspace successful, Duration 0.02 seconds\n",
      "CloneWorkspace-[Notice] CloneWorkspace started\n",
      "CloneWorkspace-[Notice] CloneWorkspace successful, Duration 0.03 seconds\n",
      "Divide-[Notice] Divide started\n",
      "Divide-[Notice] Divide successful, Duration 0.02 seconds\n",
      "Rebin-[Notice] Rebin started\n",
      "Rebin-[Notice] Rebin successful, Duration 0.00 seconds\n",
      "Rebin-[Notice] Rebin started\n",
      "Rebin-[Notice] Rebin successful, Duration 0.51 seconds\n",
      "################### Reduction with wavpixeladj00\n",
      "Rebin-[Notice] Rebin started\n",
      "Rebin-[Notice] Rebin successful, Duration 0.98 seconds\n",
      "Q1D-[Notice] Q1D started\n",
      "Q1D-[Notice] Q1D successful, Duration 1.84 seconds\n",
      "Plus-[Notice] Plus started\n",
      "Plus-[Notice] Plus successful, Duration 0.00 seconds\n",
      "Plus-[Notice] Plus started\n",
      "Plus-[Notice] Plus successful, Duration 0.00 seconds\n",
      "Divide-[Notice] Divide started\n",
      "Divide-[Notice] Divide successful, Duration 0.03 seconds\n",
      "Rebin-[Notice] Rebin started\n",
      "Rebin-[Notice] Rebin successful, Duration 0.00 seconds\n",
      "Rebin-[Notice] Rebin started\n",
      "Rebin-[Notice] Rebin successful, Duration 0.42 seconds\n",
      "################### Reduction with wavpixeladj00\n",
      "Rebin-[Notice] Rebin started\n",
      "Rebin-[Notice] Rebin successful, Duration 0.98 seconds\n",
      "Q1D-[Notice] Q1D started\n",
      "Q1D-[Notice] Q1D successful, Duration 2.35 seconds\n",
      "Plus-[Notice] Plus started\n",
      "Plus-[Notice] Plus successful, Duration 0.00 seconds\n",
      "Plus-[Notice] Plus started\n",
      "Plus-[Notice] Plus successful, Duration 0.00 seconds\n",
      "Divide-[Notice] Divide started\n",
      "Divide-[Notice] Divide successful, Duration 0.03 seconds\n",
      "Rebin-[Notice] Rebin started\n",
      "Rebin-[Notice] Rebin successful, Duration 0.00 seconds\n",
      "Rebin-[Notice] Rebin started\n",
      "Rebin-[Notice] Rebin successful, Duration 0.48 seconds\n",
      "################### Reduction with wavpixeladj00\n",
      "Rebin-[Notice] Rebin started\n",
      "Rebin-[Notice] Rebin successful, Duration 0.94 seconds\n",
      "Q1D-[Notice] Q1D started\n",
      "Q1D-[Notice] Q1D successful, Duration 1.76 seconds\n",
      "Plus-[Notice] Plus started\n",
      "Plus-[Notice] Plus successful, Duration 0.00 seconds\n",
      "Plus-[Notice] Plus started\n",
      "Plus-[Notice] Plus successful, Duration 0.00 seconds\n",
      "Divide-[Notice] Divide started\n",
      "Divide-[Notice] Divide successful, Duration 0.02 seconds\n",
      "Rebin-[Notice] Rebin started\n",
      "Rebin-[Notice] Rebin successful, Duration 0.00 seconds\n",
      "Rebin-[Notice] Rebin started\n",
      "Rebin-[Notice] Rebin successful, Duration 0.36 seconds\n",
      "################### Reduction with wavpixeladj00\n",
      "Rebin-[Notice] Rebin started\n",
      "Rebin-[Notice] Rebin successful, Duration 0.93 seconds\n",
      "Q1D-[Notice] Q1D started\n",
      "Q1D-[Notice] Q1D successful, Duration 1.74 seconds\n",
      "Plus-[Notice] Plus started\n",
      "Plus-[Notice] Plus successful, Duration 0.00 seconds\n",
      "Plus-[Notice] Plus started\n",
      "Plus-[Notice] Plus successful, Duration 0.00 seconds\n",
      "Divide-[Notice] Divide started\n",
      "Divide-[Notice] Divide successful, Duration 0.02 seconds\n",
      "Rebin-[Notice] Rebin started\n",
      "Rebin-[Notice] Rebin successful, Duration 0.00 seconds\n",
      "Rebin-[Notice] Rebin started\n",
      "Rebin-[Notice] Rebin successful, Duration 0.36 seconds\n",
      "################### Reduction with wavpixeladj00\n",
      "Rebin-[Notice] Rebin started\n",
      "Rebin-[Notice] Rebin successful, Duration 1.05 seconds\n",
      "Q1D-[Notice] Q1D started\n",
      "Q1D-[Notice] Q1D successful, Duration 2.41 seconds\n",
      "Plus-[Notice] Plus started\n",
      "Plus-[Notice] Plus successful, Duration 0.00 seconds\n",
      "Plus-[Notice] Plus started\n",
      "Plus-[Notice] Plus successful, Duration 0.00 seconds\n",
      "Divide-[Notice] Divide started\n",
      "Divide-[Notice] Divide successful, Duration 0.02 seconds\n",
      "Rebin-[Notice] Rebin started\n",
      "Rebin-[Notice] Rebin successful, Duration 0.00 seconds\n",
      "Rebin-[Notice] Rebin started\n",
      "Rebin-[Notice] Rebin successful, Duration 0.46 seconds\n",
      "################### Reduction with wavpixeladj00\n",
      "Rebin-[Notice] Rebin started\n",
      "Rebin-[Notice] Rebin successful, Duration 0.98 seconds\n",
      "Q1D-[Notice] Q1D started\n",
      "Q1D-[Notice] Q1D successful, Duration 2.42 seconds\n",
      "Plus-[Notice] Plus started\n",
      "Plus-[Notice] Plus successful, Duration 0.00 seconds\n",
      "Plus-[Notice] Plus started\n",
      "Plus-[Notice] Plus successful, Duration 0.00 seconds\n",
      "Divide-[Notice] Divide started\n",
      "Divide-[Notice] Divide successful, Duration 0.04 seconds\n",
      "Minus-[Notice] Minus started\n",
      "Minus-[Notice] Minus successful, Duration 0.03 seconds\n",
      "Minus-[Notice] Minus started\n",
      "Minus-[Notice] Minus successful, Duration 0.03 seconds\n",
      "Minus-[Notice] Minus started\n",
      "Minus-[Notice] Minus successful, Duration 0.03 seconds\n",
      "Minus-[Notice] Minus started\n",
      "Minus-[Notice] Minus successful, Duration 0.02 seconds\n",
      "Minus-[Notice] Minus started\n",
      "Minus-[Notice] Minus successful, Duration 0.02 seconds\n",
      "Minus-[Notice] Minus started\n",
      "Minus-[Notice] Minus successful, Duration 0.02 seconds\n",
      "Minus-[Notice] Minus started\n",
      "Minus-[Notice] Minus successful, Duration 0.03 seconds\n",
      "Minus-[Notice] Minus started\n",
      "Minus-[Notice] Minus successful, Duration 0.03 seconds\n"
     ]
    }
   ],
   "source": [
    "masklist_edge=['mask_new_July2022']\n",
    "masklist_straws=['mask_straws']\n",
    "\n",
    "wavpixeladjname = 'flat_g4'\n",
    "\n",
    "wlist = [2.2, 3.2, 3.8, 4.4, 5.0, 6.0, 7.0, 8.0, 9.0, 10.5, 12]\n",
    "wlist = [2.2,12]\n",
    "wlist = [2.2 ,  3.18,  4.16,  5.14,  6.12,  7.1 ,  8.08,  9.06, 10.04, 11.02, 12.0]\n",
    "wlist = [2.2,  3.6,  5. ,  6.4,  7.8,  9.2, 10.6, 12.]\n",
    "\n",
    "wstep = 0.2\n",
    "saveNumDen = 1\n",
    "qbins = '0.004,0.0036,0.4'\n",
    "xcen = -0.0035\n",
    "ycen = -0.0035\n",
    "\n",
    "# x_offset = 0.028 * sc.units.m\n",
    "# y_offset = 0.01195 * sc.units.m\n",
    "\n",
    "user_path = \"/Users/wojciechpotrzebowski/SCIPP_SPACE/direct_beam_iterations_2023/\"\n",
    "filepath = user_path\n",
    "filepath_data = user_path\n",
    "\n",
    "idf_file = 'LOKI_test.xml'\n",
    "solidanglecorr = False\n",
    "\n",
    "#########Loading direct beam\n",
    "filename = \"flat_g4_final_15Jun23_10-17.nxs\"  # Latest draft with all layers corrected, need to work on that\n",
    "filename2 = 'realSetupFloodSource_rearBankLarmor_000000to199999_mcstas_new.nxs'  # new flood source - might be the wrong sample to use here 09/11/22\n",
    "getsimuldata('flat_g4', filename, filename2, filepath, filepath_data, idf_file, wlist, wstep, xcen, ycen,\n",
    "                 'monitor_flat')\n",
    "\n",
    "\n",
    "###########\n",
    "filename = '60395-mantid-add.nxs'\n",
    "trans_runnumber = '60394'\n",
    "MT_trans_runnumber = '60392'\n",
    "\n",
    "getrealdata('sample', filename, trans_runnumber, filepath, filepath_data, idf_file, wlist, wstep, xcen, ycen,\n",
    "                'sample_monitor', 'sample_trans')\n",
    "\n",
    "\n",
    "#########\n",
    "filename='60393-mantid-add.nxs'\n",
    "trans_runnumber = '60392'\n",
    "MT_trans_runnumber = '60392'\n",
    "\n",
    "#JH: Load can, e.g. background. (same can for all the samples we measured.)\n",
    "getrealdata('can', filename, trans_runnumber, filepath, filepath_data, idf_file,wlist,wstep,xcen, ycen,'can_monitor', 'can_trans')\n",
    "\n",
    "#TODO: Why this is dome for reduction?\n",
    "sample_monratio=Divide('sample_monitor','monitor_flat')\n",
    "sample_wavadj=Multiply('sample_monratio','sample_trans')\n",
    "\n",
    "can_monratio=Divide('can_monitor','monitor_flat')\n",
    "can_wavadj=Multiply('can_monratio','can_trans')\n",
    "\n",
    "\n",
    "out, scipp_wksps =reducesamcan('sample','can','ISIS_polymer' \n",
    "                               ,wlist,wstep,qbins,'sample_wavadj','can_wavadj',\n",
    "                               solidanglecorr,'None',wavpixeladjname,saveNumDen)\n",
    "\n",
    "#No solid angle neither direct beam\n",
    "# out, scipp_wksps =reducesamcan('sample','can','ISIS_polymer' \n",
    "#                                ,wlist,wstep,qbins,'sample_wavadj','can_wavadj',\n",
    "#                                solidanglecorr,'None','None',saveNumDen)\n",
    "\n"
   ]
  },
  {
   "cell_type": "code",
   "execution_count": 35,
   "id": "d9961ab8-914e-493e-916f-578200885d38",
   "metadata": {},
   "outputs": [],
   "source": [
    "#sc.plot({'scipp_nominator': nominator_q_bands['wavelength', 0].hist(), 'mantid_nominator': scn.from_mantid(mtd['ISIS_polymer_Q1D_1_2.2_3.6_sumOfCounts'])['data']})"
   ]
  },
  {
   "cell_type": "code",
   "execution_count": 36,
   "id": "6eb21a34-6df3-42b5-af76-795fdae8197e",
   "metadata": {},
   "outputs": [],
   "source": [
    "#sc.plot({'scipp_nominator': nominator_q_bands['wavelength', 1].hist(), 'mantid_nominator': scn.from_mantid(mtd['ISIS_polymer_Q1D_2_3.6_5.0_sumOfCounts'])['data']})"
   ]
  },
  {
   "cell_type": "code",
   "execution_count": 37,
   "id": "533f9f54-388c-42a0-8a05-c75d7d5a7fd2",
   "metadata": {},
   "outputs": [],
   "source": [
    "#sc.plot({'scipp_nominator': nominator_q_bands['wavelength', 2].hist(), 'mantid_nominator': scn.from_mantid(mtd['ISIS_polymer_Q1D_3_5.0_6.4_sumOfCounts'])['data']})"
   ]
  },
  {
   "cell_type": "code",
   "execution_count": 38,
   "id": "d2200695-5c03-45d6-8bc8-3147e2bf2844",
   "metadata": {},
   "outputs": [],
   "source": [
    "#sc.plot({'scipp_nominator': nominator_q_bands['wavelength', 3].hist(), 'mantid_nominator': scn.from_mantid(mtd['ISIS_polymer_Q1D_4_6.4_7.8_sumOfCounts'])['data']})"
   ]
  },
  {
   "cell_type": "code",
   "execution_count": 39,
   "id": "6e643227-6955-44fb-a68e-683793f89e3d",
   "metadata": {},
   "outputs": [],
   "source": [
    "#sc.plot({'scipp_nominator': nominator_q_bands['wavelength', 4].hist(), 'mantid_nominator': scn.from_mantid(mtd['ISIS_polymer_Q1D_5_7.8_9.2_sumOfCounts'])['data']})"
   ]
  },
  {
   "cell_type": "code",
   "execution_count": 40,
   "id": "29599ab4-282d-44af-8c4a-6c2c062b0f47",
   "metadata": {},
   "outputs": [],
   "source": [
    "#sc.plot({'scipp_nominator': nominator_q_bands['wavelength', 5].hist(), 'mantid_nominator': scn.from_mantid(mtd['ISIS_polymer_Q1D_6_9.2_10.6_sumOfCounts'])['data']})"
   ]
  },
  {
   "cell_type": "code",
   "execution_count": 41,
   "id": "4ff30cb3-d2da-4da1-af05-c5986ba40a0d",
   "metadata": {},
   "outputs": [],
   "source": [
    "#sc.plot({'scipp_nominator': nominator_q_bands['wavelength', 6].hist(), 'mantid_nominator': scn.from_mantid(mtd['ISIS_polymer_Q1D_7_10.6_12.0_sumOfCounts'])['data']})"
   ]
  },
  {
   "cell_type": "code",
   "execution_count": 42,
   "id": "967359cd-69da-4ba5-8d0a-22741d746dc1",
   "metadata": {},
   "outputs": [],
   "source": [
    "#scn.instrument_view(scn.from_mantid(mtd['sample'])['data'].hist(), pixel_size=0.0075)"
   ]
  },
  {
   "cell_type": "code",
   "execution_count": 43,
   "id": "4d05756f-2bf6-47ae-b883-aa82d172f5a3",
   "metadata": {},
   "outputs": [],
   "source": [
    "#scn.instrument_view(ds['sample'].hist(), pixel_size=0.0075)"
   ]
  },
  {
   "cell_type": "code",
   "execution_count": 44,
   "id": "38860197-47a2-4761-acce-fe7b897aaa66",
   "metadata": {},
   "outputs": [],
   "source": [
    "# a = ds['sample'].hist().sum('tof')\n",
    "# sel = a.masks['all'] | a.masks['straws']\n",
    "# a[~sel].data.max()"
   ]
  },
  {
   "cell_type": "raw",
   "id": "df154fb4-2828-428d-9434-bca773e242ce",
   "metadata": {},
   "source": [
    "mantid_denominator_slice_0  = scn.from_mantid(mtd['ISIS_polymer_Q1D_1_2.2_3.6_sumOfNormFactors'])['data']\n",
    "mantid_denominator_slice_0.unit = 'dimensionless'\n",
    "sc.plot({'scipp denominator': denominator_q_bands['wavelength', 0], \n",
    "         'mantid denominator' : 1.29e5*mantid_denominator_slice_0})"
   ]
  },
  {
   "cell_type": "raw",
   "id": "be6aaaed-d4f2-4bf0-a495-9832ebc9cad7",
   "metadata": {},
   "source": [
    "mantid_denominator_slice_1  = scn.from_mantid(mtd['ISIS_polymer_Q1D_2_3.6_5.0_sumOfNormFactors'])['data']\n",
    "mantid_denominator_slice_1.unit = 'dimensionless'\n",
    "sc.plot({'scipp denominator': denominator_q_bands['wavelength', 1], \n",
    "         'mantid denominator' :1.7e5*mantid_denominator_slice_1})"
   ]
  },
  {
   "cell_type": "raw",
   "id": "55b6f170-e514-4311-9093-8948031fd5e1",
   "metadata": {},
   "source": [
    "mantid_denominator_slice_2  = scn.from_mantid(mtd['ISIS_polymer_Q1D_3_5.0_6.4_sumOfNormFactors'])['data']\n",
    "mantid_denominator_slice_2.unit = 'dimensionless'\n",
    "sc.plot({'scipp denominator': denominator_q_bands['wavelength', 2], \n",
    "         'mantid denominator' : 1.95e5*mantid_denominator_slice_2})"
   ]
  },
  {
   "cell_type": "raw",
   "id": "124f39e6-fec7-4c40-b41b-94376d5664b6",
   "metadata": {},
   "source": [
    "mantid_denominator_slice_3  = scn.from_mantid(mtd['ISIS_polymer_Q1D_4_6.4_7.8_sumOfNormFactors'])['data']\n",
    "mantid_denominator_slice_3.unit = 'dimensionless'\n",
    "sc.plot({'scipp denominator': denominator_q_bands['wavelength', 3], \n",
    "         'mantid denominator' : 2.1e5*mantid_denominator_slice_3})"
   ]
  },
  {
   "cell_type": "raw",
   "id": "4e1ea989-7ca3-4018-8981-b4df7e0e4879",
   "metadata": {},
   "source": [
    "mantid_denominator_slice_4  = scn.from_mantid(mtd['ISIS_polymer_Q1D_5_7.8_9.2_sumOfNormFactors'])['data']\n",
    "mantid_denominator_slice_4.unit = 'dimensionless'\n",
    "sc.plot({'scipp denominator': denominator_q_bands['wavelength', 4], \n",
    "         'mantid denominator' : 2.2e5*mantid_denominator_slice_4})"
   ]
  },
  {
   "cell_type": "raw",
   "id": "9621ddcc-7dd7-41ea-8bb7-f5c89949f121",
   "metadata": {},
   "source": [
    "mantid_denominator_slice_5  = scn.from_mantid(mtd['ISIS_polymer_Q1D_6_9.2_10.6_sumOfNormFactors'])['data']\n",
    "mantid_denominator_slice_5.unit = 'dimensionless'\n",
    "sc.plot({'scipp denominator': denominator_q_bands['wavelength', 5], \n",
    "         'mantid denominator' : 2.3e5*mantid_denominator_slice_5})"
   ]
  },
  {
   "cell_type": "raw",
   "id": "35970202-af59-4706-aa00-7cffe11f89a4",
   "metadata": {},
   "source": [
    "mantid_denominator_slice_6  = scn.from_mantid(mtd['ISIS_polymer_Q1D_7_10.6_12.0_sumOfNormFactors'])['data']\n",
    "mantid_denominator_slice_6.unit = 'dimensionless'\n",
    "sc.plot({'scipp denominator': denominator_q_bands['wavelength', 6], \n",
    "         'mantid denominator' : 2.5e5*mantid_denominator_slice_6})"
   ]
  },
  {
   "cell_type": "code",
   "execution_count": null,
   "id": "20dbfeb5-8b28-4a29-a423-66e28944a0bb",
   "metadata": {},
   "outputs": [],
   "source": []
  },
  {
   "cell_type": "code",
   "execution_count": 53,
   "id": "1967fe58-e51b-42b3-97b9-91bbdaac62e3",
   "metadata": {},
   "outputs": [
    {
     "data": {
      "application/vnd.jupyter.widget-view+json": {
       "model_id": "6e32d79a520d4f578f07915dfc53a2fd",
       "version_major": 2,
       "version_minor": 0
      },
      "text/plain": [
       "InteractiveFig(children=(HBar(), HBox(children=(VBar(children=(Toolbar(children=(ButtonTool(icon='home', layou…"
      ]
     },
     "execution_count": 53,
     "metadata": {},
     "output_type": "execute_result"
    }
   ],
   "source": [
    "mantid_slice_1  = scn.from_mantid(mtd['ISIS_polymer_Q1D_1_2.2_3.6'])['data']\n",
    "sc.plot({'scipp 2.2-3.6 Å': result_slices['wavelength', 0], \n",
    "         'mantid 2.2-3.6 Å' : mantid_slice_1})"
   ]
  },
  {
   "cell_type": "code",
   "execution_count": 46,
   "id": "be1b0330-ef94-4592-837a-fc98c509b1c1",
   "metadata": {},
   "outputs": [
    {
     "data": {
      "application/vnd.jupyter.widget-view+json": {
       "model_id": "ba98605044f64ffcae8d82451ce5311c",
       "version_major": 2,
       "version_minor": 0
      },
      "text/plain": [
       "InteractiveFig(children=(HBar(), HBox(children=(VBar(children=(Toolbar(children=(ButtonTool(icon='home', layou…"
      ]
     },
     "execution_count": 46,
     "metadata": {},
     "output_type": "execute_result"
    }
   ],
   "source": [
    "mantid_slice_2  = scn.from_mantid(mtd['ISIS_polymer_Q1D_2_3.6_5.0'])['data']\n",
    "sc.plot({'scipp slice': result_slices['wavelength', 1], \n",
    "         'mantid slice' : mantid_slice_2})"
   ]
  },
  {
   "cell_type": "code",
   "execution_count": 55,
   "id": "11cd44df-7692-4df8-99db-d21e77a4f113",
   "metadata": {},
   "outputs": [
    {
     "data": {
      "application/vnd.jupyter.widget-view+json": {
       "model_id": "61f8c280aa8744eabac3c08be6c08a35",
       "version_major": 2,
       "version_minor": 0
      },
      "text/plain": [
       "InteractiveFig(children=(HBar(), HBox(children=(VBar(children=(Toolbar(children=(ButtonTool(icon='home', layou…"
      ]
     },
     "execution_count": 55,
     "metadata": {},
     "output_type": "execute_result"
    }
   ],
   "source": [
    "mantid_slice_3  = scn.from_mantid(mtd['ISIS_polymer_Q1D_3_5.0_6.4'])['data']\n",
    "sc.plot({'scipp 5.0-6.4 Å': result_slices['wavelength', 2], \n",
    "         'mantid 5.0-6.4 Å' : mantid_slice_3})"
   ]
  },
  {
   "cell_type": "code",
   "execution_count": 57,
   "id": "f3a1078c-9a11-456c-91fa-e6a9e65ebbae",
   "metadata": {},
   "outputs": [
    {
     "data": {
      "application/vnd.jupyter.widget-view+json": {
       "model_id": "e28b3ad418bc455c88603e6d56ea7dfb",
       "version_major": 2,
       "version_minor": 0
      },
      "text/plain": [
       "InteractiveFig(children=(HBar(), HBox(children=(VBar(children=(Toolbar(children=(ButtonTool(icon='home', layou…"
      ]
     },
     "execution_count": 57,
     "metadata": {},
     "output_type": "execute_result"
    }
   ],
   "source": [
    "mantid_slice_4  = scn.from_mantid(mtd['ISIS_polymer_Q1D_4_6.4_7.8'])['data']\n",
    "sc.plot({'scipp 6.4-7.8 Å': result_slices['wavelength', 3], \n",
    "         'mantid 6.4-7.8 Å' : mantid_slice_4})"
   ]
  },
  {
   "cell_type": "code",
   "execution_count": 49,
   "id": "0cbd6d31-2d95-4454-8f4e-42beeaa2f292",
   "metadata": {},
   "outputs": [
    {
     "data": {
      "application/vnd.jupyter.widget-view+json": {
       "model_id": "9be66e574a844a0587f5cfd20c099b62",
       "version_major": 2,
       "version_minor": 0
      },
      "text/plain": [
       "InteractiveFig(children=(HBar(), HBox(children=(VBar(children=(Toolbar(children=(ButtonTool(icon='home', layou…"
      ]
     },
     "execution_count": 49,
     "metadata": {},
     "output_type": "execute_result"
    }
   ],
   "source": [
    "mantid_slice_5  = scn.from_mantid(mtd['ISIS_polymer_Q1D_5_7.8_9.2'])['data']\n",
    "sc.plot({'scipp slice': result_slices['wavelength', 4], \n",
    "         'mantid slice' : mantid_slice_5})"
   ]
  },
  {
   "cell_type": "code",
   "execution_count": 50,
   "id": "fc0def29-9f40-4a7a-b1bf-4c0a29836dc4",
   "metadata": {},
   "outputs": [
    {
     "data": {
      "application/vnd.jupyter.widget-view+json": {
       "model_id": "960499d079614110896b97fa74abe920",
       "version_major": 2,
       "version_minor": 0
      },
      "text/plain": [
       "InteractiveFig(children=(HBar(), HBox(children=(VBar(children=(Toolbar(children=(ButtonTool(icon='home', layou…"
      ]
     },
     "execution_count": 50,
     "metadata": {},
     "output_type": "execute_result"
    }
   ],
   "source": [
    "mantid_slice_6  = scn.from_mantid(mtd['ISIS_polymer_Q1D_6_9.2_10.6'])['data']\n",
    "sc.plot({'scipp slice': result_slices['wavelength', 5], \n",
    "         'mantid slice' : mantid_slice_6})"
   ]
  },
  {
   "cell_type": "code",
   "execution_count": 58,
   "id": "df414563-64b6-44f7-99b0-914e78bef549",
   "metadata": {},
   "outputs": [
    {
     "data": {
      "application/vnd.jupyter.widget-view+json": {
       "model_id": "2465000e6ab9487b9cc59e9533a189a0",
       "version_major": 2,
       "version_minor": 0
      },
      "text/plain": [
       "InteractiveFig(children=(HBar(), HBox(children=(VBar(children=(Toolbar(children=(ButtonTool(icon='home', layou…"
      ]
     },
     "execution_count": 58,
     "metadata": {},
     "output_type": "execute_result"
    }
   ],
   "source": [
    "mantid_slice_7  = scn.from_mantid(mtd['ISIS_polymer_Q1D_7_10.6_12.0'])['data']\n",
    "sc.plot({'scipp 10.6-12 Å': result_slices['wavelength', 6], \n",
    "         'mantid 10.6-12 Å' : mantid_slice_7})"
   ]
  },
  {
   "cell_type": "code",
   "execution_count": 54,
   "id": "1edba1ce-d16b-494b-8c6e-82cfd6b00df0",
   "metadata": {
    "scrolled": true
   },
   "outputs": [
    {
     "data": {
      "application/vnd.jupyter.widget-view+json": {
       "model_id": "42eaadd9a0354314a14fdec814dd041e",
       "version_major": 2,
       "version_minor": 0
      },
      "text/plain": [
       "InteractiveFig(children=(HBar(), HBox(children=(VBar(children=(Toolbar(children=(ButtonTool(icon='home', layou…"
      ]
     },
     "execution_count": 54,
     "metadata": {},
     "output_type": "execute_result"
    }
   ],
   "source": [
    "mantid_result = scn.from_mantid(mtd['ISIS_polymer_Q1D_0_2.2_12.0'])['data']\n",
    "mantid_result.unit = 'counts'\n",
    "sc.plot({'scipp 2.2-12Å': result, 'mantid 2.2-12Å': mantid_result})"
   ]
  },
  {
   "cell_type": "markdown",
   "id": "122de674-1942-4921-bbd5-517b58856b55",
   "metadata": {},
   "source": [
    "## Saving to file\n",
    "Finally we save reduced data to file"
   ]
  },
  {
   "cell_type": "raw",
   "id": "abacb350-9e10-462b-80e1-ec1ec441531f",
   "metadata": {},
   "source": [
    "import scippnexus.v2 as snx\n",
    "from scippnexus.v2.application_definitions import nxcansas\n",
    "\n",
    "#esult.coords['Q'] = sc.midpoints(result.coords['Q'])\n",
    "# mantid_result.coords['Q'] = sc.midpoints(mantid_result.coords['Q'])\n",
    "\n",
    "# with snx.File('ISIS_polymer_Q1D_0_2.2_12.0_no_solid_angle.nxs', 'w') as f:\n",
    "#     f['sasentry'] = nxcansas.SASentry(title='ISIS_polymer_Q1D_0_2.2_12.0', run=63114)\n",
    "#     f['sasentry']['sasdata'] = nxcansas.SASdata(mantid_result, Q_variances='resolutions')\n",
    "\n",
    "with snx.File('ISIS_polymer_scipp_no_solid_angle.nxs', 'w') as f:\n",
    "     f['sasentry'] = nxcansas.SASentry(title='ISIS_polymer_scipp', run=63114)\n",
    "     f['sasentry']['sasdata'] = nxcansas.SASdata(result, Q_variances='resolutions')"
   ]
  },
  {
   "cell_type": "raw",
   "id": "18b063e7-6756-4d6e-aea9-f5a65ec9f06b",
   "metadata": {},
   "source": [
    "SaveNexus(mtd['ISIS_polymer_Q1D_0_2.2_12.0'], 'ISIS_polymer_mantid_no_solid_angle.nxs')"
   ]
  },
  {
   "cell_type": "code",
   "execution_count": null,
   "id": "4bcac23c-6e86-4e79-be90-234a9a048083",
   "metadata": {},
   "outputs": [],
   "source": []
  }
 ],
 "metadata": {
  "kernelspec": {
   "display_name": "Python 3 (ipykernel)",
   "language": "python",
   "name": "python3"
  },
  "language_info": {
   "codemirror_mode": {
    "name": "ipython",
    "version": 3
   },
   "file_extension": ".py",
   "mimetype": "text/x-python",
   "name": "python",
   "nbconvert_exporter": "python",
   "pygments_lexer": "ipython3",
   "version": "3.8.17"
  }
 },
 "nbformat": 4,
 "nbformat_minor": 5
}
