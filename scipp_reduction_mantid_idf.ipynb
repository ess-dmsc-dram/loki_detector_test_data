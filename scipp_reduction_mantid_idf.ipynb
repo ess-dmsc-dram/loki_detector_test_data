{
 "cells": [
  {
   "cell_type": "markdown",
   "id": "9a935df3-c816-4829-99c3-2afa979b7611",
   "metadata": {},
   "source": [
    "# Data reduction workflow for LOKI detector test\n",
    "\n",
    "The main purpose of this notebook is to compare data reduction workflows in scipp and Mantid. The workflow utilizes the direct_beam function generated using the Mantid script. It is also possible to run data reduction without direct_beam function.\n",
    "\n",
    "The workflow involves several steps:\n",
    "* Load added Mantid data files with load\n",
    "* Apply LoadInstrument\n",
    "* Use get real and simulated data to bypass loading from files\n",
    "* Convert Mantid workspaces to scipp \n",
    "* Load masks from Mantid\n",
    "* Load Monitors from Mantid\n",
    "* Run sans.to_I_of_Q\n",
    "\n"
   ]
  },
  {
   "cell_type": "code",
   "execution_count": null,
   "id": "8c7f7cf7-0582-4953-a772-a0f87d1cf0e2",
   "metadata": {},
   "outputs": [],
   "source": [
    "import matplotlib.pyplot as plt\n",
    "import scipp as sc\n",
    "from ess import loki, sans\n",
    "import scippneutron as scn\n",
    "import plopp as pp\n",
    "\n",
    "from mantid.simpleapi import *\n",
    "from mantid.api import AnalysisDataService as ADS\n",
    "\n",
    "%matplotlib widget"
   ]
  },
  {
   "cell_type": "markdown",
   "id": "b5d36f11-9903-48f8-a626-86f137995681",
   "metadata": {},
   "source": [
    "## Define reduction workflow parameters\n",
    "\n",
    "We define here whether to include the effects of gravity,\n",
    "as well as common time-of-flight, wavelength and $Q$ bins for all the measurements.\n",
    "\n",
    "We also define a range of wavelengths for the monitors that are considered to not be part of the background."
   ]
  },
  {
   "cell_type": "code",
   "execution_count": null,
   "id": "239166d6-d62f-46e9-8316-83c26f0f05ce",
   "metadata": {},
   "outputs": [],
   "source": [
    "# Include effects of gravity?\n",
    "gravity = True\n",
    "\n",
    "#TODO: Using same wavelengths bins as direct beam is defined for but it may be different range (0.9-13.5)\n",
    "wavelength_bins = sc.linspace(dim='wavelength', start=2.2, stop=12.0, num=50,\n",
    "                              unit='angstrom')\n",
    "\n",
    "q_bins = sc.linspace(dim='Q', start=0.004, stop=0.4, num=111, unit='1/angstrom')\n"
   ]
  },
  {
   "cell_type": "markdown",
   "id": "bafd7ab4-d478-4c96-8196-69029fb221c4",
   "metadata": {},
   "source": [
    "## Loading data files\n"
   ]
  },
  {
   "cell_type": "code",
   "execution_count": null,
   "id": "0315d002-9cab-4ae4-8f63-c72a532f716b",
   "metadata": {},
   "outputs": [],
   "source": [
    "path = '/Users/wojciechpotrzebowski/SCIPP_SPACE/loki_detector_test/2022-06-24_calibrated_nexus_files/'\n",
    "###########\n",
    "sample_filename = '60395-mantid-add.nxs'\n",
    "sample_trans_runnumber = '60394'\n",
    "empty_beam_runnumber = '60392'\n",
    "#########\n",
    "background_filename='60393-mantid-add.nxs'\n",
    "background_trans_runnumber = '60392'\n",
    "empty_beam_runnumber = '60392'\n",
    "\n",
    "#TODO: Need to update it\n",
    "direct_beam = scn.load(f'{path}/flat_g4_final_15Jun23_10-17.nxs')\n",
    "\n",
    "#idf_file = 'LARMOR_rear_bank_definition_noMonitors.xml'\n",
    "idf_file = 'LOKI_test.xml'\n",
    "nexus_file=Load(path + sample_filename)\n",
    "LoadInstrument(Workspace='nexus_file', Filename=path+idf_file,\n",
    "               MonitorList='', InstrumentName='LOKI', RewriteSpectraMap='True')\n",
    "sample = scn.from_mantid(nexus_file)\n",
    "sample = sample['data']\n",
    "\n",
    "nexus_file=Load(path + background_filename)\n",
    "LoadInstrument(Workspace='nexus_file', Filename=path+idf_file,\n",
    "               MonitorList='', InstrumentName='LOKI', RewriteSpectraMap='True')\n",
    "background = scn.from_mantid(nexus_file)\n",
    "background = background['data']\n",
    "\n",
    "ds = {'sample': sample, \n",
    "      'background': background}\n"
   ]
  },
  {
   "cell_type": "markdown",
   "id": "e3b0b991-85c4-40fe-a903-74b43716a155",
   "metadata": {},
   "source": [
    "## Apply corrections to pixel positions\n",
    "\n",
    "We apply some corrections to the detector pixel and monitor positions,\n",
    "as the geometry stored in the file is inaccurate."
   ]
  },
  {
   "cell_type": "code",
   "execution_count": null,
   "id": "b616d643-8504-4eda-ba7a-bb73b85e7b80",
   "metadata": {},
   "outputs": [],
   "source": [
    "for da in ds.values():    \n",
    "    #Mimiciking no solid angle correction\n",
    "    L2 = scn.L2(da)\n",
    "    da.coords[\"pixel_width\"] = L2\n",
    "    da.coords[\"pixel_height\"] = L2\n",
    "    # #Coordinates from BCF\n",
    "    x_offset = -0.0035 * sc.units.m\n",
    "    y_offset = -0.0035 * sc.units.m\n",
    "    \n",
    "    da.coords['position'].fields.x += x_offset\n",
    "    da.coords['position'].fields.y += y_offset\n"
   ]
  },
  {
   "cell_type": "markdown",
   "id": "eeb81dd1-078a-495b-8cff-49c474be65dd",
   "metadata": {},
   "source": [
    "## Masking\n",
    "\n",
    "We mask the edges of the detector, which are usually noisy.\n",
    "We also mask the region close to the center of the beam,\n",
    "so as to not include saturated pixels in our data reduction."
   ]
  },
  {
   "cell_type": "code",
   "execution_count": null,
   "id": "e54e6899-4842-4b91-82ab-15c5ceef5edb",
   "metadata": {},
   "outputs": [],
   "source": [
    "#Loading Mantid masks\n",
    "idf_filename = f'{path}/LOKI_test.xml'\n",
    "mask_file = f'{path}/mask_new_July2022.xml'\n",
    "mask_all = scn.load(filename=idf_filename, mantid_alg=\"LoadMask\", mantid_args={\"InputFile\": mask_file})\n",
    "mask_file = f'{path}/mask_straws.xml' \n",
    "mask_straw = scn.load(filename=idf_filename, mantid_alg=\"LoadMask\", mantid_args={\"InputFile\": mask_file})\n",
    "\n",
    "\n",
    "for da in ds.values():\n",
    "    da.masks['all'] = mask_all.data\n",
    "    da.masks['straws'] = mask_straw.data"
   ]
  },
  {
   "cell_type": "code",
   "execution_count": null,
   "id": "4e744136-65c2-44c1-9e16-a274a78ec400",
   "metadata": {},
   "outputs": [],
   "source": [
    "scn.instrument_view(ds['sample'].hist(), pixel_size=0.0075)"
   ]
  },
  {
   "cell_type": "markdown",
   "id": "fbdf4c28-1135-4946-a07c-3fe70250a0e4",
   "metadata": {},
   "source": [
    "We can inspect that the coordinate corrections and masking were applied correctly by opening the instrument view."
   ]
  },
  {
   "cell_type": "markdown",
   "id": "eef1cb3a-d3e8-4d5c-88fa-3ea5e3cdeb01",
   "metadata": {},
   "source": [
    "### Mask Bragg peaks in wavelength\n",
    "\n",
    "We will now take out the time regions with Bragg peaks from the beam stop and detector window, although in reality the peaks appear only close to the beam stop, and will make little difference to\n",
    "\n",
    "This could be implemented as masking specific time bins for a specific region in space, but for now we keep it simple.\n",
    "\n",
    "Note: For the purpose of this exercise we don't apply any mask here"
   ]
  },
  {
   "cell_type": "code",
   "execution_count": null,
   "id": "dd51368b-82b4-447d-a36a-345f134db264",
   "metadata": {},
   "outputs": [],
   "source": [
    "wavelength_mask = None"
   ]
  },
  {
   "cell_type": "markdown",
   "id": "6496e729-0417-4f66-9f3d-76ef83057488",
   "metadata": {},
   "source": [
    "### Loading Mantid monitors (pre-processed with Mantid)"
   ]
  },
  {
   "cell_type": "code",
   "execution_count": null,
   "id": "250711f3-4e78-4892-8126-ae08f183b7bc",
   "metadata": {},
   "outputs": [],
   "source": [
    "sample_trans_monitor = scn.load(f'{path}/monitor_sample_trans.nxs')\n",
    "sample_monitor = scn.load(f'{path}/monitor_sample.nxs')\n",
    "background_trans_monitor= scn.load(f'{path}/monitor_can_trans.nxs')\n",
    "background_monitor = scn.load(f'{path}/monitor_can.nxs')\n",
    "monitor_flat = scn.load(f'{path}/monitor_flat.nxs')"
   ]
  },
  {
   "cell_type": "code",
   "execution_count": null,
   "id": "8f079ae7-289b-454e-bddc-b27102044b46",
   "metadata": {},
   "outputs": [],
   "source": [
    "sample_trans_monitor  = sample_trans_monitor.rebin(wavelength=wavelength_bins)\n",
    "sample_monitor  = sample_monitor.rebin(wavelength=wavelength_bins)\n",
    "background_trans_monitor  = background_trans_monitor.rebin(wavelength=wavelength_bins)\n",
    "background_monitor  = background_monitor.rebin(wavelength=wavelength_bins)\n",
    "monitor_flat  = monitor_flat.rebin(wavelength=wavelength_bins)"
   ]
  },
  {
   "cell_type": "code",
   "execution_count": null,
   "id": "577dc47a-8740-46f8-9f3d-bb5fac3c3933",
   "metadata": {},
   "outputs": [],
   "source": [
    "sample_monitor.coords['position'] = sc.vector(value=[0.0, 0.0, 9.8195], unit='m')\n",
    "sample_monitor.coords['Ltotal'] =  9.8195 * sc.units.m\n",
    "\n",
    "sample_trans_monitor.coords['position'] = sc.vector(value=[0.0, 0.0, 25.76], unit='m')\n",
    "sample_trans_monitor.coords['Ltotal'] = 25.76 * sc.units.m\n",
    "\n",
    "sample_trans_monitor.coords['position'] = sc.vector(value=[0.0, 0.0, 9.8195], unit='m')\n",
    "background_monitor.coords['Ltotal'] = 9.8195 * sc.units.m\n",
    "\n",
    "background_trans_monitor.coords['position'] = sc.vector(value=[0.0, 0.0, 25.76], unit='m')\n",
    "background_trans_monitor.coords['Ltotal'] = 25.76 * sc.units.m\n",
    "\n",
    "monitor_flat.coords['position'] = sc.vector(value=[0.0, 0.0, 25.76], unit='m')\n",
    "monitor_flat.coords['Ltotal'] = 25.76 * sc.units.m\n",
    "\n",
    "for mantid_monitor in [sample_monitor, sample_trans_monitor, background_monitor, background_trans_monitor, monitor_flat]:\n",
    "    mantid_monitor.variances = None"
   ]
  },
  {
   "cell_type": "code",
   "execution_count": null,
   "id": "4968091a-e38f-4ec5-a47f-4abf558c3f0d",
   "metadata": {},
   "outputs": [],
   "source": [
    "sample_monitor.coords.set_aligned('position', False)\n",
    "sample_monitor.coords.set_aligned('Ltotal', False)\n",
    "sample_trans_monitor.coords.set_aligned('position', False)\n",
    "sample_trans_monitor.coords.set_aligned('Ltotal', False)\n",
    "sample_trans_monitor.coords.set_aligned('position', False)\n",
    "sample_trans_monitor.coords.set_aligned('Ltotal', False)\n",
    "background_trans_monitor.coords.set_aligned('position', False)\n",
    "background_trans_monitor.coords.set_aligned('Ltotal', False)\n",
    "monitor_flat.coords.set_aligned('position', False)\n",
    "monitor_flat.coords.set_aligned('Ltotal', False)"
   ]
  },
  {
   "cell_type": "code",
   "execution_count": null,
   "id": "2d2862a7-dd12-451d-9da5-ca5dd8b21902",
   "metadata": {},
   "outputs": [],
   "source": [
    "sample_monitors = {'incident': sample_monitor, 'transmission': sample_trans_monitor}\n",
    "empty_beam_monitors = {'incident': sample_monitor, 'transmission': monitor_flat}\n",
    "background_monitors = {'incident': background_monitor, 'transmission':background_trans_monitor}"
   ]
  },
  {
   "cell_type": "markdown",
   "id": "9bac49fc-5c7c-418b-95a0-2c3d58ef53e6",
   "metadata": {},
   "source": [
    "### Direct beam midpoints\n",
    "This operation is needed for performing interpolation. Later, this can probably be dome i_of_q module, however we still need to see what exactly the format of direct beam function would be. "
   ]
  },
  {
   "cell_type": "code",
   "execution_count": null,
   "id": "f6e7f69d-bfac-4b12-8bea-bc3ed548506f",
   "metadata": {},
   "outputs": [],
   "source": [
    "direct_beam = direct_beam.rebin(wavelength=wavelength_bins)\n",
    "direct_beam.coords['wavelength'] = sc.midpoints(direct_beam.coords['wavelength'])"
   ]
  },
  {
   "cell_type": "code",
   "execution_count": null,
   "id": "f145297c-d29a-4553-910e-d7d0bdd84cab",
   "metadata": {},
   "outputs": [],
   "source": [
    "#Setting direct beam to None for testing purposes\n",
    "#direct_beam = None"
   ]
  },
  {
   "cell_type": "code",
   "execution_count": null,
   "id": "652aa470-74fe-4036-90e5-4eeead429831",
   "metadata": {},
   "outputs": [],
   "source": [
    "#NOTE: direct monitors is the same as sample (and backgroud)\n",
    "sample_q = sans.to_I_of_Q(data=ds['sample'],\n",
    "    data_monitors=sample_monitors,\n",
    "    direct_monitors=empty_beam_monitors,\n",
    "    direct_beam=direct_beam,\n",
    "    wavelength_bins=wavelength_bins,\n",
    "    q_bins=q_bins,\n",
    "    gravity=gravity,\n",
    "    wavelength_mask=wavelength_mask)"
   ]
  },
  {
   "cell_type": "code",
   "execution_count": null,
   "id": "dba9fe02-5c65-4142-b94b-ccca2df879e2",
   "metadata": {},
   "outputs": [],
   "source": [
    "background_q = sans.to_I_of_Q(data=ds['background'],\n",
    "    data_monitors=background_monitors,\n",
    "    direct_monitors=empty_beam_monitors,\n",
    "    direct_beam=direct_beam,\n",
    "    wavelength_bins=wavelength_bins,\n",
    "    q_bins=q_bins,\n",
    "    gravity=gravity,\n",
    "    wavelength_mask=wavelength_mask)"
   ]
  },
  {
   "cell_type": "markdown",
   "id": "d88ac17e-233f-42ff-bc0c-930f797af1c1",
   "metadata": {},
   "source": [
    "We are now in a position to subtract the background from the sample measurement:"
   ]
  },
  {
   "cell_type": "code",
   "execution_count": null,
   "id": "f3715d62-e58b-410a-97cd-cfc16bc32a28",
   "metadata": {},
   "outputs": [],
   "source": [
    "result = sample_q.bins.sum() - background_q.bins.sum()"
   ]
  },
  {
   "cell_type": "code",
   "execution_count": null,
   "id": "0db0287a-dcef-4f80-8f2a-fb4833dbd5ee",
   "metadata": {},
   "outputs": [],
   "source": [
    "result.plot()"
   ]
  },
  {
   "cell_type": "markdown",
   "id": "57679ad0-d04a-4c30-a2b3-78e9800f5ae0",
   "metadata": {},
   "source": [
    "<div class=\"alert alert-info\">\n",
    "\n",
    "**Note**\n",
    "\n",
    "Instead of `.bins.sum()`,\n",
    "one could use `sc.histogram()` above to define different `Q` bins compared to the ones defined at the top of the notebook.\n",
    "This can be done in event mode, see [here](https://scipp.github.io/user-guide/binned-data/computation.html#Subtraction).\n",
    "\n",
    "There may be performance advantages to first use a coarse `Q` binning when the computing `I(Q)` numerator,\n",
    "and use finer binning for the final results.\n",
    "\n",
    "</div>"
   ]
  },
  {
   "cell_type": "markdown",
   "id": "5c270fd9-beee-4abd-a51a-4d16ad54922e",
   "metadata": {},
   "source": [
    "## Wavelength bands\n",
    "\n",
    "It is often useful to process the data in a small number (~10) of separate wavelength bands.\n",
    "\n",
    "This can be achieved by requesting 10 bands from the `to_I_of_Q` workflow via the `wavelength_bands` argument."
   ]
  },
  {
   "cell_type": "code",
   "execution_count": null,
   "id": "ca7e75fe-29f6-44c9-88c2-43d870044b4c",
   "metadata": {},
   "outputs": [],
   "source": [
    "wavelength_bands = sc.linspace(dim='wavelength', start=2.2, stop=12.0, num=8,\n",
    "                               unit='angstrom')\n",
    "\n",
    "sample_slices = sans.to_I_of_Q(data=ds['sample'],\n",
    "    data_monitors=sample_monitors,\n",
    "    direct_monitors=empty_beam_monitors,\n",
    "    direct_beam=direct_beam,\n",
    "    wavelength_bins=wavelength_bins,\n",
    "    q_bins=q_bins,\n",
    "    gravity=gravity,\n",
    "    wavelength_bands=wavelength_bands,\n",
    "    wavelength_mask=wavelength_mask)\n",
    "\n",
    "background_slices = sans.to_I_of_Q(data=ds['background'],\n",
    "    data_monitors=background_monitors,\n",
    "    direct_monitors=empty_beam_monitors,\n",
    "    direct_beam=direct_beam,\n",
    "    wavelength_bins=wavelength_bins,\n",
    "    q_bins=q_bins,\n",
    "    gravity=gravity,\n",
    "    wavelength_bands=wavelength_bands,\n",
    "    wavelength_mask=wavelength_mask)\n",
    "\n",
    "result_slices = sample_slices.bins.sum() - background_slices.bins.sum()\n",
    "result_slices"
   ]
  },
  {
   "cell_type": "code",
   "execution_count": null,
   "id": "60c03e8c-4533-471e-8483-3c0c555fae7d",
   "metadata": {},
   "outputs": [],
   "source": [
    "collapsed = sc.collapse(result_slices, keep='Q')\n",
    "\n",
    "fig2, ax2 = plt.subplots(1, 2, figsize=(10, 4))\n",
    "sc.plot(collapsed, ax=ax2[0])\n",
    "sc.plot(collapsed, norm='log', ax=ax2[1])\n"
   ]
  },
  {
   "cell_type": "raw",
   "id": "91151675-9e98-4780-8d1c-2c47243daf97",
   "metadata": {},
   "source": [
    "#Calculating denominator for a slice\n",
    "graph = sans.conversions.sans_elastic(gravity=gravity)\n",
    "direct_beam = sans.i_of_q.resample_direct_beam(\n",
    "         direct_beam=direct_beam, wavelength_bins=wavelength_bins)\n",
    "\n",
    "denominator_wav = sans.normalization.iofq_denominator(\n",
    "    data=ds['sample'],\n",
    "    data_transmission_monitor=sample_monitors['transmission'],\n",
    "    direct_incident_monitor=empty_beam_monitors['incident'],\n",
    "    direct_transmission_monitor=empty_beam_monitors['transmission'],\n",
    "    direct_beam=direct_beam\n",
    ")\n",
    "\n",
    "# Insert a copy of coords needed for conversion to Q.\n",
    "# TODO: can this be avoided by copying the Q coords from the converted numerator?\n",
    "for coord in ['position', 'sample_position', 'source_position']:\n",
    "    denominator_wav.coords[coord] = ds['sample'].meta[coord]\n",
    "\n",
    "\n",
    "denominator_q_bands = sans.i_of_q.convert_to_q_and_merge_spectra(\n",
    "        data=denominator_wav,\n",
    "        graph=graph,\n",
    "        wavelength_bands=wavelength_bands,\n",
    "        q_bins=q_bins,\n",
    "        gravity=gravity,\n",
    "    )\n",
    "\n",
    "numerator_q_bands = sans.i_of_q.convert_to_q_and_merge_spectra(\n",
    "        data=ds['sample'],\n",
    "        graph=graph,\n",
    "        wavelength_bands=wavelength_bands,\n",
    "        q_bins=q_bins,\n",
    "        gravity=gravity,\n",
    "    )"
   ]
  },
  {
   "cell_type": "raw",
   "id": "8243ecd0-b6dc-4ca0-9f92-3c39c709b585",
   "metadata": {},
   "source": [
    "denominator_wav_bkg = sans.normalization.iofq_denominator(\n",
    "    data=ds['background'],\n",
    "    data_transmission_monitor=sample_monitors['transmission'],\n",
    "    direct_incident_monitor=empty_beam_monitors['incident'],\n",
    "    direct_transmission_monitor=empty_beam_monitors['transmission'],\n",
    "    direct_beam=direct_beam\n",
    ")\n",
    "\n",
    "# Insert a copy of coords needed for conversion to Q.\n",
    "# TODO: can this be avoided by copying the Q coords from the converted numerator?\n",
    "for coord in ['position', 'sample_position', 'source_position']:\n",
    "    denominator_wav_bkg.coords[coord] = ds['sample'].meta[coord]\n",
    "\n",
    "\n",
    "denominator_q_bands_bkg = sans.i_of_q.convert_to_q_and_merge_spectra(\n",
    "        data=denominator_wav,\n",
    "        graph=graph,\n",
    "        wavelength_bands=wavelength_bands,\n",
    "        q_bins=q_bins,\n",
    "        gravity=gravity,\n",
    "    )\n",
    "\n",
    "numerator_q_bands_bkg = sans.i_of_q.convert_to_q_and_merge_spectra(\n",
    "        data=ds['background'],\n",
    "        graph=graph,\n",
    "        wavelength_bands=wavelength_bands,\n",
    "        q_bins=q_bins,\n",
    "        gravity=gravity,\n",
    "    )"
   ]
  },
  {
   "cell_type": "raw",
   "id": "4e339da4-cfd9-4013-8a1a-317b96b2d298",
   "metadata": {},
   "source": [
    "result_wav_sum = numerator_q_bands.sum('wavelength')/denominator_q_bands.sum('wavelength') - numerator_q_bands_bkg.sum('wavelength')/denominator_q_bands_bkg.sum('wavelength') \n",
    "sc.plot({'result' : result, 'result_from_slices':result_wav_sum})"
   ]
  },
  {
   "cell_type": "raw",
   "id": "e29624e0-7512-4c35-afb6-c69b4b857757",
   "metadata": {},
   "source": [
    "scn.instrument_view(denominator_wav.sum('wavelength'), pixel_size=0.75)"
   ]
  },
  {
   "cell_type": "raw",
   "id": "787e42ff-c13b-4352-8078-a5016bc76a31",
   "metadata": {},
   "source": [
    "#And for slices\n",
    "wavelength_bands = sc.concat(\n",
    "            [wavelength_bins.min(), wavelength_bins.max()], dim='wavelength'\n",
    "        )\n",
    "nominator_q = sans.i_of_q.convert_to_q_and_merge_spectra(\n",
    "        data=ds['background'],\n",
    "        graph=graph,\n",
    "        q_bins=q_bins,\n",
    "        wavelength_bands=wavelength_bands,\n",
    "        gravity=gravity,\n",
    "    )"
   ]
  },
  {
   "cell_type": "code",
   "execution_count": null,
   "id": "25ecb231-586c-41f6-8c13-90c381b9078e",
   "metadata": {},
   "outputs": [],
   "source": [
    "# mantid_denominator_band_1 = scn.load(f'{path}/denominator_2-3.18_sa.nxs')\n",
    "# mantid_denominator_band_1.data.unit = 'dimensionless'"
   ]
  },
  {
   "cell_type": "code",
   "execution_count": null,
   "id": "ee787829-90c2-4f02-99a3-6d7f26956617",
   "metadata": {},
   "outputs": [],
   "source": [
    "# sc.plot({'scipp denominator': denominator_q_bands['wavelength', 0], \n",
    "#          'mantid denominator' :  1.3e11*mantid_denominator_band_1})"
   ]
  },
  {
   "cell_type": "code",
   "execution_count": null,
   "id": "d44eee64-c162-43f4-86dd-1fece80c5b73",
   "metadata": {},
   "outputs": [],
   "source": [
    "# mantid_nominator_band_1= scn.load(f'{path}/ISIS_polymer_slice_0_nominator.nxs')\n",
    "                                     "
   ]
  },
  {
   "cell_type": "code",
   "execution_count": null,
   "id": "072b90cb-9a9b-4bf5-b3a8-86631d63034e",
   "metadata": {},
   "outputs": [],
   "source": [
    "# sc.plot({'scipp nominator 0': nominator_q_bands['wavelength', 0].bins.sum(), \n",
    "#          'mantid nominator 0':  1.45*mantid_nominator_band_1})"
   ]
  },
  {
   "cell_type": "code",
   "execution_count": null,
   "id": "ace6ebd7-ae8f-4259-9534-e286d1e1a6b6",
   "metadata": {},
   "outputs": [],
   "source": [
    "# mantid_slice_0 = scn.load(f'{path}/ISIS_polymer_slice_0.nxs')"
   ]
  },
  {
   "cell_type": "code",
   "execution_count": null,
   "id": "1d1f24c9-b026-432b-9324-2c59cc671f6f",
   "metadata": {},
   "outputs": [],
   "source": [
    "# scipp_slice_0 = nominator_q_bands['wavelength', 0].bins.sum()/denominator_q_bands['wavelength', 0]"
   ]
  },
  {
   "cell_type": "code",
   "execution_count": null,
   "id": "3f369797-0223-43be-9c93-3eac72c96a79",
   "metadata": {},
   "outputs": [],
   "source": [
    "# result_slices['wavelength', 0].plot()\n",
    "# sc.plot({'scipp calculated slice 0': scipp_slice_0,\n",
    "#          'mantid slice 0':  1e-11*mantid_slice_0})\n",
    "         #'mantid calculated slice 0': 9e-12*mantid_nominator_band_1/mantid_denominator_band_1})\n",
    "# sc.plot({'scipp slice 0': result_slices['wavelength', 0],\n",
    "#          'scipp calculated slice 0': scipp_slice_0,\n",
    "#          'mantid slice 0':  9e-12*mantid_slice_0})\n",
    "#          #'mantid calculated slice 0': 9e-12*mantid_nominator_band_1/mantid_denominator_band_1})"
   ]
  },
  {
   "cell_type": "markdown",
   "id": "993a0aab-4474-445f-a3aa-e440dc33eba9",
   "metadata": {},
   "source": [
    "Note: Scipp division applied mantid nomimator/denominator gives the same result as from Mantid suggesting that the difference is related to the computation of nominator and denominator. It seems to me that differences come from the shift in coordinates position in scipp and mantid. It doesn't seem like there is a linear shift though."
   ]
  },
  {
   "cell_type": "code",
   "execution_count": null,
   "id": "4875372c-d495-4443-9f09-22d09bc4d53b",
   "metadata": {},
   "outputs": [],
   "source": [
    "# mantid_sample = scn.load(f'{path}/mantid_sample.nxs')"
   ]
  },
  {
   "cell_type": "code",
   "execution_count": null,
   "id": "539f2dfc-d149-4a76-a06a-dab3e32b65e3",
   "metadata": {},
   "outputs": [],
   "source": [
    "# mantid_sample "
   ]
  },
  {
   "cell_type": "markdown",
   "id": "693a1c6d-8ad7-4396-85b9-93b327b41485",
   "metadata": {},
   "source": [
    "## Running direct Mantid\n",
    "This section runs directly Mantid API in order to compare results with scipp"
   ]
  },
  {
   "cell_type": "code",
   "execution_count": null,
   "id": "181e6770-de8d-42c0-a8e8-e23d77fde87b",
   "metadata": {},
   "outputs": [],
   "source": [
    "# import mantid algorithms\n",
    "from mantid.simpleapi import *\n",
    "\n",
    "from mantid.api import AnalysisDataService as ADS\n",
    "from mantid.api import WorkspaceGroup\n",
    "from mantid.api import IEventWorkspace\n",
    "from mantid.plots.utility import MantidAxType"
   ]
  },
  {
   "cell_type": "code",
   "execution_count": null,
   "id": "8b1e8755-1d88-4308-9d61-9eafc06a6e28",
   "metadata": {},
   "outputs": [],
   "source": [
    "def getsimuldata(name, filename1, filename2, filepath, filepath_data, idf_file, wlist, step, xcen, ycen, monitor):\n",
    "    # can pass the wavelength bins, beam centre, monitor detector_id etc  later\n",
    "    nexus_file = Load(filepath_data + filename1)\n",
    "    # have to pull in the idf now, else it overrides the Move !\n",
    "    LoadInstrument(Workspace='nexus_file', Filename=filepath + idf_file, MonitorList='', InstrumentName='LOKI',\n",
    "                   RewriteSpectraMap='True')\n",
    "    print(nexus_file.getInstrument().getComponentByName('DetectorBench').getPos())\n",
    "    MoveInstrumentComponent(Workspace='nexus_file', ComponentName=\"DetectorBench\", X=xcen, Y=ycen, Z=0)\n",
    "\n",
    "    # need to do the Move first, as might in detail change the time to wavelength conversion !\n",
    "    # 11/6/21 sorted the 10 pixel shift in data, the centre is now correct.\n",
    "    # MoveInstrumentComponent(Workspace='nexus_file',ComponentName=\"DetectorBench\",X=0.02465,Y=0,Z=0)\n",
    "    # print(mtd[name].getInstrument().getComponentByName('DetectorBench').getPos())\n",
    "    #\n",
    "    # created this mask by picking a rectangle in Mantid whilst in cylindricalY view\n",
    "    # (if you use the default 3d view, you will only pick the front or rear straws that are visible, not the ones in the interior)\n",
    "    # The RefWorkspace here is likely redundant\n",
    "    nexus_file_orig = CloneWorkspace('nexus_file')\n",
    "\n",
    "    for mfile in masklist_edge:\n",
    "        LoadMask(mfile + '.xml', InputFile=filepath + mfile + '.xml', RefWorkspace='nexus_file',\n",
    "                 OutputWorkspace='mask_ends_simul')\n",
    "        MaskDetectors('nexus_file', MaskedWorkspace='mask_ends_simul')\n",
    "\n",
    "    ConvertUnits(InputWorkspace=nexus_file, OutputWorkspace=name, Target='Wavelength', ConvertFromPointData=False)\n",
    "    Rebin(InputWorkspace=name, OutputWorkspace=name, Params=str(wlist[0]) + ',' + str(wstep) + ',' + str(wlist[-1]),\n",
    "          PreserveEvents=False)\n",
    "    # Monitor isnt stored like this in new files 10/11/2022\n",
    "    # ExtractSpectra(InputWorkspace=name, OutputWorkspace=monitor, StartWorkspaceIndex=1, EndWorkspaceIndex=1)\n",
    "\n",
    "    nexus_file_mon = Load(filepath_data + filename2)\n",
    "    ExtractSpectra(InputWorkspace='nexus_file_mon', OutputWorkspace='nexus_file_mon_sim', XMin=0,\n",
    "                   WorkspaceIndexList='0')\n",
    "    ConvertToHistogram(InputWorkspace='nexus_file_mon_sim', OutputWorkspace='nexus_file_mon_sim_his')\n",
    "    detpars = CreateEmptyTableWorkspace()\n",
    "    detpars.addColumn(\"int\", \"spectra\")\n",
    "    detpars.addColumn(\"double\", \"l1\")\n",
    "    detpars.addColumn(\"double\", \"l2\")\n",
    "    detpars.addColumn(\"double\", \"twotheta\")\n",
    "    detpars.addColumn(\"double\", \"efixed\")\n",
    "    detpars.addColumn(\"int\", \"emode\")\n",
    "    # Add the parameters\n",
    "    detpars.addRow([1, 25.76, 0, 180.0, 0.0, 0])\n",
    "    #detpars.addRow([1,  25760, 0, 180.0, 0.0, 0])\n",
    "    wsOutmon = ConvertUnitsUsingDetectorTable('nexus_file_mon_sim_his', Target=\"Wavelength\", DetectorParameters=detpars)\n",
    "    Rebin(InputWorkspace=wsOutmon, OutputWorkspace=monitor,\n",
    "          Params=str(wlist[0]) + ',' + str(wstep) + ',' + str(wlist[-1]), PreserveEvents=True)\n",
    "\n",
    "\n",
    "def getrealdata(name, filename1, trans_runnumber, filepath, filepath_data, idf_file, wlist, step, xcen, ycen, monitor, trans):\n",
    "\n",
    "    # can pass the wavelength bins, beam centre, monitor detector_id etc  later\n",
    "    nexus_file =Load(filepath_data +filename1)\n",
    "    # have to pull in the idf now, else it overrides the Move !\n",
    "    LoadInstrument(Workspace='nexus_file', Filename=filepath +idf_file, MonitorList='', InstrumentName='LOKI', RewriteSpectraMap='True')\n",
    "    # print(mtd[name].getInstrument().getComponentByName('DetectorBench').getPos())\n",
    "    print(nexus_file.getInstrument().getComponentByName('DetectorBench').getPos())\n",
    "    # need to do the Move first, as might in detail change the time to wavelength conversion !\n",
    "    # pick APPROXIMATE centre from show instrument\n",
    "    MoveInstrumentComponent(Workspace='nexus_file' ,ComponentName=\"DetectorBench\" ,X=xcen ,Y=ycen ,Z=0)\n",
    "    # print(mtd[name].getInstrument().getComponentByName('DetectorBench').getPos())\n",
    "\n",
    "    # JH added - to mask prompt pulse - around 1500 and 17500 and 19000.\n",
    "    # WP: switched off to compare \n",
    "    # MaskBins(InputWorkspace='nexus_file', OutputWorkspace='nexus_file' ,InputWorkspaceIndexType='WorkspaceIndex', XMin=5, XMax=4500)\n",
    "    # MaskBins(InputWorkspace='nexus_file', OutputWorkspace='nexus_file' ,InputWorkspaceIndexType='WorkspaceIndex', XMin=17500, XMax=19000)\n",
    "\n",
    "    # (if you use the default 3d view, you will only pick the front or rear straws that are visible, not the ones in the interior)\n",
    "    # The RefWorkspace here is likely redundant\n",
    "    nexus_file_orig =CloneWorkspace('nexus_file')\n",
    "\n",
    "    for mfile in masklist_straws:\n",
    "        LoadMask(mfile + '.xml' ,InputFile=filepath+ mfile + '.xml' ,RefWorkspace='nexus_file'\n",
    "                 ,OutputWorkspace='mask_bs')\n",
    "        MaskDetectors('nexus_file' ,MaskedWorkspace='mask_bs')\n",
    "\n",
    "    for mfile in masklist_edge:\n",
    "        LoadMask(mfile + '.xml' ,InputFile=filepath+ mfile + '.xml' ,RefWorkspace='nexus_file'\n",
    "                 ,OutputWorkspace='mask_ends')\n",
    "        MaskDetectors('nexus_file' ,MaskedWorkspace='mask_ends')\n",
    "\n",
    "    ConvertUnits(InputWorkspace=nexus_file, OutputWorkspace=name, Target='Wavelength', ConvertFromPointData=False)\n",
    "\n",
    "    Rebin(InputWorkspace=name, OutputWorkspace=name, Params=str(wlist[0] ) +', ' +str(wstep ) +', ' +str(wlist[-1]), PreserveEvents=True)\n",
    "\n",
    "    # LOADING MONITORS IN TOF\n",
    "    LoadNexus(Filename=filepath_data +trans_runnumber +'-monitor1-tof-add.nxs', OutputWorkspace=trans_runnumber +'_mon1')\n",
    "    LoadNexus(Filename=filepath_data +trans_runnumber +'-monitor2-tof-add.nxs', OutputWorkspace=trans_runnumber +'_mon2')\n",
    "    ws1 = CalculateFlatBackground(InputWorkspace=trans_runnumber +'_mon1', StartX=40000000, EndX=99000000, Mode='Mean')\n",
    "    ws2 = CalculateFlatBackground(InputWorkspace=trans_runnumber +'_mon2', StartX=88000000, EndX=98000000, Mode='Mean')\n",
    "\n",
    "    detpars = CreateEmptyTableWorkspace()\n",
    "    detpars.addColumn(\"int\", \"spectra\")\n",
    "    detpars.addColumn(\"double\", \"l1\")\n",
    "    detpars.addColumn(\"double\", \"l2\")\n",
    "    detpars.addColumn(\"double\", \"twotheta\")\n",
    "    detpars.addColumn(\"double\", \"efixed\")\n",
    "    detpars.addColumn(\"int\", \"emode\")\n",
    "\n",
    "    # Add the parameters\n",
    "    detpars.addRow([1,  9820, 0, 180.0, 0.0, 0])\n",
    "\n",
    "    wsOut = ConvertUnitsUsingDetectorTable(ws1 ,Target=\"Wavelength\" ,DetectorParameters=detpars)\n",
    "    Rebin(InputWorkspace=wsOut, OutputWorkspace=trans_runnumber +'_mon1', Params=str(wlist[0] ) +', ' +str(wstep ) +', ' +str(wlist[-1]), PreserveEvents=True)\n",
    "    DeleteWorkspace('wsOut')\n",
    "\n",
    "    # Create a TableWorkspace to hold the detector parameters\n",
    "    detpars = CreateEmptyTableWorkspace()\n",
    "    detpars.addColumn(\"int\", \"spectra\")\n",
    "    detpars.addColumn(\"double\", \"l1\")\n",
    "    detpars.addColumn(\"double\", \"l2\")\n",
    "    detpars.addColumn(\"double\", \"twotheta\")\n",
    "    detpars.addColumn(\"double\", \"efixed\")\n",
    "    detpars.addColumn(\"int\", \"emode\")\n",
    "\n",
    "    # Add the parameters\n",
    "    detpars.addRow([1,  25760, 0, 180.0, 0.0, 0])\n",
    "\n",
    "    wsOut = ConvertUnitsUsingDetectorTable(ws2 ,Target=\"Wavelength\" ,DetectorParameters=detpars)\n",
    "    Rebin(InputWorkspace=wsOut, OutputWorkspace=trans_runnumber +'_mon2', Params=str(wlist[0] ) +', ' +str(wstep ) +', ' +str(wlist[-1]), PreserveEvents=True)\n",
    "    DeleteWorkspace('wsOut')\n",
    "\n",
    "    LoadNexus(Filename=filepath_data +MT_trans_runnumber +'-monitor1-tof-add.nxs', OutputWorkspace=MT_trans_runnumber +'_mon1')\n",
    "    LoadNexus(Filename=filepath_data +MT_trans_runnumber +'-monitor2-tof-add.nxs', OutputWorkspace=MT_trans_runnumber +'_mon2')\n",
    "\n",
    "    ws1 = CalculateFlatBackground(InputWorkspace=MT_trans_runnumber +'_mon1', StartX=40000000, EndX=99000000, Mode='Mean')\n",
    "    ws2 = CalculateFlatBackground(InputWorkspace=MT_trans_runnumber +'_mon2', StartX=88000000, EndX=98000000, Mode='Mean')\n",
    "\n",
    "    detpars = CreateEmptyTableWorkspace()\n",
    "    detpars.addColumn(\"int\", \"spectra\")\n",
    "    detpars.addColumn(\"double\", \"l1\")\n",
    "    detpars.addColumn(\"double\", \"l2\")\n",
    "    detpars.addColumn(\"double\", \"twotheta\")\n",
    "    detpars.addColumn(\"double\", \"efixed\")\n",
    "    detpars.addColumn(\"int\", \"emode\")\n",
    "\n",
    "    # Add the parameters\n",
    "    detpars.addRow([1,  9820, 0, 180.0, 0.0, 0])\n",
    "\n",
    "    wsOut = ConvertUnitsUsingDetectorTable(ws1 ,Target=\"Wavelength\" ,DetectorParameters=detpars)\n",
    "    Rebin(InputWorkspace=wsOut, OutputWorkspace=MT_trans_runnumber +'_mon1', Params=str(wlist[0] ) +', ' +str(wstep ) +', ' +str(wlist[-1]), PreserveEvents=True)\n",
    "    DeleteWorkspace('wsOut')\n",
    "\n",
    "    # Create a TableWorkspace to hold the detector parameters\n",
    "    detpars = CreateEmptyTableWorkspace()\n",
    "    detpars.addColumn(\"int\", \"spectra\")\n",
    "    detpars.addColumn(\"double\", \"l1\")\n",
    "    detpars.addColumn(\"double\", \"l2\")\n",
    "    detpars.addColumn(\"double\", \"twotheta\")\n",
    "    detpars.addColumn(\"double\", \"efixed\")\n",
    "    detpars.addColumn(\"int\", \"emode\")\n",
    "\n",
    "    # Add the parameters\n",
    "    detpars.addRow([1,  25760, 0, 180.0, 0.0, 0])\n",
    "\n",
    "    wsOut = ConvertUnitsUsingDetectorTable(ws2 ,Target=\"Wavelength\" ,DetectorParameters=detpars)\n",
    "    Rebin(InputWorkspace=wsOut, OutputWorkspace=MT_trans_runnumber +'_mon2', Params=str(wlist[0] ) +', ' +str(wstep ) +', ' +str(wlist[-1]), PreserveEvents=True)\n",
    "    DeleteWorkspace('wsOut')\n",
    "    CloneWorkspace(InputWorkspace=trans_runnumber +'_mon2' ,OutputWorkspace=monitor)\n",
    "\n",
    "    # check that i shouldnt normalise the mon2 to mon 1 first - I think the below corrects for that already\n",
    "\n",
    "    Divide(LHSWorkspace=MT_trans_runnumber +'_mon1' ,RHSWorkspace=MT_trans_runnumber +'_mon2'\n",
    "           ,OutputWorkspace='MT_mon_ratio')\n",
    "    Divide(LHSWorkspace=trans_runnumber +'_mon1' ,RHSWorkspace=trans_runnumber +'_mon2' ,OutputWorkspace='mon_ratio')\n",
    "    Divide(LHSWorkspace='MT_mon_ratio' ,RHSWorkspace='mon_ratio' ,OutputWorkspace=trans)\n",
    "    # Rebin(InputWorkspace=trans, OutputWorkspace=trans, Params=str(wlist[0])+','+str(wstep)+','+str(wlist[-1]), PreserveEvents=True)\n",
    "\n",
    "    CloneWorkspace(InputWorkspace=trans_runnumber +'_mon2' ,OutputWorkspace=monitor)"
   ]
  },
  {
   "cell_type": "code",
   "execution_count": null,
   "id": "39828307-610a-4576-a073-1787edbe9de7",
   "metadata": {},
   "outputs": [],
   "source": [
    "def crop_the_nans(wksp):\n",
    "    # this only removes contiguous runs of NaN at start and end of a workspace\n",
    "    # if there are embedded Nan givng torubles, e.g. with division, then make the Q bins larger or\n",
    "    # consider using ReplaceSpecialValues\n",
    "    # grr found one case where \"inf\" appeared rather than nan, try isfinite which does +-inf and nan\n",
    "    X= mtd[str(wksp)].readX(0)\n",
    "    Y= mtd[str(wksp)].readY(0)\n",
    "    index1=0\n",
    "    index2=len(Y)-1\n",
    "    #print(wksp,len(Y),index1,index2)\n",
    "    while index1 < len(Y)-1:\n",
    "        if( not np.isfinite(Y[index1]) ):\n",
    "            index1 +=1\n",
    "        else:\n",
    "            break\n",
    "#\n",
    "    while index2 > 0:\n",
    "        if( not np.isfinite(Y[index2]) ):\n",
    "            index2 -=1\n",
    "        else:\n",
    "            break\n",
    "    # all nan's e.g. i1=0, i2=68, becomes i1=68, i2=0 \n",
    "    #print(wksp,len(Y),index1,index2)\n",
    "    # this does not work as StartWorkspaceIndex is expected to be a spectrum number!\n",
    "    #CropWorkspace(InputWorkspace=wksp,OutputWorkspace=wksp+'_crop',StartWorkspaceIndex=index1, EndWorkspaceIndex=index2)\n",
    "    # so now we need the X values also\n",
    "    # note this is a pseudo histogram, Y vales are distribution if this is reduced I(Q), but X values are bin boundaries\n",
    "    #\n",
    "    if( index2 >= index1):\n",
    "        CropWorkspace(InputWorkspace=wksp,OutputWorkspace=wksp,XMin=X[index1], XMax=X[index2+1] )\n",
    "    else:\n",
    "        # try rebin to a single large bin, Qmin, Qstep, Qmax, then set result to zero\n",
    "        # this gives a workspace with one Y value, two X values, can do \"show data\" on it BUT it won't plot !\n",
    "        rebinstring=str(X[0])+','+str(X[-1]-X[0])+','+str(X[-1])\n",
    "        print(wksp,' is empty rebin and set zero, Q=',rebinstring)\n",
    "        Rebin(InputWorkspace=wksp,OutputWorkspace=wksp,Params=rebinstring)\n",
    "        # alas,  nan * 0.0 = nan, setY seems not to work for histogram ???\n",
    "        #Scale(InputWorkspace=wksp,OutputWorkspace=wksp,Operation='Multiply',Factor=0.0)\n",
    "        ReplaceSpecialValues(InputWorkspace=wksp,OutputWorkspace=wksp,NaNValue=0.0,NaNError=0.0,InfinityValue=0.0,InfinityError=0.0)\n",
    "\n",
    "\n",
    "def reduce(rebinall0,name,wlist,wstep,qbins,monitor,solidanglecorr,wavadj0,wavpixeladj00,saveNumDen):\n",
    "    print(rebinall0,name,wlist,wstep,qbins,monitor,solidanglecorr,wavadj0,wavpixeladj00,saveNumDen)\n",
    "    out=[]\n",
    "    if (saveNumDen > 0):\n",
    "        parts=True\n",
    "    else:\n",
    "        parts=False\n",
    "    # DONE: assume that all input data is already in correct and matching wavelength bins\n",
    "    # OOPS 27/1/22  if data is in e.g. 2 to 13 Ang, but call here with wlist=[5.0,7.0] the rebin is not being done!, whilst wlist=[2.0,13.0] would be OK\n",
    "    # I had cut this out to save yet another clone of the data\n",
    "    # TODO: if calling this multiple times with same data & wlist, could rebin the SANS data into slices just the first time.\n",
    "    #       i.e. write another version that uses pre-sliced SANS data\n",
    "    # 27/1/22 put back the monitor rebin, should be quick\n",
    "    # TODO: ought really also to check the wav range of monitor and wavadj0 \n",
    "    Rebin(InputWorkspace=monitor, OutputWorkspace='waveadjall', Params=str(wlist[0])+','+str(wstep)+','+str(wlist[-1]) )\n",
    "    if(wavadj0 != 'None'):\n",
    "        waveadjall2 = CloneWorkspace(wavadj0)\n",
    "        RebinToWorkspace(WorkspaceToRebin=waveadjall2,WorkspaceToMatch='waveadjall', OutputWorkspace='waveadjall2')\n",
    "        waveadjall = Multiply(LHSWorkspace='waveadjall',RHSWorkspace='waveadjall2')\n",
    "    wavadjname='waveadjall'\n",
    "    #\n",
    "    # 27/1/22 now check the wavelength range of the input data, clone & rebin if needed  \n",
    "    x_values=mtd[rebinall0].readX(0)\n",
    "    #print('wav range data =',x_values)\n",
    "    rebinall = rebinall0\n",
    "    if (x_values[0] != wlist[0] or x_values[-1] != wlist[-1]):\n",
    "        if(wlist[0] < x_values[0] or wlist[-1] > x_values[-1]):\n",
    "            # TODO: find out how to flag proper error\n",
    "            print('*** ERROR *** - data wavelength mis-match wlist ',wlist[0],' to ',wlist[-1],'  data ',x_values[0],' to ',x_values[-1])\n",
    "            name1 = name+'_Q1D_'+str(wlist[0])+'_'+str(wlist[-1])+'_ERROR_wav'\n",
    "            wksptemp=CreateWorkspace(DataX=[0.0,1000.0], DataY=[0.0], UnitX=\"MomentumTransfer\",Distribution=True)\n",
    "            RenameWorkspace( InputWorkspace='wksptemp',OutputWorkspace=name1)\n",
    "            out.append(name1)\n",
    "            return out\n",
    "            # note if you just carry on the \"extrapolated\" data from the rebin will have simply been set to zero!\n",
    "        Rebin(InputWorkspace=rebinall0, OutputWorkspace='rebinall', Params=str(wlist[0])+','+str(wstep)+','+str(wlist[-1]), PreserveEvents=False)\n",
    "        rebinall='rebinall'\n",
    "    # Note also that Q1D runs parallel code if multiple cpu are present.\n",
    "    nslice=len(wlist)-1\n",
    "    #\n",
    "    # 27/1/22 check wavelength range of wavpixeladj, clone & rebin if needed\n",
    "    wavpixeladj0 = wavpixeladj00\n",
    "    if (wavpixeladj00 != 'None'):\n",
    "        x_values=mtd[wavpixeladj00].readX(0)\n",
    "        #print('wav range wavpixeladj00 =',x_values)\n",
    "        if (x_values[0] != wlist[0] or x_values[-1] != wlist[-1]):\n",
    "            if(wlist[0] < x_values[0] or wlist[-1] > x_values[-1]):\n",
    "                # TODO: find out how to flag proper error\n",
    "                print('*** ERROR *** - wavpixleadj wavelength mis-match wlist ',wlist[0],' to ',wlist[-1],'  data ',x_values[0],' to ',x_values[-1])\n",
    "                name1 = name+'_Q1D_'+str(wlist[0])+'_'+str(wlist[-1])+'_ERROR_wav'\n",
    "                wksptemp=CreateWorkspace(DataX=[0.0,1000.0], DataY=[0.0], UnitX=\"MomentumTransfer\",Distribution=True)\n",
    "                RenameWorkspace( InputWorkspace='wksptemp',OutputWorkspace=name1)\n",
    "                out.append(name1)\n",
    "                return out\n",
    "            Rebin(InputWorkspace=wavpixeladj00, OutputWorkspace='wavpixeladj0', Params=str(wlist[0])+','+str(wstep)+','+str(wlist[-1]) )\n",
    "            wavpixeladj0 = 'wavpixeladj0'\n",
    "\n",
    "    name1 = name+'_Q1D_0_'+str(wlist[0])+'_'+str(wlist[-1])\n",
    "    out.append(name1)\n",
    "    for i in range(0, nslice):\n",
    "        Rebin(InputWorkspace=wavadjname, OutputWorkspace='waveadjslice', Params=str(wlist[i])+','+str(wstep)+','+str(wlist[i+1]) )\n",
    "        # try redundant clone here\n",
    "        #rebinall=CloneWorkspace(rebinall0)\n",
    "        Rebin(InputWorkspace=rebinall, OutputWorkspace='rebinslice', Params=str(wlist[i])+','+str(wstep)+','+str(wlist[i+1]), PreserveEvents=False)\n",
    "        name2 = name+'_Q1D_'+str(i+1)+'_'+str(wlist[i])+'_'+str(wlist[i+1])\n",
    "        out.append(name2)\n",
    "        #TODO:  tried passing None (without any quotes) but could not get it to work, so avoid the issue here  with this if else ......\n",
    "        if (wavpixeladj0 != 'None'):\n",
    "                print(\"################### Reduction with wavpixeladj00\")\n",
    "                Rebin(InputWorkspace=wavpixeladj0, OutputWorkspace='wavpixeladjslice', Params=str(wlist[i])+','+str(wstep)+','+str(wlist[i+1]) )\n",
    "                Q1D(DetBankWorkspace='rebinslice', OutputWorkspace=name2, OutputBinning=qbins, WavelengthAdj='waveadjslice',WavePixelAdj='wavpixeladjslice', SolidAngleWeighting=solidanglecorr, OutputParts=True)\n",
    "        else:\n",
    "                print(\"################### Reduction without wavpixeladj00\")\n",
    "                Q1D(DetBankWorkspace='rebinslice', OutputWorkspace=name2, OutputBinning=qbins, WavelengthAdj='waveadjslice',WavePixelAdj=None, SolidAngleWeighting=solidanglecorr, OutputParts=True)\n",
    "\n",
    "        # sum numerator & denominator for the full wavelength range\n",
    "        if (i==0):\n",
    "                CloneWorkspace(InputWorkspace=name2 +'_sumOfCounts', OutputWorkspace='summedSumCounts')\n",
    "                CloneWorkspace(InputWorkspace=name2 +'_sumOfNormFactors', OutputWorkspace='summedSumNorm')\n",
    "        else:\n",
    "                Plus(LHSWorkspace='summedSumCounts',RHSWorkspace=name2 +'_sumOfCounts',OutputWorkspace='summedSumCounts')\n",
    "                Plus(LHSWorkspace='summedSumNorm',RHSWorkspace=name2 + '_sumOfNormFactors',OutputWorkspace='summedSumNorm')\n",
    "                   \n",
    "        if(parts==False):\n",
    "                DeleteWorkspace(name2 +'_sumOfCounts')\n",
    "                DeleteWorkspace(name2 +'_sumOfNormFactors')\n",
    "\n",
    "            #crop_the_nans(name2)\n",
    "            \n",
    "        \n",
    "        Divide(LHSWorkspace='summedSumCounts',RHSWorkspace='summedSumNorm',OutputWorkspace=name1)\n",
    "\n",
    "    return out\n",
    "\n",
    "def reducesamcan(run,can,string,wlist,wstep,qbins,monitor_run,monitor_can,\n",
    "                 solidanglecorr,wavadj0,wavpixeladjname,saveNumDen):\n",
    "    \n",
    "    out2 = reduce(run,string,wlist,wstep,qbins,monitor_run,solidanglecorr,wavadj0,wavpixeladjname,saveNumDen)\n",
    "    out3 = reduce(can,string+'_can',wlist,wstep,qbins,monitor_can,solidanglecorr,wavadj0,wavpixeladjname,saveNumDen)\n",
    "    \n",
    "    nslice=len(wlist)-1\n",
    "    tag='_'\n",
    "    if(nslice > 1):\n",
    "        tag='_0_'\n",
    "    name1=string   # e.g. sample_wp\n",
    "    name2='_Q1D'+tag+str(wlist[0])+'_'+str(wlist[-1])\n",
    "    #TODO: ought to use the actual names returned in say out3 then replace _can by _sc, then would not have to presume the naming convention\n",
    "    sam = name1 + name2\n",
    "    can = name1+'_can'+name2\n",
    "    sc = name1+'_sc'+name2\n",
    "    # might even need to tediously check the actual Q range here, or rebin can to match sample ?\n",
    "    substracted_wksp = Subtract(LHSWorkspace=sam,RHSWorkspace=can,OutputWorkspace=sc)\n",
    "    out=[]\n",
    "    scipp_wksps = []\n",
    "    out.append(sc)\n",
    "    scipp_wksps.append(scn.from_mantid(substracted_wksp))\n",
    "    if (nslice > 1):\n",
    "        for i in range(0, nslice):\n",
    "            name2='_Q1D_'+str(i+1)+'_'+str(wlist[i])+'_'+str(wlist[i+1])\n",
    "            sam = name1 + name2\n",
    "            can = name1+'_can'+name2\n",
    "            sc = name1+'_sc'+name2\n",
    "            # might even need to tediously check the actual Q range here\n",
    "            substracted_wksp = Subtract(LHSWorkspace=sam,RHSWorkspace=can,OutputWorkspace=sc)\n",
    "            scipp_wksps.append(scn.from_mantid(substracted_wksp))\n",
    "            out.append(sc)\n",
    "    return out, scipp_wksps\n",
    "\n"
   ]
  },
  {
   "cell_type": "code",
   "execution_count": null,
   "id": "86f0ebf3-08ed-4be6-8e1b-ddae68179ae5",
   "metadata": {},
   "outputs": [],
   "source": [
    "masklist_edge=['mask_new_July2022']\n",
    "masklist_straws=['mask_straws']\n",
    "\n",
    "wavpixeladjname = 'flat_g4'\n",
    "\n",
    "wlist = [2.2, 3.2, 3.8, 4.4, 5.0, 6.0, 7.0, 8.0, 9.0, 10.5, 12]\n",
    "wlist = [2.2,12]\n",
    "wlist = [2.2 ,  3.18,  4.16,  5.14,  6.12,  7.1 ,  8.08,  9.06, 10.04, 11.02, 12.0]\n",
    "wlist = [2.2,  3.6,  5. ,  6.4,  7.8,  9.2, 10.6, 12.]\n",
    "\n",
    "wstep = 0.2\n",
    "saveNumDen = 1\n",
    "qbins = '0.004,0.0036,0.4'\n",
    "xcen = -0.0035\n",
    "ycen = -0.0035\n",
    "\n",
    "# x_offset = 0.028 * sc.units.m\n",
    "# y_offset = 0.01195 * sc.units.m\n",
    "\n",
    "user_path = \"/Users/wojciechpotrzebowski/SCIPP_SPACE/direct_beam_iterations_2023/\"\n",
    "filepath = user_path\n",
    "filepath_data = user_path\n",
    "\n",
    "idf_file = 'LOKI_test.xml'\n",
    "solidanglecorr = False\n",
    "\n",
    "#########Loading direct beam\n",
    "filename = \"flat_g4_final_15Jun23_10-17.nxs\"  # Latest draft with all layers corrected, need to work on that\n",
    "filename2 = 'realSetupFloodSource_rearBankLarmor_000000to199999_mcstas_new.nxs'  # new flood source - might be the wrong sample to use here 09/11/22\n",
    "getsimuldata('flat_g4', filename, filename2, filepath, filepath_data, idf_file, wlist, wstep, xcen, ycen,\n",
    "                 'monitor_flat')\n",
    "\n",
    "\n",
    "###########\n",
    "filename = '60395-mantid-add.nxs'\n",
    "trans_runnumber = '60394'\n",
    "MT_trans_runnumber = '60392'\n",
    "\n",
    "getrealdata('sample', filename, trans_runnumber, filepath, filepath_data, idf_file, wlist, wstep, xcen, ycen,\n",
    "                'sample_monitor', 'sample_trans')\n",
    "\n",
    "\n",
    "#########\n",
    "filename='60393-mantid-add.nxs'\n",
    "trans_runnumber = '60392'\n",
    "MT_trans_runnumber = '60392'\n",
    "\n",
    "#JH: Load can, e.g. background. (same can for all the samples we measured.)\n",
    "getrealdata('can', filename, trans_runnumber, filepath, filepath_data, idf_file,wlist,wstep,xcen, ycen,'can_monitor', 'can_trans')\n",
    "\n",
    "#TODO: Why this is dome for reduction?\n",
    "sample_monratio=Divide('sample_monitor','monitor_flat')\n",
    "sample_wavadj=Multiply('sample_monratio','sample_trans')\n",
    "\n",
    "can_monratio=Divide('can_monitor','monitor_flat')\n",
    "can_wavadj=Multiply('can_monratio','can_trans')\n",
    "\n",
    "\n",
    "out, scipp_wksps =reducesamcan('sample','can','ISIS_polymer' \n",
    "                               ,wlist,wstep,qbins,'sample_wavadj','can_wavadj',\n",
    "                               solidanglecorr,'None',wavpixeladjname,saveNumDen)\n",
    "\n",
    "#No solid angle neither direct beam\n",
    "# out, scipp_wksps =reducesamcan('sample','can','ISIS_polymer' \n",
    "#                                ,wlist,wstep,qbins,'sample_wavadj','can_wavadj',\n",
    "#                                solidanglecorr,'None','None',saveNumDen)\n",
    "\n"
   ]
  },
  {
   "cell_type": "code",
   "execution_count": null,
   "id": "1967fe58-e51b-42b3-97b9-91bbdaac62e3",
   "metadata": {},
   "outputs": [],
   "source": [
    "mantid_slice_1  = scn.from_mantid(mtd['ISIS_polymer_Q1D_1_2.2_3.6'])['data']\n",
    "sc.plot({'scipp 2.2-3.6 Å': result_slices['wavelength', 0], \n",
    "         'mantid 2.2-3.6 Å' : mantid_slice_1})"
   ]
  },
  {
   "cell_type": "code",
   "execution_count": null,
   "id": "be1b0330-ef94-4592-837a-fc98c509b1c1",
   "metadata": {},
   "outputs": [],
   "source": [
    "mantid_slice_2  = scn.from_mantid(mtd['ISIS_polymer_Q1D_2_3.6_5.0'])['data']\n",
    "sc.plot({'scipp slice': result_slices['wavelength', 1], \n",
    "         'mantid slice' : mantid_slice_2})"
   ]
  },
  {
   "cell_type": "code",
   "execution_count": null,
   "id": "11cd44df-7692-4df8-99db-d21e77a4f113",
   "metadata": {},
   "outputs": [],
   "source": [
    "mantid_slice_3  = scn.from_mantid(mtd['ISIS_polymer_Q1D_3_5.0_6.4'])['data']\n",
    "sc.plot({'scipp 5.0-6.4 Å': result_slices['wavelength', 2], \n",
    "         'mantid 5.0-6.4 Å' : mantid_slice_3})"
   ]
  },
  {
   "cell_type": "code",
   "execution_count": null,
   "id": "f3a1078c-9a11-456c-91fa-e6a9e65ebbae",
   "metadata": {},
   "outputs": [],
   "source": [
    "mantid_slice_4  = scn.from_mantid(mtd['ISIS_polymer_Q1D_4_6.4_7.8'])['data']\n",
    "sc.plot({'scipp 6.4-7.8 Å': result_slices['wavelength', 3], \n",
    "         'mantid 6.4-7.8 Å' : mantid_slice_4})"
   ]
  },
  {
   "cell_type": "code",
   "execution_count": null,
   "id": "0cbd6d31-2d95-4454-8f4e-42beeaa2f292",
   "metadata": {},
   "outputs": [],
   "source": [
    "mantid_slice_5  = scn.from_mantid(mtd['ISIS_polymer_Q1D_5_7.8_9.2'])['data']\n",
    "sc.plot({'scipp slice': result_slices['wavelength', 4], \n",
    "         'mantid slice' : mantid_slice_5})"
   ]
  },
  {
   "cell_type": "code",
   "execution_count": null,
   "id": "fc0def29-9f40-4a7a-b1bf-4c0a29836dc4",
   "metadata": {},
   "outputs": [],
   "source": [
    "mantid_slice_6  = scn.from_mantid(mtd['ISIS_polymer_Q1D_6_9.2_10.6'])['data']\n",
    "sc.plot({'scipp slice': result_slices['wavelength', 5], \n",
    "         'mantid slice' : mantid_slice_6})"
   ]
  },
  {
   "cell_type": "code",
   "execution_count": null,
   "id": "df414563-64b6-44f7-99b0-914e78bef549",
   "metadata": {},
   "outputs": [],
   "source": [
    "mantid_slice_7  = scn.from_mantid(mtd['ISIS_polymer_Q1D_7_10.6_12.0'])['data']\n",
    "sc.plot({'scipp 10.6-12 Å': result_slices['wavelength', 6], \n",
    "         'mantid 10.6-12 Å' : mantid_slice_7})"
   ]
  },
  {
   "cell_type": "code",
   "execution_count": null,
   "id": "1edba1ce-d16b-494b-8c6e-82cfd6b00df0",
   "metadata": {
    "scrolled": true
   },
   "outputs": [],
   "source": [
    "mantid_result = scn.from_mantid(mtd['ISIS_polymer_Q1D_0_2.2_12.0'])['data']\n",
    "mantid_result.unit = 'counts'\n",
    "sc.plot({'scipp 2.2-12Å': result, 'mantid 2.2-12Å': mantid_result})"
   ]
  },
  {
   "cell_type": "markdown",
   "id": "122de674-1942-4921-bbd5-517b58856b55",
   "metadata": {},
   "source": [
    "## Saving to file\n",
    "Finally we save reduced data to file using NxCanSAS format (scippnexus) and Mantid mechanism"
   ]
  },
  {
   "cell_type": "code",
   "execution_count": null,
   "id": "6ae8ae50-2921-4522-99a7-b9aac0e8664c",
   "metadata": {},
   "outputs": [],
   "source": [
    "import scippnexus.v2 as snx\n",
    "from scippnexus.v2.application_definitions import nxcansas\n",
    "\n",
    "#esult.coords['Q'] = sc.midpoints(result.coords['Q'])\n",
    "# mantid_result.coords['Q'] = sc.midpoints(mantid_result.coords['Q'])\n",
    "\n",
    "# with snx.File('ISIS_polymer_Q1D_0_2.2_12.0_no_solid_angle.nxs', 'w') as f:\n",
    "#     f['sasentry'] = nxcansas.SASentry(title='ISIS_polymer_Q1D_0_2.2_12.0', run=63114)\n",
    "#     f['sasentry']['sasdata'] = nxcansas.SASdata(mantid_result, Q_variances='resolutions')\n",
    "\n",
    "with snx.File('ISIS_polymer_scipp_no_solid_angle.nxs', 'w') as f:\n",
    "     f['sasentry'] = nxcansas.SASentry(title='ISIS_polymer_scipp', run=63114)\n",
    "     f['sasentry']['sasdata'] = nxcansas.SASdata(result, Q_variances='resolutions')"
   ]
  },
  {
   "cell_type": "code",
   "execution_count": null,
   "id": "025651b9-5044-498b-886c-38050b7d7da9",
   "metadata": {},
   "outputs": [],
   "source": [
    "SaveNexus(mtd['ISIS_polymer_Q1D_0_2.2_12.0'], 'ISIS_polymer_mantid_no_solid_angle.nxs')"
   ]
  },
  {
   "cell_type": "code",
   "execution_count": null,
   "id": "4bcac23c-6e86-4e79-be90-234a9a048083",
   "metadata": {},
   "outputs": [],
   "source": []
  }
 ],
 "metadata": {
  "kernelspec": {
   "display_name": "Python 3 (ipykernel)",
   "language": "python",
   "name": "python3"
  },
  "language_info": {
   "codemirror_mode": {
    "name": "ipython",
    "version": 3
   },
   "file_extension": ".py",
   "mimetype": "text/x-python",
   "name": "python",
   "nbconvert_exporter": "python",
   "pygments_lexer": "ipython3",
   "version": "3.8.17"
  }
 },
 "nbformat": 4,
 "nbformat_minor": 5
}
