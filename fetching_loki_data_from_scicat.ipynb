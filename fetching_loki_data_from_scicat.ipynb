{
 "cells": [
  {
   "cell_type": "markdown",
   "id": "40e04f51-a0d9-44aa-a014-c6106840b46b",
   "metadata": {},
   "source": [
    "### Fetching files from scicat\n",
    "The notebook demonstrates how to download files from staging server from scicat"
   ]
  },
  {
   "cell_type": "code",
   "execution_count": null,
   "id": "c8056bf2-bd2e-4fda-b4ad-004b127c466e",
   "metadata": {},
   "outputs": [],
   "source": [
    "import requests\n",
    "import scitacean\n",
    "from scitacean import Client\n",
    "from scitacean.transfer.sftp import SFTPFileTransfer\n",
    "import json\n",
    "import urllib"
   ]
  },
  {
   "cell_type": "code",
   "execution_count": null,
   "id": "77be9b91-6b2f-429d-8bb4-c92b80a7a7b7",
   "metadata": {},
   "outputs": [],
   "source": [
    "def connect(host, port):\n",
    "    from paramiko import SSHClient, AutoAddPolicy\n",
    "\n",
    "    client = SSHClient()\n",
    "    client.load_system_host_keys()\n",
    "    client.set_missing_host_key_policy(AutoAddPolicy())\n",
    "    client.connect(\n",
    "        hostname=host, \n",
    "        username=ess_username,\n",
    "        key_filename=ssh_key_file_name,\n",
    "        timeout=1\n",
    "    )\n",
    "    return client.open_sftp()"
   ]
  },
  {
   "cell_type": "code",
   "execution_count": null,
   "id": "9812ec19-6e0d-407b-b6a1-2eef359014cd",
   "metadata": {},
   "outputs": [],
   "source": [
    "scicat_url = \"https://staging.scicat.ess.eu/api/v3/\"\n",
    "fullquery_url = scicat_url + \"datasets/fullquery\"\n",
    "\n",
    "scicat_token = \"<your scicat token>\"\n",
    "ess_username = \"\"\n",
    "ssh_key_file_name = \"\""
   ]
  },
  {
   "cell_type": "code",
   "execution_count": null,
   "id": "d770a36e-ccb1-4315-b2ff-c3ba62c48a67",
   "metadata": {},
   "outputs": [],
   "source": [
    "transmission_run_number = 60394"
   ]
  },
  {
   "cell_type": "code",
   "execution_count": null,
   "id": "f3d0d9e9-0455-4139-b1ca-cc0fa1edb866",
   "metadata": {},
   "outputs": [],
   "source": [
    "query_parameters = {\n",
    "    \"keywords\":[\n",
    "        \"Calibrated nexus Data\"\n",
    "    ],\n",
    "    \"scientific\":[\n",
    "        {\n",
    "            \"lhs\":\"trans id\",\n",
    "            \"relation\":\"EQUAL_TO_NUMERIC\",\n",
    "            \"rhs\":transmission_run_number,\n",
    "            \"unit\":\"\"\n",
    "        }\n",
    "    ]\n",
    "}"
   ]
  },
  {
   "cell_type": "code",
   "execution_count": null,
   "id": "92f7de4e-514d-4c49-ac09-f14d1fe01c7d",
   "metadata": {},
   "outputs": [],
   "source": [
    "client = Client.from_token(\n",
    "    url=scicat_url,\n",
    "    token=scicat_token,\n",
    "    file_transfer=SFTPFileTransfer(\n",
    "        host=\"login.esss.dk\",\n",
    "        connect=connect\n",
    "    )\n",
    ")"
   ]
  },
  {
   "cell_type": "code",
   "execution_count": null,
   "id": "8d39f39d-ece9-404c-8d9a-eb47dafe3791",
   "metadata": {},
   "outputs": [],
   "source": [
    "res = requests.get(\n",
    "    fullquery_url,\n",
    "    params='fields=' + query_parameters_encoded,\n",
    "    headers= {\n",
    "        \"Authorization\" : \"Bearer \" + scicat_token,\n",
    "        \"Content-Type\" : \"application/json\"\n",
    "    }\n",
    ")"
   ]
  },
  {
   "cell_type": "code",
   "execution_count": null,
   "id": "25c8e39f-ce72-4a4e-b2ab-975f3631fd5a",
   "metadata": {},
   "outputs": [],
   "source": [
    "query_parameters_encoded = urllib.parse.quote(json.dumps(query_parameters))"
   ]
  },
  {
   "cell_type": "code",
   "execution_count": null,
   "id": "5ffb2621-0c0d-481e-a74b-ab162e9ff9d9",
   "metadata": {},
   "outputs": [],
   "source": [
    "datasets = res.json()\n",
    "pid = datasets[0]['pid']\n",
    "dataset = client.get_dataset(pid)\n",
    "trans_file_name = dataset.files[-1].remote_path.name"
   ]
  },
  {
   "cell_type": "code",
   "execution_count": null,
   "id": "0a50f30f-79a6-419d-9bc7-0e11ed53ec6f",
   "metadata": {},
   "outputs": [],
   "source": [
    "dataset = client.dowtrans_file_local_path = str(dataset.files[-1].local_path.absolute())\n",
    "trans_file_local_path = str(dataset.files[-1].local_path.absolute())"
   ]
  }
 ],
 "metadata": {
  "kernelspec": {
   "display_name": "Python 3 (ipykernel)",
   "language": "python",
   "name": "python3"
  },
  "language_info": {
   "codemirror_mode": {
    "name": "ipython",
    "version": 3
   },
   "file_extension": ".py",
   "mimetype": "text/x-python",
   "name": "python",
   "nbconvert_exporter": "python",
   "pygments_lexer": "ipython3",
   "version": "3.8.17"
  }
 },
 "nbformat": 4,
 "nbformat_minor": 5
}
